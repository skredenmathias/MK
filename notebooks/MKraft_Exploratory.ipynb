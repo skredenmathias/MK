{
 "cells": [
  {
   "cell_type": "code",
   "execution_count": 126,
   "metadata": {
    "id": "LnQYXUQZwPRg"
   },
   "outputs": [],
   "source": [
    "# Import statements\n",
    "\n",
    "import pandas as pd\n",
    "import numpy as np\n",
    "import seaborn as sns\n",
    "from sklearn import metrics"
   ]
  },
  {
   "cell_type": "markdown",
   "metadata": {
    "id": "4ZUVV9qMwQBU"
   },
   "source": [
    "# Import data"
   ]
  },
  {
   "cell_type": "code",
   "execution_count": 12,
   "metadata": {},
   "outputs": [],
   "source": [
    "DATA_PATH = '../data/'"
   ]
  },
  {
   "cell_type": "code",
   "execution_count": 13,
   "metadata": {
    "id": "jgrKddLP3AlX"
   },
   "outputs": [],
   "source": [
    "df = pd.read_csv(DATA_PATH + 'log_data_and_log_text_10k.csv')"
   ]
  },
  {
   "cell_type": "code",
   "execution_count": 14,
   "metadata": {
    "id": "SPNPR4KBGX_C"
   },
   "outputs": [],
   "source": [
    "df_100 = pd.read_csv(DATA_PATH + 'log_data_and_log_text_100k.csv')"
   ]
  },
  {
   "cell_type": "code",
   "execution_count": 15,
   "metadata": {
    "colab": {
     "base_uri": "https://localhost:8080/",
     "height": 338
    },
    "id": "qIzA17Wt3Bba",
    "outputId": "d03c3d1e-2c2a-490d-ab0e-82aebf1c53d2"
   },
   "outputs": [
    {
     "data": {
      "text/html": [
       "<div>\n",
       "<style scoped>\n",
       "    .dataframe tbody tr th:only-of-type {\n",
       "        vertical-align: middle;\n",
       "    }\n",
       "\n",
       "    .dataframe tbody tr th {\n",
       "        vertical-align: top;\n",
       "    }\n",
       "\n",
       "    .dataframe thead th {\n",
       "        text-align: right;\n",
       "    }\n",
       "</style>\n",
       "<table border=\"1\" class=\"dataframe\">\n",
       "  <thead>\n",
       "    <tr style=\"text-align: right;\">\n",
       "      <th></th>\n",
       "      <th>17550413</th>\n",
       "      <th>2020-10-18 04:28:14.113</th>\n",
       "      <th>PriceCalcWs</th>\n",
       "      <th>3</th>\n",
       "      <th>135</th>\n",
       "      <th>SOAP request processed</th>\n",
       "      <th>0x30343A32383A31342E3135333A204665746368696E672064617461207769746820746F6B656E206F66202235346261633962652D336633622D343139382D393934622D6366303833643637376132662220616E6420726567696F6E206F662022444B31222E0D0A30343A32383A31342E3239333A2052657475726E696E6720393920726F77732E</th>\n",
       "      <th>04:28:14.153: Fetching data with token of \"54bac9be-3f3b-4198-994b-cf083d677a2f\" and region of \"DK1\". 04:28:14.293: Returning 99 rows.</th>\n",
       "    </tr>\n",
       "  </thead>\n",
       "  <tbody>\n",
       "    <tr>\n",
       "      <th>0</th>\n",
       "      <td>16631685</td>\n",
       "      <td>2020-08-19 00:36:09.640</td>\n",
       "      <td>PriceCalc</td>\n",
       "      <td>3</td>\n",
       "      <td>22942.0</td>\n",
       "      <td>PriceCalc finished in 8 seconds.</td>\n",
       "      <td>0x3C68746D6C3E3C686561643E3C6C696E6B2072656C3D...</td>\n",
       "      <td>&lt;html&gt;&lt;head&gt;&lt;link rel=\"StyleSheet\" href=\"Style...</td>\n",
       "    </tr>\n",
       "  </tbody>\n",
       "</table>\n",
       "</div>"
      ],
      "text/plain": [
       "   17550413  2020-10-18 04:28:14.113 PriceCalcWs  3      135  \\\n",
       "0  16631685  2020-08-19 00:36:09.640   PriceCalc  3  22942.0   \n",
       "\n",
       "             SOAP request processed  \\\n",
       "0  PriceCalc finished in 8 seconds.   \n",
       "\n",
       "  0x30343A32383A31342E3135333A204665746368696E672064617461207769746820746F6B656E206F66202235346261633962652D336633622D343139382D393934622D6366303833643637376132662220616E6420726567696F6E206F662022444B31222E0D0A30343A32383A31342E3239333A2052657475726E696E6720393920726F77732E  \\\n",
       "0  0x3C68746D6C3E3C686561643E3C6C696E6B2072656C3D...                                                                                                                                                                                                                                 \n",
       "\n",
       "  04:28:14.153: Fetching data with token of \"54bac9be-3f3b-4198-994b-cf083d677a2f\" and region of \"DK1\". 04:28:14.293: Returning 99 rows.  \n",
       "0  <html><head><link rel=\"StyleSheet\" href=\"Style...                                                                                      "
      ]
     },
     "execution_count": 15,
     "metadata": {},
     "output_type": "execute_result"
    }
   ],
   "source": [
    "df.head(1)"
   ]
  },
  {
   "cell_type": "code",
   "execution_count": 16,
   "metadata": {
    "id": "VpCTgTS10TNv"
   },
   "outputs": [],
   "source": [
    "# Read CSV into pandas dataframe\n",
    "# Bad EOF error due to extra quotemark\n",
    "# Also many lines contain excess fields\n",
    "# These issues were not present during initial load.\n",
    "\n",
    "# import csv\n",
    "# df = pd.read_csv('log_data_and_log_text_10k.csv', quoting=3, error_bad_lines=False)"
   ]
  },
  {
   "cell_type": "markdown",
   "metadata": {
    "id": "0h2z06jE5LyU"
   },
   "source": [
    "# Data cleaning #1"
   ]
  },
  {
   "cell_type": "markdown",
   "metadata": {
    "id": "b-2nvOBb38pp"
   },
   "source": [
    "log_ID: Unik automatisk ID\n",
    "\n",
    "log_Date: Tidspunkt for log entry\n",
    "\n",
    "log_Application: Unik tekst per applikasjon\n",
    "\n",
    "Hva er Log_AttLen?\n",
    "\n",
    "lvl_ID: Referer til dbo.LogLevel\n",
    "\n",
    "log_Text: Overskrift for log\n",
    "\n",
    "log_Data: En VARBINARY(MAX) blob men inneholder uten unntak bare text og kan \n",
    "\n",
    "castes direkte til VARCHAR(MAX)."
   ]
  },
  {
   "cell_type": "markdown",
   "metadata": {
    "id": "gJLgi-azz0Mg"
   },
   "source": [
    "## Fix column headers"
   ]
  },
  {
   "cell_type": "code",
   "execution_count": 17,
   "metadata": {
    "id": "-Ftd9oUP1H1j"
   },
   "outputs": [],
   "source": [
    "# add column headers\n",
    "df.columns = ['log_id',\n",
    "              'log_date',\n",
    "              'log_application',\n",
    "              'lvl_id',\n",
    "              'log_attlen',\n",
    "              'log_text',\n",
    "              'log_data',\n",
    "              'text_data']"
   ]
  },
  {
   "cell_type": "code",
   "execution_count": 18,
   "metadata": {
    "id": "1VIU3XAfGjst"
   },
   "outputs": [],
   "source": [
    "df_100.columns = ['log_id',\n",
    "              'log_date',\n",
    "              'log_application',\n",
    "              'lvl_id',\n",
    "              'log_attlen',\n",
    "              'log_text',\n",
    "              'log_data',\n",
    "              'text_data']"
   ]
  },
  {
   "cell_type": "code",
   "execution_count": 19,
   "metadata": {
    "colab": {
     "base_uri": "https://localhost:8080/",
     "height": 204
    },
    "id": "6O5Q5mWe04am",
    "outputId": "195ea06a-c916-43d5-9877-8bb85b66cd76"
   },
   "outputs": [
    {
     "data": {
      "text/html": [
       "<div>\n",
       "<style scoped>\n",
       "    .dataframe tbody tr th:only-of-type {\n",
       "        vertical-align: middle;\n",
       "    }\n",
       "\n",
       "    .dataframe tbody tr th {\n",
       "        vertical-align: top;\n",
       "    }\n",
       "\n",
       "    .dataframe thead th {\n",
       "        text-align: right;\n",
       "    }\n",
       "</style>\n",
       "<table border=\"1\" class=\"dataframe\">\n",
       "  <thead>\n",
       "    <tr style=\"text-align: right;\">\n",
       "      <th></th>\n",
       "      <th>log_id</th>\n",
       "      <th>log_date</th>\n",
       "      <th>log_application</th>\n",
       "      <th>lvl_id</th>\n",
       "      <th>log_attlen</th>\n",
       "      <th>log_text</th>\n",
       "      <th>log_data</th>\n",
       "      <th>text_data</th>\n",
       "    </tr>\n",
       "  </thead>\n",
       "  <tbody>\n",
       "    <tr>\n",
       "      <th>0</th>\n",
       "      <td>16631685</td>\n",
       "      <td>2020-08-19 00:36:09.640</td>\n",
       "      <td>PriceCalc</td>\n",
       "      <td>3</td>\n",
       "      <td>22942.0</td>\n",
       "      <td>PriceCalc finished in 8 seconds.</td>\n",
       "      <td>0x3C68746D6C3E3C686561643E3C6C696E6B2072656C3D...</td>\n",
       "      <td>&lt;html&gt;&lt;head&gt;&lt;link rel=\"StyleSheet\" href=\"Style...</td>\n",
       "    </tr>\n",
       "    <tr>\n",
       "      <th>1</th>\n",
       "      <td>17550414</td>\n",
       "      <td>2020-10-18 04:28:15.283</td>\n",
       "      <td>PriceCalcWs</td>\n",
       "      <td>3</td>\n",
       "      <td>135.0</td>\n",
       "      <td>SOAP request processed</td>\n",
       "      <td>0x30343A32383A31352E3337313A204665746368696E67...</td>\n",
       "      <td>04:28:15.371: Fetching data with token of \"54b...</td>\n",
       "    </tr>\n",
       "    <tr>\n",
       "      <th>2</th>\n",
       "      <td>17550415</td>\n",
       "      <td>2020-10-18 04:28:17.410</td>\n",
       "      <td>PriceCalcWs</td>\n",
       "      <td>3</td>\n",
       "      <td>169.0</td>\n",
       "      <td>SOAP request processed</td>\n",
       "      <td>0x30343A32383A31372E3439363A2052657475726E696E...</td>\n",
       "      <td>04:28:17.496: Returning 99 rows. 04:28:17.496:...</td>\n",
       "    </tr>\n",
       "    <tr>\n",
       "      <th>3</th>\n",
       "      <td>17550416</td>\n",
       "      <td>2020-10-18 04:28:17.460</td>\n",
       "      <td>PriceCalcWs</td>\n",
       "      <td>3</td>\n",
       "      <td>NaN</td>\n",
       "      <td>SOAP request processed</td>\n",
       "      <td>NaN</td>\n",
       "      <td>NaN</td>\n",
       "    </tr>\n",
       "    <tr>\n",
       "      <th>4</th>\n",
       "      <td>17550420</td>\n",
       "      <td>2020-10-18 04:28:45.580</td>\n",
       "      <td>PriceCalcWs</td>\n",
       "      <td>3</td>\n",
       "      <td>135.0</td>\n",
       "      <td>SOAP request processed</td>\n",
       "      <td>0x30343A32383A34352E3636383A204665746368696E67...</td>\n",
       "      <td>04:28:45.668: Fetching data with token of \"54b...</td>\n",
       "    </tr>\n",
       "  </tbody>\n",
       "</table>\n",
       "</div>"
      ],
      "text/plain": [
       "     log_id                 log_date log_application  lvl_id  log_attlen  \\\n",
       "0  16631685  2020-08-19 00:36:09.640       PriceCalc       3     22942.0   \n",
       "1  17550414  2020-10-18 04:28:15.283     PriceCalcWs       3       135.0   \n",
       "2  17550415  2020-10-18 04:28:17.410     PriceCalcWs       3       169.0   \n",
       "3  17550416  2020-10-18 04:28:17.460     PriceCalcWs       3         NaN   \n",
       "4  17550420  2020-10-18 04:28:45.580     PriceCalcWs       3       135.0   \n",
       "\n",
       "                           log_text  \\\n",
       "0  PriceCalc finished in 8 seconds.   \n",
       "1            SOAP request processed   \n",
       "2            SOAP request processed   \n",
       "3            SOAP request processed   \n",
       "4            SOAP request processed   \n",
       "\n",
       "                                            log_data  \\\n",
       "0  0x3C68746D6C3E3C686561643E3C6C696E6B2072656C3D...   \n",
       "1  0x30343A32383A31352E3337313A204665746368696E67...   \n",
       "2  0x30343A32383A31372E3439363A2052657475726E696E...   \n",
       "3                                                NaN   \n",
       "4  0x30343A32383A34352E3636383A204665746368696E67...   \n",
       "\n",
       "                                           text_data  \n",
       "0  <html><head><link rel=\"StyleSheet\" href=\"Style...  \n",
       "1  04:28:15.371: Fetching data with token of \"54b...  \n",
       "2  04:28:17.496: Returning 99 rows. 04:28:17.496:...  \n",
       "3                                                NaN  \n",
       "4  04:28:45.668: Fetching data with token of \"54b...  "
      ]
     },
     "execution_count": 19,
     "metadata": {},
     "output_type": "execute_result"
    }
   ],
   "source": [
    "df.head()"
   ]
  },
  {
   "cell_type": "code",
   "execution_count": 20,
   "metadata": {
    "id": "DFqXA1Zuzw6C"
   },
   "outputs": [],
   "source": [
    "# Index is incorrect with the new EOF & field loading error\n",
    "\n",
    "# Resetting index\n",
    "# df.reset_index(inplace=True)"
   ]
  },
  {
   "cell_type": "markdown",
   "metadata": {
    "id": "Oi1MlC3Q6cKG"
   },
   "source": [
    "# General Exploration"
   ]
  },
  {
   "cell_type": "code",
   "execution_count": 21,
   "metadata": {
    "colab": {
     "base_uri": "https://localhost:8080/"
    },
    "id": "4ixLIfBF52RO",
    "outputId": "471ed52f-9076-477b-a261-9c96d7c570a1"
   },
   "outputs": [
    {
     "data": {
      "text/plain": [
       "(9999, 8)"
      ]
     },
     "execution_count": 21,
     "metadata": {},
     "output_type": "execute_result"
    }
   ],
   "source": [
    "df.shape"
   ]
  },
  {
   "cell_type": "code",
   "execution_count": 22,
   "metadata": {
    "colab": {
     "base_uri": "https://localhost:8080/"
    },
    "id": "VHtzpkM6Imqw",
    "outputId": "0de72ae9-3ef8-4113-b570-79ce85749d58"
   },
   "outputs": [
    {
     "data": {
      "text/plain": [
       "(99999, 8)"
      ]
     },
     "execution_count": 22,
     "metadata": {},
     "output_type": "execute_result"
    }
   ],
   "source": [
    "df_100.shape"
   ]
  },
  {
   "cell_type": "code",
   "execution_count": 23,
   "metadata": {
    "colab": {
     "base_uri": "https://localhost:8080/",
     "height": 111
    },
    "id": "eVxugPmRcHvP",
    "outputId": "3febd101-01df-4927-ebe0-a789b5d29ddd"
   },
   "outputs": [
    {
     "data": {
      "text/html": [
       "<div>\n",
       "<style scoped>\n",
       "    .dataframe tbody tr th:only-of-type {\n",
       "        vertical-align: middle;\n",
       "    }\n",
       "\n",
       "    .dataframe tbody tr th {\n",
       "        vertical-align: top;\n",
       "    }\n",
       "\n",
       "    .dataframe thead th {\n",
       "        text-align: right;\n",
       "    }\n",
       "</style>\n",
       "<table border=\"1\" class=\"dataframe\">\n",
       "  <thead>\n",
       "    <tr style=\"text-align: right;\">\n",
       "      <th></th>\n",
       "      <th>log_id</th>\n",
       "      <th>log_date</th>\n",
       "      <th>log_application</th>\n",
       "      <th>lvl_id</th>\n",
       "      <th>log_attlen</th>\n",
       "      <th>log_text</th>\n",
       "      <th>log_data</th>\n",
       "      <th>text_data</th>\n",
       "    </tr>\n",
       "  </thead>\n",
       "  <tbody>\n",
       "    <tr>\n",
       "      <th>0</th>\n",
       "      <td>16631685</td>\n",
       "      <td>2020-08-19 00:36:09.640</td>\n",
       "      <td>PriceCalc</td>\n",
       "      <td>3</td>\n",
       "      <td>22942.0</td>\n",
       "      <td>PriceCalc finished in 8 seconds.</td>\n",
       "      <td>0x3C68746D6C3E3C686561643E3C6C696E6B2072656C3D...</td>\n",
       "      <td>&lt;html&gt;&lt;head&gt;&lt;link rel=\"StyleSheet\" href=\"Style...</td>\n",
       "    </tr>\n",
       "    <tr>\n",
       "      <th>1</th>\n",
       "      <td>17550414</td>\n",
       "      <td>2020-10-18 04:28:15.283</td>\n",
       "      <td>PriceCalcWs</td>\n",
       "      <td>3</td>\n",
       "      <td>135.0</td>\n",
       "      <td>SOAP request processed</td>\n",
       "      <td>0x30343A32383A31352E3337313A204665746368696E67...</td>\n",
       "      <td>04:28:15.371: Fetching data with token of \"54b...</td>\n",
       "    </tr>\n",
       "  </tbody>\n",
       "</table>\n",
       "</div>"
      ],
      "text/plain": [
       "     log_id                 log_date log_application  lvl_id  log_attlen  \\\n",
       "0  16631685  2020-08-19 00:36:09.640       PriceCalc       3     22942.0   \n",
       "1  17550414  2020-10-18 04:28:15.283     PriceCalcWs       3       135.0   \n",
       "\n",
       "                           log_text  \\\n",
       "0  PriceCalc finished in 8 seconds.   \n",
       "1            SOAP request processed   \n",
       "\n",
       "                                            log_data  \\\n",
       "0  0x3C68746D6C3E3C686561643E3C6C696E6B2072656C3D...   \n",
       "1  0x30343A32383A31352E3337313A204665746368696E67...   \n",
       "\n",
       "                                           text_data  \n",
       "0  <html><head><link rel=\"StyleSheet\" href=\"Style...  \n",
       "1  04:28:15.371: Fetching data with token of \"54b...  "
      ]
     },
     "execution_count": 23,
     "metadata": {},
     "output_type": "execute_result"
    }
   ],
   "source": [
    "# Starts 1st of August\n",
    "df_100.head(2)"
   ]
  },
  {
   "cell_type": "code",
   "execution_count": 24,
   "metadata": {
    "colab": {
     "base_uri": "https://localhost:8080/",
     "height": 111
    },
    "id": "87IJHqeucLo9",
    "outputId": "a5f86a62-686a-4952-9dbf-3a449b374030"
   },
   "outputs": [
    {
     "data": {
      "text/html": [
       "<div>\n",
       "<style scoped>\n",
       "    .dataframe tbody tr th:only-of-type {\n",
       "        vertical-align: middle;\n",
       "    }\n",
       "\n",
       "    .dataframe tbody tr th {\n",
       "        vertical-align: top;\n",
       "    }\n",
       "\n",
       "    .dataframe thead th {\n",
       "        text-align: right;\n",
       "    }\n",
       "</style>\n",
       "<table border=\"1\" class=\"dataframe\">\n",
       "  <thead>\n",
       "    <tr style=\"text-align: right;\">\n",
       "      <th></th>\n",
       "      <th>log_id</th>\n",
       "      <th>log_date</th>\n",
       "      <th>log_application</th>\n",
       "      <th>lvl_id</th>\n",
       "      <th>log_attlen</th>\n",
       "      <th>log_text</th>\n",
       "      <th>log_data</th>\n",
       "      <th>text_data</th>\n",
       "    </tr>\n",
       "  </thead>\n",
       "  <tbody>\n",
       "    <tr>\n",
       "      <th>99997</th>\n",
       "      <td>18231013</td>\n",
       "      <td>2020-11-08 17:59:40.770</td>\n",
       "      <td>PriceCalcWs</td>\n",
       "      <td>3</td>\n",
       "      <td>135.0</td>\n",
       "      <td>SOAP request processed</td>\n",
       "      <td>0x31373A35393A34302E3731373A204665746368696E67...</td>\n",
       "      <td>17:59:40.717: Fetching data with token of \"54b...</td>\n",
       "    </tr>\n",
       "    <tr>\n",
       "      <th>99998</th>\n",
       "      <td>18231014</td>\n",
       "      <td>2020-11-08 17:59:44.463</td>\n",
       "      <td>PriceCalcWs</td>\n",
       "      <td>3</td>\n",
       "      <td>135.0</td>\n",
       "      <td>SOAP request processed</td>\n",
       "      <td>0x31373A35393A34342E3337343A204665746368696E67...</td>\n",
       "      <td>17:59:44.374: Fetching data with token of \"54b...</td>\n",
       "    </tr>\n",
       "  </tbody>\n",
       "</table>\n",
       "</div>"
      ],
      "text/plain": [
       "         log_id                 log_date log_application  lvl_id  log_attlen  \\\n",
       "99997  18231013  2020-11-08 17:59:40.770     PriceCalcWs       3       135.0   \n",
       "99998  18231014  2020-11-08 17:59:44.463     PriceCalcWs       3       135.0   \n",
       "\n",
       "                     log_text  \\\n",
       "99997  SOAP request processed   \n",
       "99998  SOAP request processed   \n",
       "\n",
       "                                                log_data  \\\n",
       "99997  0x31373A35393A34302E3731373A204665746368696E67...   \n",
       "99998  0x31373A35393A34342E3337343A204665746368696E67...   \n",
       "\n",
       "                                               text_data  \n",
       "99997  17:59:40.717: Fetching data with token of \"54b...  \n",
       "99998  17:59:44.374: Fetching data with token of \"54b...  "
      ]
     },
     "execution_count": 24,
     "metadata": {},
     "output_type": "execute_result"
    }
   ],
   "source": [
    "# Ends 10th of November\n",
    "df_100.tail(2)"
   ]
  },
  {
   "cell_type": "code",
   "execution_count": 25,
   "metadata": {
    "colab": {
     "base_uri": "https://localhost:8080/",
     "height": 297
    },
    "id": "DwnNkTZA7fUC",
    "outputId": "96d955a8-1a5b-40db-dfbb-411d7609c2f9"
   },
   "outputs": [
    {
     "data": {
      "text/html": [
       "<div>\n",
       "<style scoped>\n",
       "    .dataframe tbody tr th:only-of-type {\n",
       "        vertical-align: middle;\n",
       "    }\n",
       "\n",
       "    .dataframe tbody tr th {\n",
       "        vertical-align: top;\n",
       "    }\n",
       "\n",
       "    .dataframe thead th {\n",
       "        text-align: right;\n",
       "    }\n",
       "</style>\n",
       "<table border=\"1\" class=\"dataframe\">\n",
       "  <thead>\n",
       "    <tr style=\"text-align: right;\">\n",
       "      <th></th>\n",
       "      <th>log_id</th>\n",
       "      <th>lvl_id</th>\n",
       "      <th>log_attlen</th>\n",
       "    </tr>\n",
       "  </thead>\n",
       "  <tbody>\n",
       "    <tr>\n",
       "      <th>count</th>\n",
       "      <td>9.999000e+03</td>\n",
       "      <td>9999.000000</td>\n",
       "      <td>7790.000000</td>\n",
       "    </tr>\n",
       "    <tr>\n",
       "      <th>mean</th>\n",
       "      <td>1.748483e+07</td>\n",
       "      <td>2.990599</td>\n",
       "      <td>1412.355071</td>\n",
       "    </tr>\n",
       "    <tr>\n",
       "      <th>std</th>\n",
       "      <td>2.320866e+05</td>\n",
       "      <td>0.133098</td>\n",
       "      <td>6840.063512</td>\n",
       "    </tr>\n",
       "    <tr>\n",
       "      <th>min</th>\n",
       "      <td>1.639552e+07</td>\n",
       "      <td>1.000000</td>\n",
       "      <td>0.000000</td>\n",
       "    </tr>\n",
       "    <tr>\n",
       "      <th>25%</th>\n",
       "      <td>1.738189e+07</td>\n",
       "      <td>3.000000</td>\n",
       "      <td>135.000000</td>\n",
       "    </tr>\n",
       "    <tr>\n",
       "      <th>50%</th>\n",
       "      <td>1.763927e+07</td>\n",
       "      <td>3.000000</td>\n",
       "      <td>135.000000</td>\n",
       "    </tr>\n",
       "    <tr>\n",
       "      <th>75%</th>\n",
       "      <td>1.764514e+07</td>\n",
       "      <td>3.000000</td>\n",
       "      <td>135.000000</td>\n",
       "    </tr>\n",
       "    <tr>\n",
       "      <th>max</th>\n",
       "      <td>1.809544e+07</td>\n",
       "      <td>3.000000</td>\n",
       "      <td>245231.000000</td>\n",
       "    </tr>\n",
       "  </tbody>\n",
       "</table>\n",
       "</div>"
      ],
      "text/plain": [
       "             log_id       lvl_id     log_attlen\n",
       "count  9.999000e+03  9999.000000    7790.000000\n",
       "mean   1.748483e+07     2.990599    1412.355071\n",
       "std    2.320866e+05     0.133098    6840.063512\n",
       "min    1.639552e+07     1.000000       0.000000\n",
       "25%    1.738189e+07     3.000000     135.000000\n",
       "50%    1.763927e+07     3.000000     135.000000\n",
       "75%    1.764514e+07     3.000000     135.000000\n",
       "max    1.809544e+07     3.000000  245231.000000"
      ]
     },
     "execution_count": 25,
     "metadata": {},
     "output_type": "execute_result"
    }
   ],
   "source": [
    "df.describe()"
   ]
  },
  {
   "cell_type": "code",
   "execution_count": 26,
   "metadata": {
    "colab": {
     "base_uri": "https://localhost:8080/",
     "height": 390
    },
    "id": "nXSI7zyUJVvD",
    "outputId": "e8c630a3-7db7-41f1-f258-c33c2355763b"
   },
   "outputs": [
    {
     "data": {
      "text/html": [
       "<div>\n",
       "<style scoped>\n",
       "    .dataframe tbody tr th:only-of-type {\n",
       "        vertical-align: middle;\n",
       "    }\n",
       "\n",
       "    .dataframe tbody tr th {\n",
       "        vertical-align: top;\n",
       "    }\n",
       "\n",
       "    .dataframe thead th {\n",
       "        text-align: right;\n",
       "    }\n",
       "</style>\n",
       "<table border=\"1\" class=\"dataframe\">\n",
       "  <thead>\n",
       "    <tr style=\"text-align: right;\">\n",
       "      <th></th>\n",
       "      <th>log_id</th>\n",
       "      <th>log_date</th>\n",
       "      <th>log_application</th>\n",
       "      <th>lvl_id</th>\n",
       "      <th>log_attlen</th>\n",
       "      <th>log_text</th>\n",
       "      <th>log_data</th>\n",
       "      <th>text_data</th>\n",
       "    </tr>\n",
       "  </thead>\n",
       "  <tbody>\n",
       "    <tr>\n",
       "      <th>count</th>\n",
       "      <td>9.999000e+03</td>\n",
       "      <td>9999</td>\n",
       "      <td>9999</td>\n",
       "      <td>9999.000000</td>\n",
       "      <td>7790.000000</td>\n",
       "      <td>9997</td>\n",
       "      <td>7790</td>\n",
       "      <td>7789</td>\n",
       "    </tr>\n",
       "    <tr>\n",
       "      <th>unique</th>\n",
       "      <td>NaN</td>\n",
       "      <td>9992</td>\n",
       "      <td>32</td>\n",
       "      <td>NaN</td>\n",
       "      <td>NaN</td>\n",
       "      <td>1029</td>\n",
       "      <td>7362</td>\n",
       "      <td>7361</td>\n",
       "    </tr>\n",
       "    <tr>\n",
       "      <th>top</th>\n",
       "      <td>NaN</td>\n",
       "      <td>2020-10-17 23:45:49.173</td>\n",
       "      <td>PriceCalcWs</td>\n",
       "      <td>NaN</td>\n",
       "      <td>NaN</td>\n",
       "      <td>SOAP request processed</td>\n",
       "      <td>0x3C68746D6C3E3C686561643E3C6C696E6B2072656C3D...</td>\n",
       "      <td>&lt;html&gt;&lt;head&gt;&lt;link rel=\"StyleSheet\" href=\"Style...</td>\n",
       "    </tr>\n",
       "    <tr>\n",
       "      <th>freq</th>\n",
       "      <td>NaN</td>\n",
       "      <td>3</td>\n",
       "      <td>7579</td>\n",
       "      <td>NaN</td>\n",
       "      <td>NaN</td>\n",
       "      <td>7352</td>\n",
       "      <td>25</td>\n",
       "      <td>25</td>\n",
       "    </tr>\n",
       "    <tr>\n",
       "      <th>mean</th>\n",
       "      <td>1.748483e+07</td>\n",
       "      <td>NaN</td>\n",
       "      <td>NaN</td>\n",
       "      <td>2.990599</td>\n",
       "      <td>1412.355071</td>\n",
       "      <td>NaN</td>\n",
       "      <td>NaN</td>\n",
       "      <td>NaN</td>\n",
       "    </tr>\n",
       "    <tr>\n",
       "      <th>std</th>\n",
       "      <td>2.320866e+05</td>\n",
       "      <td>NaN</td>\n",
       "      <td>NaN</td>\n",
       "      <td>0.133098</td>\n",
       "      <td>6840.063512</td>\n",
       "      <td>NaN</td>\n",
       "      <td>NaN</td>\n",
       "      <td>NaN</td>\n",
       "    </tr>\n",
       "    <tr>\n",
       "      <th>min</th>\n",
       "      <td>1.639552e+07</td>\n",
       "      <td>NaN</td>\n",
       "      <td>NaN</td>\n",
       "      <td>1.000000</td>\n",
       "      <td>0.000000</td>\n",
       "      <td>NaN</td>\n",
       "      <td>NaN</td>\n",
       "      <td>NaN</td>\n",
       "    </tr>\n",
       "    <tr>\n",
       "      <th>25%</th>\n",
       "      <td>1.738189e+07</td>\n",
       "      <td>NaN</td>\n",
       "      <td>NaN</td>\n",
       "      <td>3.000000</td>\n",
       "      <td>135.000000</td>\n",
       "      <td>NaN</td>\n",
       "      <td>NaN</td>\n",
       "      <td>NaN</td>\n",
       "    </tr>\n",
       "    <tr>\n",
       "      <th>50%</th>\n",
       "      <td>1.763927e+07</td>\n",
       "      <td>NaN</td>\n",
       "      <td>NaN</td>\n",
       "      <td>3.000000</td>\n",
       "      <td>135.000000</td>\n",
       "      <td>NaN</td>\n",
       "      <td>NaN</td>\n",
       "      <td>NaN</td>\n",
       "    </tr>\n",
       "    <tr>\n",
       "      <th>75%</th>\n",
       "      <td>1.764514e+07</td>\n",
       "      <td>NaN</td>\n",
       "      <td>NaN</td>\n",
       "      <td>3.000000</td>\n",
       "      <td>135.000000</td>\n",
       "      <td>NaN</td>\n",
       "      <td>NaN</td>\n",
       "      <td>NaN</td>\n",
       "    </tr>\n",
       "    <tr>\n",
       "      <th>max</th>\n",
       "      <td>1.809544e+07</td>\n",
       "      <td>NaN</td>\n",
       "      <td>NaN</td>\n",
       "      <td>3.000000</td>\n",
       "      <td>245231.000000</td>\n",
       "      <td>NaN</td>\n",
       "      <td>NaN</td>\n",
       "      <td>NaN</td>\n",
       "    </tr>\n",
       "  </tbody>\n",
       "</table>\n",
       "</div>"
      ],
      "text/plain": [
       "              log_id                 log_date log_application       lvl_id  \\\n",
       "count   9.999000e+03                     9999            9999  9999.000000   \n",
       "unique           NaN                     9992              32          NaN   \n",
       "top              NaN  2020-10-17 23:45:49.173     PriceCalcWs          NaN   \n",
       "freq             NaN                        3            7579          NaN   \n",
       "mean    1.748483e+07                      NaN             NaN     2.990599   \n",
       "std     2.320866e+05                      NaN             NaN     0.133098   \n",
       "min     1.639552e+07                      NaN             NaN     1.000000   \n",
       "25%     1.738189e+07                      NaN             NaN     3.000000   \n",
       "50%     1.763927e+07                      NaN             NaN     3.000000   \n",
       "75%     1.764514e+07                      NaN             NaN     3.000000   \n",
       "max     1.809544e+07                      NaN             NaN     3.000000   \n",
       "\n",
       "           log_attlen                log_text  \\\n",
       "count     7790.000000                    9997   \n",
       "unique            NaN                    1029   \n",
       "top               NaN  SOAP request processed   \n",
       "freq              NaN                    7352   \n",
       "mean      1412.355071                     NaN   \n",
       "std       6840.063512                     NaN   \n",
       "min          0.000000                     NaN   \n",
       "25%        135.000000                     NaN   \n",
       "50%        135.000000                     NaN   \n",
       "75%        135.000000                     NaN   \n",
       "max     245231.000000                     NaN   \n",
       "\n",
       "                                                 log_data  \\\n",
       "count                                                7790   \n",
       "unique                                               7362   \n",
       "top     0x3C68746D6C3E3C686561643E3C6C696E6B2072656C3D...   \n",
       "freq                                                   25   \n",
       "mean                                                  NaN   \n",
       "std                                                   NaN   \n",
       "min                                                   NaN   \n",
       "25%                                                   NaN   \n",
       "50%                                                   NaN   \n",
       "75%                                                   NaN   \n",
       "max                                                   NaN   \n",
       "\n",
       "                                                text_data  \n",
       "count                                                7789  \n",
       "unique                                               7361  \n",
       "top     <html><head><link rel=\"StyleSheet\" href=\"Style...  \n",
       "freq                                                   25  \n",
       "mean                                                  NaN  \n",
       "std                                                   NaN  \n",
       "min                                                   NaN  \n",
       "25%                                                   NaN  \n",
       "50%                                                   NaN  \n",
       "75%                                                   NaN  \n",
       "max                                                   NaN  "
      ]
     },
     "execution_count": 26,
     "metadata": {},
     "output_type": "execute_result"
    }
   ],
   "source": [
    "df.describe(include='all')"
   ]
  },
  {
   "cell_type": "code",
   "execution_count": 27,
   "metadata": {
    "colab": {
     "base_uri": "https://localhost:8080/"
    },
    "id": "I6SwRTD1IvNr",
    "outputId": "31f3480c-99be-4e64-8b02-0e4ec38ccb34"
   },
   "outputs": [
    {
     "data": {
      "text/plain": [
       "log_id               int64\n",
       "log_date            object\n",
       "log_application     object\n",
       "lvl_id               int64\n",
       "log_attlen         float64\n",
       "log_text            object\n",
       "log_data            object\n",
       "text_data           object\n",
       "dtype: object"
      ]
     },
     "execution_count": 27,
     "metadata": {},
     "output_type": "execute_result"
    }
   ],
   "source": [
    "# Consider making attlen -> int if relevant to model\n",
    "# log_date -> datetime\n",
    "# appropriate text_data -> key: value & ints OR dictionaries / individual DFs\n",
    "df.dtypes"
   ]
  },
  {
   "cell_type": "code",
   "execution_count": 28,
   "metadata": {
    "id": "hFSPbaa6w2YI"
   },
   "outputs": [],
   "source": [
    "PriceCalcWs = df[df['log_application'] == 'PriceCalcWs']\n"
   ]
  },
  {
   "cell_type": "code",
   "execution_count": 29,
   "metadata": {
    "colab": {
     "base_uri": "https://localhost:8080/",
     "height": 204
    },
    "id": "5XTG9mtBGRuE",
    "outputId": "8de7ce29-7b5c-410f-cb67-fcf595f83268"
   },
   "outputs": [
    {
     "data": {
      "text/html": [
       "<div>\n",
       "<style scoped>\n",
       "    .dataframe tbody tr th:only-of-type {\n",
       "        vertical-align: middle;\n",
       "    }\n",
       "\n",
       "    .dataframe tbody tr th {\n",
       "        vertical-align: top;\n",
       "    }\n",
       "\n",
       "    .dataframe thead th {\n",
       "        text-align: right;\n",
       "    }\n",
       "</style>\n",
       "<table border=\"1\" class=\"dataframe\">\n",
       "  <thead>\n",
       "    <tr style=\"text-align: right;\">\n",
       "      <th></th>\n",
       "      <th>log_id</th>\n",
       "      <th>log_date</th>\n",
       "      <th>log_application</th>\n",
       "      <th>lvl_id</th>\n",
       "      <th>log_attlen</th>\n",
       "      <th>log_text</th>\n",
       "      <th>log_data</th>\n",
       "      <th>text_data</th>\n",
       "    </tr>\n",
       "  </thead>\n",
       "  <tbody>\n",
       "    <tr>\n",
       "      <th>1</th>\n",
       "      <td>17550414</td>\n",
       "      <td>2020-10-18 04:28:15.283</td>\n",
       "      <td>PriceCalcWs</td>\n",
       "      <td>3</td>\n",
       "      <td>135.0</td>\n",
       "      <td>SOAP request processed</td>\n",
       "      <td>0x30343A32383A31352E3337313A204665746368696E67...</td>\n",
       "      <td>04:28:15.371: Fetching data with token of \"54b...</td>\n",
       "    </tr>\n",
       "    <tr>\n",
       "      <th>2</th>\n",
       "      <td>17550415</td>\n",
       "      <td>2020-10-18 04:28:17.410</td>\n",
       "      <td>PriceCalcWs</td>\n",
       "      <td>3</td>\n",
       "      <td>169.0</td>\n",
       "      <td>SOAP request processed</td>\n",
       "      <td>0x30343A32383A31372E3439363A2052657475726E696E...</td>\n",
       "      <td>04:28:17.496: Returning 99 rows. 04:28:17.496:...</td>\n",
       "    </tr>\n",
       "    <tr>\n",
       "      <th>3</th>\n",
       "      <td>17550416</td>\n",
       "      <td>2020-10-18 04:28:17.460</td>\n",
       "      <td>PriceCalcWs</td>\n",
       "      <td>3</td>\n",
       "      <td>NaN</td>\n",
       "      <td>SOAP request processed</td>\n",
       "      <td>NaN</td>\n",
       "      <td>NaN</td>\n",
       "    </tr>\n",
       "    <tr>\n",
       "      <th>4</th>\n",
       "      <td>17550420</td>\n",
       "      <td>2020-10-18 04:28:45.580</td>\n",
       "      <td>PriceCalcWs</td>\n",
       "      <td>3</td>\n",
       "      <td>135.0</td>\n",
       "      <td>SOAP request processed</td>\n",
       "      <td>0x30343A32383A34352E3636383A204665746368696E67...</td>\n",
       "      <td>04:28:45.668: Fetching data with token of \"54b...</td>\n",
       "    </tr>\n",
       "    <tr>\n",
       "      <th>5</th>\n",
       "      <td>17550421</td>\n",
       "      <td>2020-10-18 04:28:45.690</td>\n",
       "      <td>PriceCalcWs</td>\n",
       "      <td>3</td>\n",
       "      <td>135.0</td>\n",
       "      <td>SOAP request processed</td>\n",
       "      <td>0x30343A32383A34352E3738333A204665746368696E67...</td>\n",
       "      <td>04:28:45.783: Fetching data with token of \"54b...</td>\n",
       "    </tr>\n",
       "  </tbody>\n",
       "</table>\n",
       "</div>"
      ],
      "text/plain": [
       "     log_id                 log_date log_application  lvl_id  log_attlen  \\\n",
       "1  17550414  2020-10-18 04:28:15.283     PriceCalcWs       3       135.0   \n",
       "2  17550415  2020-10-18 04:28:17.410     PriceCalcWs       3       169.0   \n",
       "3  17550416  2020-10-18 04:28:17.460     PriceCalcWs       3         NaN   \n",
       "4  17550420  2020-10-18 04:28:45.580     PriceCalcWs       3       135.0   \n",
       "5  17550421  2020-10-18 04:28:45.690     PriceCalcWs       3       135.0   \n",
       "\n",
       "                 log_text                                           log_data  \\\n",
       "1  SOAP request processed  0x30343A32383A31352E3337313A204665746368696E67...   \n",
       "2  SOAP request processed  0x30343A32383A31372E3439363A2052657475726E696E...   \n",
       "3  SOAP request processed                                                NaN   \n",
       "4  SOAP request processed  0x30343A32383A34352E3636383A204665746368696E67...   \n",
       "5  SOAP request processed  0x30343A32383A34352E3738333A204665746368696E67...   \n",
       "\n",
       "                                           text_data  \n",
       "1  04:28:15.371: Fetching data with token of \"54b...  \n",
       "2  04:28:17.496: Returning 99 rows. 04:28:17.496:...  \n",
       "3                                                NaN  \n",
       "4  04:28:45.668: Fetching data with token of \"54b...  \n",
       "5  04:28:45.783: Fetching data with token of \"54b...  "
      ]
     },
     "execution_count": 29,
     "metadata": {},
     "output_type": "execute_result"
    }
   ],
   "source": [
    "PriceCalcWs.head()"
   ]
  },
  {
   "cell_type": "code",
   "execution_count": 30,
   "metadata": {
    "colab": {
     "base_uri": "https://localhost:8080/"
    },
    "id": "jnmguSCfvA8O",
    "outputId": "2e9ab979-02f3-4cd7-e4ec-9cfb1cbf17fc"
   },
   "outputs": [
    {
     "data": {
      "text/plain": [
       "PriceCalcWs                    7579\n",
       "WAPI Curve Import               485\n",
       "iRisk Data Services             438\n",
       "RockyII                         434\n",
       "Transfer To Nimbus              294\n",
       "Wind Power Import               221\n",
       "ComTSExport                      93\n",
       "PriceCalc                        85\n",
       "Fin BO to Powel                  81\n",
       "Nord Pool Trades                 68\n",
       "Nord Pool Market Data            35\n",
       "Nasdaq Fix                       32\n",
       "Nasdaq FDS Reader                27\n",
       "SEB Currency Feed                26\n",
       "Ftp Trigger Script               25\n",
       "Brady Oracle Scripts             12\n",
       "GreenCert                        12\n",
       "TradeFetcher                     12\n",
       "Nasdaq Data Import               11\n",
       "MKInvoice                        11\n",
       "FinBoReporting                    3\n",
       "Nord Pool Prices                  3\n",
       "MiFiR Reporting                   3\n",
       "Nimbus Day Ahead Trades           1\n",
       "EF+ Index Management              1\n",
       "Nasdaq Product Import             1\n",
       "IndexMgmt                         1\n",
       "Excel                             1\n",
       "Nasdaq Span Import                1\n",
       "Nasdaq Split                      1\n",
       "MK Customer Forum                 1\n",
       "NordPool Settlement Fetcher       1\n",
       "Name: log_application, dtype: int64"
      ]
     },
     "execution_count": 30,
     "metadata": {},
     "output_type": "execute_result"
    }
   ],
   "source": [
    "# DF contains many more applications than described in dbo.application\n",
    "df['log_application'].value_counts()"
   ]
  },
  {
   "cell_type": "code",
   "execution_count": 31,
   "metadata": {
    "colab": {
     "base_uri": "https://localhost:8080/"
    },
    "id": "x3QnVZ02MjGD",
    "outputId": "05454732-89c6-4ba3-9ea2-15d9f59a97c4"
   },
   "outputs": [
    {
     "data": {
      "text/plain": [
       "42"
      ]
     },
     "execution_count": 31,
     "metadata": {},
     "output_type": "execute_result"
    }
   ],
   "source": [
    "len(df_100['log_application'].value_counts())"
   ]
  },
  {
   "cell_type": "code",
   "execution_count": 32,
   "metadata": {
    "colab": {
     "base_uri": "https://localhost:8080/"
    },
    "id": "osfQnD42MuP0",
    "outputId": "c5391a73-eff4-48c4-8b8e-17e7283c7fd9"
   },
   "outputs": [
    {
     "data": {
      "text/plain": [
       "PriceCalcWs                    77239\n",
       "iRisk Data Services             5675\n",
       "WAPI Curve Import               4130\n",
       "RockyII                         2684\n",
       "Transfer To Nimbus              2547\n",
       "Wind Power Import               2172\n",
       "ComTSExport                      962\n",
       "Fin BO to Powel                  757\n",
       "PriceCalc                        746\n",
       "Nord Pool Trades                 642\n",
       "Nasdaq Fix                       394\n",
       "Nord Pool Market Data            383\n",
       "SEB Currency Feed                358\n",
       "Nasdaq FDS Reader                276\n",
       "Ftp Trigger Script               248\n",
       "Brady Oracle Scripts             153\n",
       "Nasdaq Data Import               148\n",
       "MKInvoice                        101\n",
       "TradeFetcher                      98\n",
       "GreenCert                         97\n",
       "FinBoReporting                    20\n",
       "Remit Reporting                   18\n",
       "MiFiR Reporting                   17\n",
       "Nord Pool Prices                  15\n",
       "Nasdaq Span Import                 9\n",
       "FinBo Aggregation                  9\n",
       "VolPerDay aggregation              9\n",
       "EF+ Index Management               8\n",
       "Nimbus Day Ahead Trades            8\n",
       "MK Customer Forum                  8\n",
       "Nasdaq Split                       7\n",
       "IndexMgmt                          7\n",
       "Risk Report                        7\n",
       "Create Margin History              7\n",
       "MarketMath Risk Retriever          7\n",
       "Nasdaq FDS End Of Day              7\n",
       "Excel                              6\n",
       "Currency Import                    5\n",
       "NordPool Settlement Fetcher        5\n",
       "Nasdaq Product Import              4\n",
       "Uncleard Closing Prices            4\n",
       "PriceCalcWS Test                   2\n",
       "Name: log_application, dtype: int64"
      ]
     },
     "execution_count": 32,
     "metadata": {},
     "output_type": "execute_result"
    }
   ],
   "source": [
    "df_100['log_application'].value_counts()"
   ]
  },
  {
   "cell_type": "code",
   "execution_count": 33,
   "metadata": {
    "colab": {
     "base_uri": "https://localhost:8080/"
    },
    "id": "O4OW8l7rvY-7",
    "outputId": "261a03db-ac0a-449c-a3bf-1579ca03d18d"
   },
   "outputs": [
    {
     "data": {
      "text/plain": [
       "135.0      5431\n",
       "136.0       173\n",
       "122.0       162\n",
       "93.0        142\n",
       "121.0       131\n",
       "120.0       118\n",
       "403.0        54\n",
       "179.0        34\n",
       "119.0        27\n",
       "22358.0      25\n",
       "169.0        20\n",
       "676.0        18\n",
       "73379.0      14\n",
       "2040.0       13\n",
       "22812.0      13\n",
       "581.0        12\n",
       "4606.0       12\n",
       "103.0        12\n",
       "193.0        11\n",
       "22356.0      11\n",
       "1426.0       11\n",
       "521.0        11\n",
       "15412.0      11\n",
       "65376.0      10\n",
       "269.0        10\n",
       "4670.0        9\n",
       "430.0         9\n",
       "178.0         8\n",
       "180.0         8\n",
       "600.0         8\n",
       "           ... \n",
       "1620.0        1\n",
       "1120.0        1\n",
       "1019.0        1\n",
       "1212.0        1\n",
       "2087.0        1\n",
       "583.0         1\n",
       "1129.0        1\n",
       "613.0         1\n",
       "4557.0        1\n",
       "1056.0        1\n",
       "44673.0       1\n",
       "173.0         1\n",
       "1412.0        1\n",
       "1269.0        1\n",
       "17932.0       1\n",
       "793.0         1\n",
       "699.0         1\n",
       "83664.0       1\n",
       "347.0         1\n",
       "1706.0        1\n",
       "2729.0        1\n",
       "2873.0        1\n",
       "4638.0        1\n",
       "1675.0        1\n",
       "4666.0        1\n",
       "25925.0       1\n",
       "1190.0        1\n",
       "4680.0        1\n",
       "7505.0        1\n",
       "2033.0        1\n",
       "Name: log_attlen, Length: 788, dtype: int64"
      ]
     },
     "execution_count": 33,
     "metadata": {},
     "output_type": "execute_result"
    }
   ],
   "source": [
    "# Decently high cardinality\n",
    "# Most text_data clusters around 135 -> probably due to majority of log being \n",
    "# PriceCalcWs calls\n",
    "df['log_attlen'].value_counts()"
   ]
  },
  {
   "cell_type": "code",
   "execution_count": 34,
   "metadata": {
    "colab": {
     "base_uri": "https://localhost:8080/"
    },
    "id": "6iaDh02K1hUS",
    "outputId": "0fb179a4-b36c-4ea5-f99b-04ab85e06607"
   },
   "outputs": [
    {
     "data": {
      "text/plain": [
       "SOAP request processed                                                                7352\n",
       "Request handled spGetiRiskData                                                         438\n",
       "Running import from API to Powel                                                       221\n",
       "REST request processed                                                                 221\n",
       "Curve/Actual processed changes: Import                                                 110\n",
       "Physical trades data is being exported to Brady from Financial BackOffice               91\n",
       "Exporting to Powel TSS from Financial BO                                                81\n",
       "Curve/Forecast processed changes: Import                                                39\n",
       "PriceCalc finished in 8 seconds.                                                        39\n",
       "Processing 1 trades not saved in RockyII                                                33\n",
       "PriceCalc finished in 9 seconds.                                                        31\n",
       "Data saved to PriceCalc.                                                                26\n",
       "Complete, imported data                                                                 26\n",
       "Received and processed TradeCaptureReport successfully                                  25\n",
       "Vitec processed changes: Import                                                         21\n",
       "Vitec processed changes: Export                                                         21\n",
       "HydroGrid Bids processed changes:                                                       19\n",
       "Sca processed changes: Import                                                           18\n",
       "ECS processed changes: Import                                                           17\n",
       "HydroGrid Plans processed changes:                                                      16\n",
       "Terminated                                                                              15\n",
       "Hourly run log                                                                          12\n",
       "Nasdaq Import finished                                                                  11\n",
       "Processing 3 trades not saved in RockyII                                                11\n",
       "PriceCalc finished in 10 seconds.                                                       10\n",
       "Saved 3322 values, prefetch 24 hours                                                    10\n",
       "Processing 2 trades not saved in RockyII                                                 9\n",
       "HydroGrid Plans processed changes: Export                                                8\n",
       "TradeFetcher run done for power trade file tradefile8508.csv                             8\n",
       "NasdaqFix Rectify                                                                        7\n",
       "                                                                                      ... \n",
       "Checking subscriptions 15.09.2020 10:33:59                                               1\n",
       "Checking subscriptions 11.10.2020 15:11:41                                               1\n",
       "Transfer NPS trade (4852687) to Fin BO                                                   1\n",
       "Checking subscriptions 11.10.2020 08:55:45                                               1\n",
       "Trade transfer to Fin BO: [7262778]                                                      1\n",
       "Checking subscriptions 11.10.2020 08:31:31                                               1\n",
       "Checking subscriptions 11.10.2020 12:24:02                                               1\n",
       "Checking subscriptions 22.10.2020 12:07:30                                               1\n",
       "Transfer NPS trade (4871334) to Fin BO                                                   1\n",
       "Checking subscriptions 21.10.2020 16:02:51                                               1\n",
       "Checking subscriptions 21.10.2020 17:21:31                                               1\n",
       "Checking subscriptions 21.10.2020 18:57:22                                               1\n",
       "Checking subscriptions 11.10.2020 14:13:10                                               1\n",
       "Checking subscriptions 17.10.2020 22:49:11                                               1\n",
       "Checking subscriptions 21.10.2020 18:51:18                                               1\n",
       "Transfer NPS trade (4855591) to Fin BO                                                   1\n",
       "Checking subscriptions 21.10.2020 12:50:05                                               1\n",
       "Transfer NPS trade (4865219) to Fin BO                                                   1\n",
       "Checking subscriptions 11.10.2020 12:01:49                                               1\n",
       "Transfer NPS trade (4871328) to Fin BO                                                   1\n",
       "Dalane: Moving MkProdGs2_20200925160000.GS2 to \\\\mkrare3111\\IccData\\import\\GS2\\New       1\n",
       "Trade transfer to Fin BO: [7262261]                                                      1\n",
       "Transfer NPS trade (4865242) to Fin BO                                                   1\n",
       "Checking subscriptions 11.10.2020 12:11:57                                               1\n",
       "Sent GiveUp for 4852709                                                                  1\n",
       "Checking subscriptions 21.10.2020 20:50:24                                               1\n",
       "Checking subscriptions 17.10.2020 20:00:35                                               1\n",
       "Checking subscriptions 11.10.2020 13:57:01                                               1\n",
       "Transfer NPS trade (4868429) to Fin BO                                                   1\n",
       "Trade transfer to Fin BO: [7262271]                                                      1\n",
       "Name: log_text, Length: 1029, dtype: int64"
      ]
     },
     "execution_count": 34,
     "metadata": {},
     "output_type": "execute_result"
    }
   ],
   "source": [
    "df['log_text'].value_counts()"
   ]
  },
  {
   "cell_type": "code",
   "execution_count": 35,
   "metadata": {
    "colab": {
     "base_uri": "https://localhost:8080/"
    },
    "id": "Wcq8P7NOzFDp",
    "outputId": "4ab95290-ba1c-4d8a-ad6a-bacabd783410"
   },
   "outputs": [
    {
     "data": {
      "text/plain": [
       "3    9947\n",
       "1      42\n",
       "2      10\n",
       "Name: lvl_id, dtype: int64"
      ]
     },
     "execution_count": 35,
     "metadata": {},
     "output_type": "execute_result"
    }
   ],
   "source": [
    "df['lvl_id'].value_counts()"
   ]
  },
  {
   "cell_type": "code",
   "execution_count": 36,
   "metadata": {
    "colab": {
     "base_uri": "https://localhost:8080/"
    },
    "id": "-170vwTCIft9",
    "outputId": "6e5ce63b-dbda-4e8a-aa67-8bf7ee8f97e6"
   },
   "outputs": [
    {
     "data": {
      "text/plain": [
       "3    99599\n",
       "2      295\n",
       "1      101\n",
       "0        4\n",
       "Name: lvl_id, dtype: int64"
      ]
     },
     "execution_count": 36,
     "metadata": {},
     "output_type": "execute_result"
    }
   ],
   "source": [
    "df_100['lvl_id'].value_counts()"
   ]
  },
  {
   "cell_type": "markdown",
   "metadata": {
    "id": "1ZRK0auHE2L-"
   },
   "source": [
    "### Looking at errors in lvl_id"
   ]
  },
  {
   "cell_type": "code",
   "execution_count": 37,
   "metadata": {
    "colab": {
     "base_uri": "https://localhost:8080/",
     "height": 1000
    },
    "id": "UYySwxx5zMeS",
    "outputId": "c30cdc37-6751-48a7-faaf-c08b62f632fd"
   },
   "outputs": [
    {
     "data": {
      "text/html": [
       "<div>\n",
       "<style scoped>\n",
       "    .dataframe tbody tr th:only-of-type {\n",
       "        vertical-align: middle;\n",
       "    }\n",
       "\n",
       "    .dataframe tbody tr th {\n",
       "        vertical-align: top;\n",
       "    }\n",
       "\n",
       "    .dataframe thead th {\n",
       "        text-align: right;\n",
       "    }\n",
       "</style>\n",
       "<table border=\"1\" class=\"dataframe\">\n",
       "  <thead>\n",
       "    <tr style=\"text-align: right;\">\n",
       "      <th></th>\n",
       "      <th>log_id</th>\n",
       "      <th>log_date</th>\n",
       "      <th>log_application</th>\n",
       "      <th>lvl_id</th>\n",
       "      <th>log_attlen</th>\n",
       "      <th>log_text</th>\n",
       "      <th>log_data</th>\n",
       "      <th>text_data</th>\n",
       "    </tr>\n",
       "  </thead>\n",
       "  <tbody>\n",
       "    <tr>\n",
       "      <th>1137</th>\n",
       "      <td>16962253</td>\n",
       "      <td>2020-09-15 09:29:30.847</td>\n",
       "      <td>Transfer To Nimbus</td>\n",
       "      <td>1</td>\n",
       "      <td>753.0</td>\n",
       "      <td>ECS processed changes:</td>\n",
       "      <td>0x0D0A30393A32383A34313A2050726F63657373696E67...</td>\n",
       "      <td>09:28:41: Processing HydroGrid Bids 09:28:41:...</td>\n",
       "    </tr>\n",
       "    <tr>\n",
       "      <th>1138</th>\n",
       "      <td>16962259</td>\n",
       "      <td>2020-09-15 09:30:19.720</td>\n",
       "      <td>Transfer To Nimbus</td>\n",
       "      <td>1</td>\n",
       "      <td>753.0</td>\n",
       "      <td>ECS processed changes:</td>\n",
       "      <td>0x0D0A30393A32393A33303A2050726F63657373696E67...</td>\n",
       "      <td>09:29:30: Processing HydroGrid Bids 09:29:30:...</td>\n",
       "    </tr>\n",
       "    <tr>\n",
       "      <th>1139</th>\n",
       "      <td>16962266</td>\n",
       "      <td>2020-09-15 09:31:08.510</td>\n",
       "      <td>Transfer To Nimbus</td>\n",
       "      <td>1</td>\n",
       "      <td>753.0</td>\n",
       "      <td>ECS processed changes:</td>\n",
       "      <td>0x0D0A30393A33303A31393A2050726F63657373696E67...</td>\n",
       "      <td>09:30:19: Processing HydroGrid Bids 09:30:19:...</td>\n",
       "    </tr>\n",
       "    <tr>\n",
       "      <th>1921</th>\n",
       "      <td>17641159</td>\n",
       "      <td>2020-10-21 16:38:20.013</td>\n",
       "      <td>PriceCalcWs</td>\n",
       "      <td>1</td>\n",
       "      <td>266.0</td>\n",
       "      <td>An unexpected error occurred</td>\n",
       "      <td>0x31363A33383A31382E3137313A204665746368696E67...</td>\n",
       "      <td>16:38:18.171: Fetching data with token of \"54b...</td>\n",
       "    </tr>\n",
       "    <tr>\n",
       "      <th>1942</th>\n",
       "      <td>16580522</td>\n",
       "      <td>2020-08-15 12:00:57.440</td>\n",
       "      <td>Transfer To Nimbus</td>\n",
       "      <td>1</td>\n",
       "      <td>745.0</td>\n",
       "      <td>HydroGrid Bids processed changes:</td>\n",
       "      <td>0x0D0A31323A30303A35373A2050726F63657373696E67...</td>\n",
       "      <td>12:00:57: Processing Curve/Actual 12:00:57: P...</td>\n",
       "    </tr>\n",
       "    <tr>\n",
       "      <th>1943</th>\n",
       "      <td>16580523</td>\n",
       "      <td>2020-08-15 12:00:57.517</td>\n",
       "      <td>Transfer To Nimbus</td>\n",
       "      <td>1</td>\n",
       "      <td>676.0</td>\n",
       "      <td>HydroGrid Plans processed changes:</td>\n",
       "      <td>0x0D0A31323A30303A35373A2050726F63657373696E67...</td>\n",
       "      <td>12:00:57: Processing HydroGrid Plans 12:00:57...</td>\n",
       "    </tr>\n",
       "    <tr>\n",
       "      <th>1945</th>\n",
       "      <td>16580533</td>\n",
       "      <td>2020-08-15 12:01:32.060</td>\n",
       "      <td>Transfer To Nimbus</td>\n",
       "      <td>1</td>\n",
       "      <td>1328.0</td>\n",
       "      <td>HydroGrid Bids processed changes:</td>\n",
       "      <td>0x0D0A31323A30313A32383A2050726F63657373696E67...</td>\n",
       "      <td>12:01:28: Processing ECS 12:01:28: Executing ...</td>\n",
       "    </tr>\n",
       "    <tr>\n",
       "      <th>1946</th>\n",
       "      <td>16580535</td>\n",
       "      <td>2020-08-15 12:01:32.153</td>\n",
       "      <td>Transfer To Nimbus</td>\n",
       "      <td>1</td>\n",
       "      <td>676.0</td>\n",
       "      <td>HydroGrid Plans processed changes:</td>\n",
       "      <td>0x0D0A31323A30313A33323A2050726F63657373696E67...</td>\n",
       "      <td>12:01:32: Processing HydroGrid Plans 12:01:32...</td>\n",
       "    </tr>\n",
       "    <tr>\n",
       "      <th>1947</th>\n",
       "      <td>16580536</td>\n",
       "      <td>2020-08-15 12:02:03.910</td>\n",
       "      <td>Transfer To Nimbus</td>\n",
       "      <td>1</td>\n",
       "      <td>1426.0</td>\n",
       "      <td>HydroGrid Bids processed changes:</td>\n",
       "      <td>0x0D0A31323A30313A33323A204C6F6767696E67206F66...</td>\n",
       "      <td>12:01:32: Logging off Powel 12:02:02: Logged ...</td>\n",
       "    </tr>\n",
       "    <tr>\n",
       "      <th>2156</th>\n",
       "      <td>16580600</td>\n",
       "      <td>2020-08-15 12:07:06.377</td>\n",
       "      <td>Transfer To Nimbus</td>\n",
       "      <td>1</td>\n",
       "      <td>676.0</td>\n",
       "      <td>HydroGrid Plans processed changes:</td>\n",
       "      <td>0x0D0A31323A30373A30363A2050726F63657373696E67...</td>\n",
       "      <td>12:07:06: Processing HydroGrid Plans 12:07:06...</td>\n",
       "    </tr>\n",
       "    <tr>\n",
       "      <th>2158</th>\n",
       "      <td>16580605</td>\n",
       "      <td>2020-08-15 12:07:38.693</td>\n",
       "      <td>Transfer To Nimbus</td>\n",
       "      <td>1</td>\n",
       "      <td>1328.0</td>\n",
       "      <td>HydroGrid Bids processed changes:</td>\n",
       "      <td>0x0D0A31323A30373A33373A2050726F63657373696E67...</td>\n",
       "      <td>12:07:37: Processing ECS 12:07:37: Executing ...</td>\n",
       "    </tr>\n",
       "    <tr>\n",
       "      <th>2159</th>\n",
       "      <td>16580606</td>\n",
       "      <td>2020-08-15 12:07:38.740</td>\n",
       "      <td>Transfer To Nimbus</td>\n",
       "      <td>1</td>\n",
       "      <td>676.0</td>\n",
       "      <td>HydroGrid Plans processed changes:</td>\n",
       "      <td>0x0D0A31323A30373A33383A2050726F63657373696E67...</td>\n",
       "      <td>12:07:38: Processing HydroGrid Plans 12:07:38...</td>\n",
       "    </tr>\n",
       "    <tr>\n",
       "      <th>2160</th>\n",
       "      <td>16580607</td>\n",
       "      <td>2020-08-15 12:08:12.687</td>\n",
       "      <td>Transfer To Nimbus</td>\n",
       "      <td>1</td>\n",
       "      <td>1426.0</td>\n",
       "      <td>HydroGrid Bids processed changes:</td>\n",
       "      <td>0x0D0A31323A30373A33383A204C6F6767696E67206F66...</td>\n",
       "      <td>12:07:38: Logging off Powel 12:08:09: Logged ...</td>\n",
       "    </tr>\n",
       "    <tr>\n",
       "      <th>2161</th>\n",
       "      <td>16580611</td>\n",
       "      <td>2020-08-15 12:08:12.733</td>\n",
       "      <td>Transfer To Nimbus</td>\n",
       "      <td>1</td>\n",
       "      <td>676.0</td>\n",
       "      <td>HydroGrid Plans processed changes:</td>\n",
       "      <td>0x0D0A31323A30383A31323A2050726F63657373696E67...</td>\n",
       "      <td>12:08:12: Processing HydroGrid Plans 12:08:12...</td>\n",
       "    </tr>\n",
       "    <tr>\n",
       "      <th>2162</th>\n",
       "      <td>16580612</td>\n",
       "      <td>2020-08-15 12:08:44.227</td>\n",
       "      <td>Transfer To Nimbus</td>\n",
       "      <td>1</td>\n",
       "      <td>1426.0</td>\n",
       "      <td>HydroGrid Bids processed changes:</td>\n",
       "      <td>0x0D0A31323A30383A31323A204C6F6767696E67206F66...</td>\n",
       "      <td>12:08:12: Logging off Powel 12:08:43: Logged ...</td>\n",
       "    </tr>\n",
       "    <tr>\n",
       "      <th>2952</th>\n",
       "      <td>17641941</td>\n",
       "      <td>2020-10-21 17:18:50.007</td>\n",
       "      <td>PriceCalcWs</td>\n",
       "      <td>1</td>\n",
       "      <td>266.0</td>\n",
       "      <td>An unexpected error occurred</td>\n",
       "      <td>0x31373A31383A34392E3536363A204665746368696E67...</td>\n",
       "      <td>17:18:49.566: Fetching data with token of \"54b...</td>\n",
       "    </tr>\n",
       "    <tr>\n",
       "      <th>4063</th>\n",
       "      <td>16603625</td>\n",
       "      <td>2020-08-16 23:01:34.473</td>\n",
       "      <td>Transfer To Nimbus</td>\n",
       "      <td>1</td>\n",
       "      <td>1328.0</td>\n",
       "      <td>HydroGrid Bids processed changes:</td>\n",
       "      <td>0x0D0A32333A30313A33333A2050726F63657373696E67...</td>\n",
       "      <td>23:01:33: Processing ECS 23:01:33: Executing ...</td>\n",
       "    </tr>\n",
       "    <tr>\n",
       "      <th>4064</th>\n",
       "      <td>16603626</td>\n",
       "      <td>2020-08-16 23:01:34.503</td>\n",
       "      <td>Transfer To Nimbus</td>\n",
       "      <td>1</td>\n",
       "      <td>676.0</td>\n",
       "      <td>HydroGrid Plans processed changes:</td>\n",
       "      <td>0x0D0A32333A30313A33343A2050726F63657373696E67...</td>\n",
       "      <td>23:01:34: Processing HydroGrid Plans 23:01:34...</td>\n",
       "    </tr>\n",
       "    <tr>\n",
       "      <th>4065</th>\n",
       "      <td>16603627</td>\n",
       "      <td>2020-08-16 23:02:08.273</td>\n",
       "      <td>Transfer To Nimbus</td>\n",
       "      <td>1</td>\n",
       "      <td>1426.0</td>\n",
       "      <td>HydroGrid Bids processed changes:</td>\n",
       "      <td>0x0D0A32333A30313A33343A204C6F6767696E67206F66...</td>\n",
       "      <td>23:01:34: Logging off Powel 23:02:05: Logged ...</td>\n",
       "    </tr>\n",
       "    <tr>\n",
       "      <th>4805</th>\n",
       "      <td>16580903</td>\n",
       "      <td>2020-08-15 12:35:02.877</td>\n",
       "      <td>Transfer To Nimbus</td>\n",
       "      <td>1</td>\n",
       "      <td>1932.0</td>\n",
       "      <td>HydroGrid Bids processed changes:</td>\n",
       "      <td>0x0D0A31323A33353A30303A205374617274696E672075...</td>\n",
       "      <td>12:35:00: Starting up 12:35:00: Started on MK...</td>\n",
       "    </tr>\n",
       "    <tr>\n",
       "      <th>4806</th>\n",
       "      <td>16580906</td>\n",
       "      <td>2020-08-15 12:35:02.910</td>\n",
       "      <td>Transfer To Nimbus</td>\n",
       "      <td>1</td>\n",
       "      <td>676.0</td>\n",
       "      <td>HydroGrid Plans processed changes:</td>\n",
       "      <td>0x0D0A31323A33353A30333A2050726F63657373696E67...</td>\n",
       "      <td>12:35:03: Processing HydroGrid Plans 12:35:03...</td>\n",
       "    </tr>\n",
       "    <tr>\n",
       "      <th>4807</th>\n",
       "      <td>16580907</td>\n",
       "      <td>2020-08-15 12:35:36.993</td>\n",
       "      <td>Transfer To Nimbus</td>\n",
       "      <td>1</td>\n",
       "      <td>1426.0</td>\n",
       "      <td>HydroGrid Bids processed changes:</td>\n",
       "      <td>0x0D0A31323A33353A30333A204C6F6767696E67206F66...</td>\n",
       "      <td>12:35:03: Logging off Powel 12:35:33: Logged ...</td>\n",
       "    </tr>\n",
       "    <tr>\n",
       "      <th>4808</th>\n",
       "      <td>16580912</td>\n",
       "      <td>2020-08-15 12:35:37.057</td>\n",
       "      <td>Transfer To Nimbus</td>\n",
       "      <td>1</td>\n",
       "      <td>676.0</td>\n",
       "      <td>HydroGrid Plans processed changes:</td>\n",
       "      <td>0x0D0A31323A33353A33373A2050726F63657373696E67...</td>\n",
       "      <td>12:35:37: Processing HydroGrid Plans 12:35:37...</td>\n",
       "    </tr>\n",
       "    <tr>\n",
       "      <th>4809</th>\n",
       "      <td>16580913</td>\n",
       "      <td>2020-08-15 12:36:08.570</td>\n",
       "      <td>Transfer To Nimbus</td>\n",
       "      <td>1</td>\n",
       "      <td>1426.0</td>\n",
       "      <td>HydroGrid Bids processed changes:</td>\n",
       "      <td>0x0D0A31323A33353A33373A204C6F6767696E67206F66...</td>\n",
       "      <td>12:35:37: Logging off Powel 12:36:07: Logged ...</td>\n",
       "    </tr>\n",
       "    <tr>\n",
       "      <th>4810</th>\n",
       "      <td>16580919</td>\n",
       "      <td>2020-08-15 12:36:08.617</td>\n",
       "      <td>Transfer To Nimbus</td>\n",
       "      <td>1</td>\n",
       "      <td>676.0</td>\n",
       "      <td>HydroGrid Plans processed changes:</td>\n",
       "      <td>0x0D0A31323A33363A30383A2050726F63657373696E67...</td>\n",
       "      <td>12:36:08: Processing HydroGrid Plans 12:36:08...</td>\n",
       "    </tr>\n",
       "    <tr>\n",
       "      <th>4811</th>\n",
       "      <td>16580920</td>\n",
       "      <td>2020-08-15 12:36:42.603</td>\n",
       "      <td>Transfer To Nimbus</td>\n",
       "      <td>1</td>\n",
       "      <td>1426.0</td>\n",
       "      <td>HydroGrid Bids processed changes:</td>\n",
       "      <td>0x0D0A31323A33363A30383A204C6F6767696E67206F66...</td>\n",
       "      <td>12:36:08: Logging off Powel 12:36:39: Logged ...</td>\n",
       "    </tr>\n",
       "    <tr>\n",
       "      <th>4864</th>\n",
       "      <td>16603544</td>\n",
       "      <td>2020-08-16 22:54:16.630</td>\n",
       "      <td>Transfer To Nimbus</td>\n",
       "      <td>1</td>\n",
       "      <td>803.0</td>\n",
       "      <td>HydroGrid Bids processed changes:</td>\n",
       "      <td>0x0D0A32323A35343A31343A2050726F63657373696E67...</td>\n",
       "      <td>22:54:14: Processing WS/Emps 22:54:14: Proces...</td>\n",
       "    </tr>\n",
       "    <tr>\n",
       "      <th>4865</th>\n",
       "      <td>16603545</td>\n",
       "      <td>2020-08-16 22:54:16.660</td>\n",
       "      <td>Transfer To Nimbus</td>\n",
       "      <td>1</td>\n",
       "      <td>676.0</td>\n",
       "      <td>HydroGrid Plans processed changes:</td>\n",
       "      <td>0x0D0A32323A35343A31363A2050726F63657373696E67...</td>\n",
       "      <td>22:54:16: Processing HydroGrid Plans 22:54:16...</td>\n",
       "    </tr>\n",
       "    <tr>\n",
       "      <th>4866</th>\n",
       "      <td>16603546</td>\n",
       "      <td>2020-08-16 22:54:49.670</td>\n",
       "      <td>Transfer To Nimbus</td>\n",
       "      <td>1</td>\n",
       "      <td>1426.0</td>\n",
       "      <td>HydroGrid Bids processed changes:</td>\n",
       "      <td>0x0D0A32323A35343A31363A204C6F6767696E67206F66...</td>\n",
       "      <td>22:54:16: Logging off Powel 22:54:47: Logged ...</td>\n",
       "    </tr>\n",
       "    <tr>\n",
       "      <th>4867</th>\n",
       "      <td>16603549</td>\n",
       "      <td>2020-08-16 22:54:49.733</td>\n",
       "      <td>Transfer To Nimbus</td>\n",
       "      <td>1</td>\n",
       "      <td>676.0</td>\n",
       "      <td>HydroGrid Plans processed changes:</td>\n",
       "      <td>0x0D0A32323A35343A34393A2050726F63657373696E67...</td>\n",
       "      <td>22:54:49: Processing HydroGrid Plans 22:54:49...</td>\n",
       "    </tr>\n",
       "    <tr>\n",
       "      <th>4868</th>\n",
       "      <td>16603550</td>\n",
       "      <td>2020-08-16 22:55:24.970</td>\n",
       "      <td>Transfer To Nimbus</td>\n",
       "      <td>1</td>\n",
       "      <td>1426.0</td>\n",
       "      <td>HydroGrid Bids processed changes:</td>\n",
       "      <td>0x0D0A32323A35343A34393A204C6F6767696E67206F66...</td>\n",
       "      <td>22:54:49: Logging off Powel 22:55:20: Logged ...</td>\n",
       "    </tr>\n",
       "    <tr>\n",
       "      <th>4870</th>\n",
       "      <td>16603483</td>\n",
       "      <td>2020-08-16 22:48:48.370</td>\n",
       "      <td>Transfer To Nimbus</td>\n",
       "      <td>1</td>\n",
       "      <td>1328.0</td>\n",
       "      <td>HydroGrid Bids processed changes:</td>\n",
       "      <td>0x0D0A32323A34383A34353A2050726F63657373696E67...</td>\n",
       "      <td>22:48:45: Processing ECS 22:48:45: Executing ...</td>\n",
       "    </tr>\n",
       "    <tr>\n",
       "      <th>4871</th>\n",
       "      <td>16603484</td>\n",
       "      <td>2020-08-16 22:48:48.430</td>\n",
       "      <td>Transfer To Nimbus</td>\n",
       "      <td>1</td>\n",
       "      <td>676.0</td>\n",
       "      <td>HydroGrid Plans processed changes:</td>\n",
       "      <td>0x0D0A32323A34383A34383A2050726F63657373696E67...</td>\n",
       "      <td>22:48:48: Processing HydroGrid Plans 22:48:48...</td>\n",
       "    </tr>\n",
       "    <tr>\n",
       "      <th>4872</th>\n",
       "      <td>16603486</td>\n",
       "      <td>2020-08-16 22:49:19.917</td>\n",
       "      <td>Transfer To Nimbus</td>\n",
       "      <td>1</td>\n",
       "      <td>1426.0</td>\n",
       "      <td>HydroGrid Bids processed changes:</td>\n",
       "      <td>0x0D0A32323A34383A34383A204C6F6767696E67206F66...</td>\n",
       "      <td>22:48:48: Logging off Powel 22:49:19: Logged ...</td>\n",
       "    </tr>\n",
       "    <tr>\n",
       "      <th>4873</th>\n",
       "      <td>16603492</td>\n",
       "      <td>2020-08-16 22:49:19.963</td>\n",
       "      <td>Transfer To Nimbus</td>\n",
       "      <td>1</td>\n",
       "      <td>676.0</td>\n",
       "      <td>HydroGrid Plans processed changes:</td>\n",
       "      <td>0x0D0A32323A34393A32303A2050726F63657373696E67...</td>\n",
       "      <td>22:49:20: Processing HydroGrid Plans 22:49:20...</td>\n",
       "    </tr>\n",
       "    <tr>\n",
       "      <th>4874</th>\n",
       "      <td>16603493</td>\n",
       "      <td>2020-08-16 22:49:53.747</td>\n",
       "      <td>Transfer To Nimbus</td>\n",
       "      <td>1</td>\n",
       "      <td>1426.0</td>\n",
       "      <td>HydroGrid Bids processed changes:</td>\n",
       "      <td>0x0D0A32323A34393A32303A204C6F6767696E67206F66...</td>\n",
       "      <td>22:49:20: Logging off Powel 22:49:50: Logged ...</td>\n",
       "    </tr>\n",
       "    <tr>\n",
       "      <th>4875</th>\n",
       "      <td>16603496</td>\n",
       "      <td>2020-08-16 22:49:53.793</td>\n",
       "      <td>Transfer To Nimbus</td>\n",
       "      <td>1</td>\n",
       "      <td>676.0</td>\n",
       "      <td>HydroGrid Plans processed changes:</td>\n",
       "      <td>0x0D0A32323A34393A35333A2050726F63657373696E67...</td>\n",
       "      <td>22:49:53: Processing HydroGrid Plans 22:49:53...</td>\n",
       "    </tr>\n",
       "    <tr>\n",
       "      <th>5135</th>\n",
       "      <td>16603632</td>\n",
       "      <td>2020-08-16 23:02:08.320</td>\n",
       "      <td>Transfer To Nimbus</td>\n",
       "      <td>1</td>\n",
       "      <td>676.0</td>\n",
       "      <td>HydroGrid Plans processed changes:</td>\n",
       "      <td>0x0D0A32333A30323A30383A2050726F63657373696E67...</td>\n",
       "      <td>23:02:08: Processing HydroGrid Plans 23:02:08...</td>\n",
       "    </tr>\n",
       "    <tr>\n",
       "      <th>5137</th>\n",
       "      <td>16603638</td>\n",
       "      <td>2020-08-16 23:02:40.667</td>\n",
       "      <td>Transfer To Nimbus</td>\n",
       "      <td>1</td>\n",
       "      <td>1328.0</td>\n",
       "      <td>HydroGrid Bids processed changes:</td>\n",
       "      <td>0x0D0A32333A30323A33393A2050726F63657373696E67...</td>\n",
       "      <td>23:02:39: Processing ECS 23:02:39: Executing ...</td>\n",
       "    </tr>\n",
       "    <tr>\n",
       "      <th>5138</th>\n",
       "      <td>16603639</td>\n",
       "      <td>2020-08-16 23:02:40.700</td>\n",
       "      <td>Transfer To Nimbus</td>\n",
       "      <td>1</td>\n",
       "      <td>676.0</td>\n",
       "      <td>HydroGrid Plans processed changes:</td>\n",
       "      <td>0x0D0A32333A30323A34303A2050726F63657373696E67...</td>\n",
       "      <td>23:02:40: Processing HydroGrid Plans 23:02:40...</td>\n",
       "    </tr>\n",
       "    <tr>\n",
       "      <th>5198</th>\n",
       "      <td>17643740</td>\n",
       "      <td>2020-10-21 18:51:50.930</td>\n",
       "      <td>PriceCalcWs</td>\n",
       "      <td>1</td>\n",
       "      <td>265.0</td>\n",
       "      <td>An unexpected error occurred</td>\n",
       "      <td>0x31383A35313A34392E3432313A204665746368696E67...</td>\n",
       "      <td>18:51:49.421: Fetching data with token of \"54b...</td>\n",
       "    </tr>\n",
       "    <tr>\n",
       "      <th>6543</th>\n",
       "      <td>17645194</td>\n",
       "      <td>2020-10-21 20:10:53.793</td>\n",
       "      <td>PriceCalcWs</td>\n",
       "      <td>1</td>\n",
       "      <td>265.0</td>\n",
       "      <td>An unexpected error occurred</td>\n",
       "      <td>0x32303A31303A34382E3936323A204665746368696E67...</td>\n",
       "      <td>20:10:48.962: Fetching data with token of \"54b...</td>\n",
       "    </tr>\n",
       "  </tbody>\n",
       "</table>\n",
       "</div>"
      ],
      "text/plain": [
       "        log_id                 log_date     log_application  lvl_id  \\\n",
       "1137  16962253  2020-09-15 09:29:30.847  Transfer To Nimbus       1   \n",
       "1138  16962259  2020-09-15 09:30:19.720  Transfer To Nimbus       1   \n",
       "1139  16962266  2020-09-15 09:31:08.510  Transfer To Nimbus       1   \n",
       "1921  17641159  2020-10-21 16:38:20.013         PriceCalcWs       1   \n",
       "1942  16580522  2020-08-15 12:00:57.440  Transfer To Nimbus       1   \n",
       "1943  16580523  2020-08-15 12:00:57.517  Transfer To Nimbus       1   \n",
       "1945  16580533  2020-08-15 12:01:32.060  Transfer To Nimbus       1   \n",
       "1946  16580535  2020-08-15 12:01:32.153  Transfer To Nimbus       1   \n",
       "1947  16580536  2020-08-15 12:02:03.910  Transfer To Nimbus       1   \n",
       "2156  16580600  2020-08-15 12:07:06.377  Transfer To Nimbus       1   \n",
       "2158  16580605  2020-08-15 12:07:38.693  Transfer To Nimbus       1   \n",
       "2159  16580606  2020-08-15 12:07:38.740  Transfer To Nimbus       1   \n",
       "2160  16580607  2020-08-15 12:08:12.687  Transfer To Nimbus       1   \n",
       "2161  16580611  2020-08-15 12:08:12.733  Transfer To Nimbus       1   \n",
       "2162  16580612  2020-08-15 12:08:44.227  Transfer To Nimbus       1   \n",
       "2952  17641941  2020-10-21 17:18:50.007         PriceCalcWs       1   \n",
       "4063  16603625  2020-08-16 23:01:34.473  Transfer To Nimbus       1   \n",
       "4064  16603626  2020-08-16 23:01:34.503  Transfer To Nimbus       1   \n",
       "4065  16603627  2020-08-16 23:02:08.273  Transfer To Nimbus       1   \n",
       "4805  16580903  2020-08-15 12:35:02.877  Transfer To Nimbus       1   \n",
       "4806  16580906  2020-08-15 12:35:02.910  Transfer To Nimbus       1   \n",
       "4807  16580907  2020-08-15 12:35:36.993  Transfer To Nimbus       1   \n",
       "4808  16580912  2020-08-15 12:35:37.057  Transfer To Nimbus       1   \n",
       "4809  16580913  2020-08-15 12:36:08.570  Transfer To Nimbus       1   \n",
       "4810  16580919  2020-08-15 12:36:08.617  Transfer To Nimbus       1   \n",
       "4811  16580920  2020-08-15 12:36:42.603  Transfer To Nimbus       1   \n",
       "4864  16603544  2020-08-16 22:54:16.630  Transfer To Nimbus       1   \n",
       "4865  16603545  2020-08-16 22:54:16.660  Transfer To Nimbus       1   \n",
       "4866  16603546  2020-08-16 22:54:49.670  Transfer To Nimbus       1   \n",
       "4867  16603549  2020-08-16 22:54:49.733  Transfer To Nimbus       1   \n",
       "4868  16603550  2020-08-16 22:55:24.970  Transfer To Nimbus       1   \n",
       "4870  16603483  2020-08-16 22:48:48.370  Transfer To Nimbus       1   \n",
       "4871  16603484  2020-08-16 22:48:48.430  Transfer To Nimbus       1   \n",
       "4872  16603486  2020-08-16 22:49:19.917  Transfer To Nimbus       1   \n",
       "4873  16603492  2020-08-16 22:49:19.963  Transfer To Nimbus       1   \n",
       "4874  16603493  2020-08-16 22:49:53.747  Transfer To Nimbus       1   \n",
       "4875  16603496  2020-08-16 22:49:53.793  Transfer To Nimbus       1   \n",
       "5135  16603632  2020-08-16 23:02:08.320  Transfer To Nimbus       1   \n",
       "5137  16603638  2020-08-16 23:02:40.667  Transfer To Nimbus       1   \n",
       "5138  16603639  2020-08-16 23:02:40.700  Transfer To Nimbus       1   \n",
       "5198  17643740  2020-10-21 18:51:50.930         PriceCalcWs       1   \n",
       "6543  17645194  2020-10-21 20:10:53.793         PriceCalcWs       1   \n",
       "\n",
       "      log_attlen                             log_text  \\\n",
       "1137       753.0              ECS processed changes:    \n",
       "1138       753.0              ECS processed changes:    \n",
       "1139       753.0              ECS processed changes:    \n",
       "1921       266.0         An unexpected error occurred   \n",
       "1942       745.0   HydroGrid Bids processed changes:    \n",
       "1943       676.0  HydroGrid Plans processed changes:    \n",
       "1945      1328.0   HydroGrid Bids processed changes:    \n",
       "1946       676.0  HydroGrid Plans processed changes:    \n",
       "1947      1426.0   HydroGrid Bids processed changes:    \n",
       "2156       676.0  HydroGrid Plans processed changes:    \n",
       "2158      1328.0   HydroGrid Bids processed changes:    \n",
       "2159       676.0  HydroGrid Plans processed changes:    \n",
       "2160      1426.0   HydroGrid Bids processed changes:    \n",
       "2161       676.0  HydroGrid Plans processed changes:    \n",
       "2162      1426.0   HydroGrid Bids processed changes:    \n",
       "2952       266.0         An unexpected error occurred   \n",
       "4063      1328.0   HydroGrid Bids processed changes:    \n",
       "4064       676.0  HydroGrid Plans processed changes:    \n",
       "4065      1426.0   HydroGrid Bids processed changes:    \n",
       "4805      1932.0   HydroGrid Bids processed changes:    \n",
       "4806       676.0  HydroGrid Plans processed changes:    \n",
       "4807      1426.0   HydroGrid Bids processed changes:    \n",
       "4808       676.0  HydroGrid Plans processed changes:    \n",
       "4809      1426.0   HydroGrid Bids processed changes:    \n",
       "4810       676.0  HydroGrid Plans processed changes:    \n",
       "4811      1426.0   HydroGrid Bids processed changes:    \n",
       "4864       803.0   HydroGrid Bids processed changes:    \n",
       "4865       676.0  HydroGrid Plans processed changes:    \n",
       "4866      1426.0   HydroGrid Bids processed changes:    \n",
       "4867       676.0  HydroGrid Plans processed changes:    \n",
       "4868      1426.0   HydroGrid Bids processed changes:    \n",
       "4870      1328.0   HydroGrid Bids processed changes:    \n",
       "4871       676.0  HydroGrid Plans processed changes:    \n",
       "4872      1426.0   HydroGrid Bids processed changes:    \n",
       "4873       676.0  HydroGrid Plans processed changes:    \n",
       "4874      1426.0   HydroGrid Bids processed changes:    \n",
       "4875       676.0  HydroGrid Plans processed changes:    \n",
       "5135       676.0  HydroGrid Plans processed changes:    \n",
       "5137      1328.0   HydroGrid Bids processed changes:    \n",
       "5138       676.0  HydroGrid Plans processed changes:    \n",
       "5198       265.0         An unexpected error occurred   \n",
       "6543       265.0         An unexpected error occurred   \n",
       "\n",
       "                                               log_data  \\\n",
       "1137  0x0D0A30393A32383A34313A2050726F63657373696E67...   \n",
       "1138  0x0D0A30393A32393A33303A2050726F63657373696E67...   \n",
       "1139  0x0D0A30393A33303A31393A2050726F63657373696E67...   \n",
       "1921  0x31363A33383A31382E3137313A204665746368696E67...   \n",
       "1942  0x0D0A31323A30303A35373A2050726F63657373696E67...   \n",
       "1943  0x0D0A31323A30303A35373A2050726F63657373696E67...   \n",
       "1945  0x0D0A31323A30313A32383A2050726F63657373696E67...   \n",
       "1946  0x0D0A31323A30313A33323A2050726F63657373696E67...   \n",
       "1947  0x0D0A31323A30313A33323A204C6F6767696E67206F66...   \n",
       "2156  0x0D0A31323A30373A30363A2050726F63657373696E67...   \n",
       "2158  0x0D0A31323A30373A33373A2050726F63657373696E67...   \n",
       "2159  0x0D0A31323A30373A33383A2050726F63657373696E67...   \n",
       "2160  0x0D0A31323A30373A33383A204C6F6767696E67206F66...   \n",
       "2161  0x0D0A31323A30383A31323A2050726F63657373696E67...   \n",
       "2162  0x0D0A31323A30383A31323A204C6F6767696E67206F66...   \n",
       "2952  0x31373A31383A34392E3536363A204665746368696E67...   \n",
       "4063  0x0D0A32333A30313A33333A2050726F63657373696E67...   \n",
       "4064  0x0D0A32333A30313A33343A2050726F63657373696E67...   \n",
       "4065  0x0D0A32333A30313A33343A204C6F6767696E67206F66...   \n",
       "4805  0x0D0A31323A33353A30303A205374617274696E672075...   \n",
       "4806  0x0D0A31323A33353A30333A2050726F63657373696E67...   \n",
       "4807  0x0D0A31323A33353A30333A204C6F6767696E67206F66...   \n",
       "4808  0x0D0A31323A33353A33373A2050726F63657373696E67...   \n",
       "4809  0x0D0A31323A33353A33373A204C6F6767696E67206F66...   \n",
       "4810  0x0D0A31323A33363A30383A2050726F63657373696E67...   \n",
       "4811  0x0D0A31323A33363A30383A204C6F6767696E67206F66...   \n",
       "4864  0x0D0A32323A35343A31343A2050726F63657373696E67...   \n",
       "4865  0x0D0A32323A35343A31363A2050726F63657373696E67...   \n",
       "4866  0x0D0A32323A35343A31363A204C6F6767696E67206F66...   \n",
       "4867  0x0D0A32323A35343A34393A2050726F63657373696E67...   \n",
       "4868  0x0D0A32323A35343A34393A204C6F6767696E67206F66...   \n",
       "4870  0x0D0A32323A34383A34353A2050726F63657373696E67...   \n",
       "4871  0x0D0A32323A34383A34383A2050726F63657373696E67...   \n",
       "4872  0x0D0A32323A34383A34383A204C6F6767696E67206F66...   \n",
       "4873  0x0D0A32323A34393A32303A2050726F63657373696E67...   \n",
       "4874  0x0D0A32323A34393A32303A204C6F6767696E67206F66...   \n",
       "4875  0x0D0A32323A34393A35333A2050726F63657373696E67...   \n",
       "5135  0x0D0A32333A30323A30383A2050726F63657373696E67...   \n",
       "5137  0x0D0A32333A30323A33393A2050726F63657373696E67...   \n",
       "5138  0x0D0A32333A30323A34303A2050726F63657373696E67...   \n",
       "5198  0x31383A35313A34392E3432313A204665746368696E67...   \n",
       "6543  0x32303A31303A34382E3936323A204665746368696E67...   \n",
       "\n",
       "                                              text_data  \n",
       "1137   09:28:41: Processing HydroGrid Bids 09:28:41:...  \n",
       "1138   09:29:30: Processing HydroGrid Bids 09:29:30:...  \n",
       "1139   09:30:19: Processing HydroGrid Bids 09:30:19:...  \n",
       "1921  16:38:18.171: Fetching data with token of \"54b...  \n",
       "1942   12:00:57: Processing Curve/Actual 12:00:57: P...  \n",
       "1943   12:00:57: Processing HydroGrid Plans 12:00:57...  \n",
       "1945   12:01:28: Processing ECS 12:01:28: Executing ...  \n",
       "1946   12:01:32: Processing HydroGrid Plans 12:01:32...  \n",
       "1947   12:01:32: Logging off Powel 12:02:02: Logged ...  \n",
       "2156   12:07:06: Processing HydroGrid Plans 12:07:06...  \n",
       "2158   12:07:37: Processing ECS 12:07:37: Executing ...  \n",
       "2159   12:07:38: Processing HydroGrid Plans 12:07:38...  \n",
       "2160   12:07:38: Logging off Powel 12:08:09: Logged ...  \n",
       "2161   12:08:12: Processing HydroGrid Plans 12:08:12...  \n",
       "2162   12:08:12: Logging off Powel 12:08:43: Logged ...  \n",
       "2952  17:18:49.566: Fetching data with token of \"54b...  \n",
       "4063   23:01:33: Processing ECS 23:01:33: Executing ...  \n",
       "4064   23:01:34: Processing HydroGrid Plans 23:01:34...  \n",
       "4065   23:01:34: Logging off Powel 23:02:05: Logged ...  \n",
       "4805   12:35:00: Starting up 12:35:00: Started on MK...  \n",
       "4806   12:35:03: Processing HydroGrid Plans 12:35:03...  \n",
       "4807   12:35:03: Logging off Powel 12:35:33: Logged ...  \n",
       "4808   12:35:37: Processing HydroGrid Plans 12:35:37...  \n",
       "4809   12:35:37: Logging off Powel 12:36:07: Logged ...  \n",
       "4810   12:36:08: Processing HydroGrid Plans 12:36:08...  \n",
       "4811   12:36:08: Logging off Powel 12:36:39: Logged ...  \n",
       "4864   22:54:14: Processing WS/Emps 22:54:14: Proces...  \n",
       "4865   22:54:16: Processing HydroGrid Plans 22:54:16...  \n",
       "4866   22:54:16: Logging off Powel 22:54:47: Logged ...  \n",
       "4867   22:54:49: Processing HydroGrid Plans 22:54:49...  \n",
       "4868   22:54:49: Logging off Powel 22:55:20: Logged ...  \n",
       "4870   22:48:45: Processing ECS 22:48:45: Executing ...  \n",
       "4871   22:48:48: Processing HydroGrid Plans 22:48:48...  \n",
       "4872   22:48:48: Logging off Powel 22:49:19: Logged ...  \n",
       "4873   22:49:20: Processing HydroGrid Plans 22:49:20...  \n",
       "4874   22:49:20: Logging off Powel 22:49:50: Logged ...  \n",
       "4875   22:49:53: Processing HydroGrid Plans 22:49:53...  \n",
       "5135   23:02:08: Processing HydroGrid Plans 23:02:08...  \n",
       "5137   23:02:39: Processing ECS 23:02:39: Executing ...  \n",
       "5138   23:02:40: Processing HydroGrid Plans 23:02:40...  \n",
       "5198  18:51:49.421: Fetching data with token of \"54b...  \n",
       "6543  20:10:48.962: Fetching data with token of \"54b...  "
      ]
     },
     "execution_count": 37,
     "metadata": {},
     "output_type": "execute_result"
    }
   ],
   "source": [
    "# Almost all errors are in Transfer To Nimbus, over the course of two days\n",
    "# Makes me believe that this dataset contains a lot of resolved errors\n",
    "# And that looking at identified errors in the dataset is uninteresting.\n",
    "df[df['lvl_id'] == 1]"
   ]
  },
  {
   "cell_type": "code",
   "execution_count": 38,
   "metadata": {
    "colab": {
     "base_uri": "https://localhost:8080/",
     "height": 359
    },
    "id": "OdO3aAdbKW5o",
    "outputId": "35bc788a-9a7f-4c9f-80fd-0d1d8b339ae8"
   },
   "outputs": [
    {
     "data": {
      "text/html": [
       "<div>\n",
       "<style scoped>\n",
       "    .dataframe tbody tr th:only-of-type {\n",
       "        vertical-align: middle;\n",
       "    }\n",
       "\n",
       "    .dataframe tbody tr th {\n",
       "        vertical-align: top;\n",
       "    }\n",
       "\n",
       "    .dataframe thead th {\n",
       "        text-align: right;\n",
       "    }\n",
       "</style>\n",
       "<table border=\"1\" class=\"dataframe\">\n",
       "  <thead>\n",
       "    <tr style=\"text-align: right;\">\n",
       "      <th></th>\n",
       "      <th>log_id</th>\n",
       "      <th>log_date</th>\n",
       "      <th>log_application</th>\n",
       "      <th>lvl_id</th>\n",
       "      <th>log_attlen</th>\n",
       "      <th>log_text</th>\n",
       "      <th>log_data</th>\n",
       "      <th>text_data</th>\n",
       "    </tr>\n",
       "  </thead>\n",
       "  <tbody>\n",
       "    <tr>\n",
       "      <th>44</th>\n",
       "      <td>16845325</td>\n",
       "      <td>2020-09-05 10:51:06.737</td>\n",
       "      <td>WAPI Curve Import</td>\n",
       "      <td>2</td>\n",
       "      <td>2299.0</td>\n",
       "      <td>Checking subscriptions 05.09.2020 10:50:19</td>\n",
       "      <td>0x20202020202020202020202020202020202020202020...</td>\n",
       "      <td>...</td>\n",
       "    </tr>\n",
       "    <tr>\n",
       "      <th>45</th>\n",
       "      <td>16845334</td>\n",
       "      <td>2020-09-05 10:52:11.100</td>\n",
       "      <td>WAPI Curve Import</td>\n",
       "      <td>2</td>\n",
       "      <td>1887.0</td>\n",
       "      <td>Checking subscriptions 05.09.2020 10:51:19</td>\n",
       "      <td>0x20202020202020202020202020202020202020202020...</td>\n",
       "      <td>...</td>\n",
       "    </tr>\n",
       "    <tr>\n",
       "      <th>46</th>\n",
       "      <td>16845342</td>\n",
       "      <td>2020-09-05 10:53:30.980</td>\n",
       "      <td>WAPI Curve Import</td>\n",
       "      <td>2</td>\n",
       "      <td>2632.0</td>\n",
       "      <td>Checking subscriptions 05.09.2020 10:52:20</td>\n",
       "      <td>0x20202020202020202020202020202020202020202020...</td>\n",
       "      <td>...</td>\n",
       "    </tr>\n",
       "    <tr>\n",
       "      <th>47</th>\n",
       "      <td>16845349</td>\n",
       "      <td>2020-09-05 10:54:38.790</td>\n",
       "      <td>WAPI Curve Import</td>\n",
       "      <td>2</td>\n",
       "      <td>3936.0</td>\n",
       "      <td>Checking subscriptions 05.09.2020 10:53:30</td>\n",
       "      <td>0x436865636B696E6720737562736372697074696F6E3A...</td>\n",
       "      <td>Checking subscription: 20720, last updated: 04...</td>\n",
       "    </tr>\n",
       "    <tr>\n",
       "      <th>280</th>\n",
       "      <td>16768634</td>\n",
       "      <td>2020-08-30 06:46:29.503</td>\n",
       "      <td>WAPI Curve Import</td>\n",
       "      <td>2</td>\n",
       "      <td>1412.0</td>\n",
       "      <td>Checking subscriptions 30.08.2020 06:46:28</td>\n",
       "      <td>0x20202020202020202020202020202020202020202020...</td>\n",
       "      <td>...</td>\n",
       "    </tr>\n",
       "    <tr>\n",
       "      <th>283</th>\n",
       "      <td>16768640</td>\n",
       "      <td>2020-08-30 06:48:45.937</td>\n",
       "      <td>WAPI Curve Import</td>\n",
       "      <td>2</td>\n",
       "      <td>6060.0</td>\n",
       "      <td>Checking subscriptions 30.08.2020 06:47:29</td>\n",
       "      <td>0x20202020202020202020202020202020202020202020...</td>\n",
       "      <td>...</td>\n",
       "    </tr>\n",
       "    <tr>\n",
       "      <th>1893</th>\n",
       "      <td>16962469</td>\n",
       "      <td>2020-09-15 09:48:21.820</td>\n",
       "      <td>WAPI Curve Import</td>\n",
       "      <td>2</td>\n",
       "      <td>2544.0</td>\n",
       "      <td>Checking subscriptions 15.09.2020 09:46:30</td>\n",
       "      <td>0x436865636B696E6720737562736372697074696F6E3A...</td>\n",
       "      <td>Checking subscription: 20720, last updated: 14...</td>\n",
       "    </tr>\n",
       "    <tr>\n",
       "      <th>5016</th>\n",
       "      <td>17545437</td>\n",
       "      <td>2020-10-17 23:32:15.347</td>\n",
       "      <td>MKInvoice</td>\n",
       "      <td>2</td>\n",
       "      <td>939.0</td>\n",
       "      <td>Brady Import Init</td>\n",
       "      <td>0x556E61626C6520746F20636F6E6E65637420746F2042...</td>\n",
       "      <td>Unable to connect to Brady Oracle database. Er...</td>\n",
       "    </tr>\n",
       "    <tr>\n",
       "      <th>8161</th>\n",
       "      <td>16963897</td>\n",
       "      <td>2020-09-15 11:45:47.490</td>\n",
       "      <td>WAPI Curve Import</td>\n",
       "      <td>2</td>\n",
       "      <td>2417.0</td>\n",
       "      <td>Checking subscriptions 15.09.2020 11:43:55</td>\n",
       "      <td>0x436865636B696E6720737562736372697074696F6E3A...</td>\n",
       "      <td>Checking subscription: 20720, last updated: 14...</td>\n",
       "    </tr>\n",
       "    <tr>\n",
       "      <th>9799</th>\n",
       "      <td>17648099</td>\n",
       "      <td>2020-10-21 22:43:15.130</td>\n",
       "      <td>MKInvoice</td>\n",
       "      <td>2</td>\n",
       "      <td>939.0</td>\n",
       "      <td>Brady Import Init</td>\n",
       "      <td>0x556E61626C6520746F20636F6E6E65637420746F2042...</td>\n",
       "      <td>Unable to connect to Brady Oracle database. Er...</td>\n",
       "    </tr>\n",
       "  </tbody>\n",
       "</table>\n",
       "</div>"
      ],
      "text/plain": [
       "        log_id                 log_date    log_application  lvl_id  \\\n",
       "44    16845325  2020-09-05 10:51:06.737  WAPI Curve Import       2   \n",
       "45    16845334  2020-09-05 10:52:11.100  WAPI Curve Import       2   \n",
       "46    16845342  2020-09-05 10:53:30.980  WAPI Curve Import       2   \n",
       "47    16845349  2020-09-05 10:54:38.790  WAPI Curve Import       2   \n",
       "280   16768634  2020-08-30 06:46:29.503  WAPI Curve Import       2   \n",
       "283   16768640  2020-08-30 06:48:45.937  WAPI Curve Import       2   \n",
       "1893  16962469  2020-09-15 09:48:21.820  WAPI Curve Import       2   \n",
       "5016  17545437  2020-10-17 23:32:15.347          MKInvoice       2   \n",
       "8161  16963897  2020-09-15 11:45:47.490  WAPI Curve Import       2   \n",
       "9799  17648099  2020-10-21 22:43:15.130          MKInvoice       2   \n",
       "\n",
       "      log_attlen                                    log_text  \\\n",
       "44        2299.0  Checking subscriptions 05.09.2020 10:50:19   \n",
       "45        1887.0  Checking subscriptions 05.09.2020 10:51:19   \n",
       "46        2632.0  Checking subscriptions 05.09.2020 10:52:20   \n",
       "47        3936.0  Checking subscriptions 05.09.2020 10:53:30   \n",
       "280       1412.0  Checking subscriptions 30.08.2020 06:46:28   \n",
       "283       6060.0  Checking subscriptions 30.08.2020 06:47:29   \n",
       "1893      2544.0  Checking subscriptions 15.09.2020 09:46:30   \n",
       "5016       939.0                           Brady Import Init   \n",
       "8161      2417.0  Checking subscriptions 15.09.2020 11:43:55   \n",
       "9799       939.0                           Brady Import Init   \n",
       "\n",
       "                                               log_data  \\\n",
       "44    0x20202020202020202020202020202020202020202020...   \n",
       "45    0x20202020202020202020202020202020202020202020...   \n",
       "46    0x20202020202020202020202020202020202020202020...   \n",
       "47    0x436865636B696E6720737562736372697074696F6E3A...   \n",
       "280   0x20202020202020202020202020202020202020202020...   \n",
       "283   0x20202020202020202020202020202020202020202020...   \n",
       "1893  0x436865636B696E6720737562736372697074696F6E3A...   \n",
       "5016  0x556E61626C6520746F20636F6E6E65637420746F2042...   \n",
       "8161  0x436865636B696E6720737562736372697074696F6E3A...   \n",
       "9799  0x556E61626C6520746F20636F6E6E65637420746F2042...   \n",
       "\n",
       "                                              text_data  \n",
       "44                                                  ...  \n",
       "45                                                  ...  \n",
       "46                                                  ...  \n",
       "47    Checking subscription: 20720, last updated: 04...  \n",
       "280                                                 ...  \n",
       "283                                                 ...  \n",
       "1893  Checking subscription: 20720, last updated: 14...  \n",
       "5016  Unable to connect to Brady Oracle database. Er...  \n",
       "8161  Checking subscription: 20720, last updated: 14...  \n",
       "9799  Unable to connect to Brady Oracle database. Er...  "
      ]
     },
     "execution_count": 38,
     "metadata": {},
     "output_type": "execute_result"
    }
   ],
   "source": [
    "# 2 = Warning\n",
    "df[df['lvl_id'] == 2]"
   ]
  },
  {
   "cell_type": "code",
   "execution_count": 39,
   "metadata": {
    "colab": {
     "base_uri": "https://localhost:8080/",
     "height": 173
    },
    "id": "0xfc02cfJS3Y",
    "outputId": "5f1239d8-1d18-46dd-e586-aba692a057f3"
   },
   "outputs": [
    {
     "data": {
      "text/html": [
       "<div>\n",
       "<style scoped>\n",
       "    .dataframe tbody tr th:only-of-type {\n",
       "        vertical-align: middle;\n",
       "    }\n",
       "\n",
       "    .dataframe tbody tr th {\n",
       "        vertical-align: top;\n",
       "    }\n",
       "\n",
       "    .dataframe thead th {\n",
       "        text-align: right;\n",
       "    }\n",
       "</style>\n",
       "<table border=\"1\" class=\"dataframe\">\n",
       "  <thead>\n",
       "    <tr style=\"text-align: right;\">\n",
       "      <th></th>\n",
       "      <th>log_id</th>\n",
       "      <th>log_date</th>\n",
       "      <th>log_application</th>\n",
       "      <th>lvl_id</th>\n",
       "      <th>log_attlen</th>\n",
       "      <th>log_text</th>\n",
       "      <th>log_data</th>\n",
       "      <th>text_data</th>\n",
       "    </tr>\n",
       "  </thead>\n",
       "  <tbody>\n",
       "    <tr>\n",
       "      <th>28315</th>\n",
       "      <td>17408033</td>\n",
       "      <td>2020-10-12 13:18:20.613</td>\n",
       "      <td>TradeFetcher</td>\n",
       "      <td>0</td>\n",
       "      <td>612.0</td>\n",
       "      <td>Unexpected exception</td>\n",
       "      <td>0x5452443032363B414D503B31305944452D5257454E45...</td>\n",
       "      <td>TRD026;AMP;10YDE-RWENET---I;S;Intraday_Hour_Po...</td>\n",
       "    </tr>\n",
       "    <tr>\n",
       "      <th>30175</th>\n",
       "      <td>17408024</td>\n",
       "      <td>2020-10-12 13:17:20.607</td>\n",
       "      <td>TradeFetcher</td>\n",
       "      <td>0</td>\n",
       "      <td>612.0</td>\n",
       "      <td>Unexpected exception</td>\n",
       "      <td>0x5452443032363B414D503B31305944452D5257454E45...</td>\n",
       "      <td>TRD026;AMP;10YDE-RWENET---I;S;Intraday_Hour_Po...</td>\n",
       "    </tr>\n",
       "    <tr>\n",
       "      <th>31209</th>\n",
       "      <td>17407986</td>\n",
       "      <td>2020-10-12 13:15:20.703</td>\n",
       "      <td>TradeFetcher</td>\n",
       "      <td>0</td>\n",
       "      <td>612.0</td>\n",
       "      <td>Unexpected exception</td>\n",
       "      <td>0x5452443032363B414D503B31305944452D5257454E45...</td>\n",
       "      <td>TRD026;AMP;10YDE-RWENET---I;S;Intraday_Hour_Po...</td>\n",
       "    </tr>\n",
       "    <tr>\n",
       "      <th>31448</th>\n",
       "      <td>17408044</td>\n",
       "      <td>2020-10-12 13:19:20.590</td>\n",
       "      <td>TradeFetcher</td>\n",
       "      <td>0</td>\n",
       "      <td>612.0</td>\n",
       "      <td>Unexpected exception</td>\n",
       "      <td>0x5452443032363B414D503B31305944452D5257454E45...</td>\n",
       "      <td>TRD026;AMP;10YDE-RWENET---I;S;Intraday_Hour_Po...</td>\n",
       "    </tr>\n",
       "  </tbody>\n",
       "</table>\n",
       "</div>"
      ],
      "text/plain": [
       "         log_id                 log_date log_application  lvl_id  log_attlen  \\\n",
       "28315  17408033  2020-10-12 13:18:20.613    TradeFetcher       0       612.0   \n",
       "30175  17408024  2020-10-12 13:17:20.607    TradeFetcher       0       612.0   \n",
       "31209  17407986  2020-10-12 13:15:20.703    TradeFetcher       0       612.0   \n",
       "31448  17408044  2020-10-12 13:19:20.590    TradeFetcher       0       612.0   \n",
       "\n",
       "                   log_text  \\\n",
       "28315  Unexpected exception   \n",
       "30175  Unexpected exception   \n",
       "31209  Unexpected exception   \n",
       "31448  Unexpected exception   \n",
       "\n",
       "                                                log_data  \\\n",
       "28315  0x5452443032363B414D503B31305944452D5257454E45...   \n",
       "30175  0x5452443032363B414D503B31305944452D5257454E45...   \n",
       "31209  0x5452443032363B414D503B31305944452D5257454E45...   \n",
       "31448  0x5452443032363B414D503B31305944452D5257454E45...   \n",
       "\n",
       "                                               text_data  \n",
       "28315  TRD026;AMP;10YDE-RWENET---I;S;Intraday_Hour_Po...  \n",
       "30175  TRD026;AMP;10YDE-RWENET---I;S;Intraday_Hour_Po...  \n",
       "31209  TRD026;AMP;10YDE-RWENET---I;S;Intraday_Hour_Po...  \n",
       "31448  TRD026;AMP;10YDE-RWENET---I;S;Intraday_Hour_Po...  "
      ]
     },
     "execution_count": 39,
     "metadata": {},
     "output_type": "execute_result"
    }
   ],
   "source": [
    "# Critical Errors\n",
    "# Intraday, TradeFetcher\n",
    "# Timespan: 4 minutes\n",
    "df_100[df_100['lvl_id'] == 0]"
   ]
  },
  {
   "cell_type": "markdown",
   "metadata": {
    "id": "cuuK3iAN68QI"
   },
   "source": [
    "## What is Log_AttLen?"
   ]
  },
  {
   "cell_type": "code",
   "execution_count": 40,
   "metadata": {
    "colab": {
     "base_uri": "https://localhost:8080/"
    },
    "id": "d6mfyPsq6jE9",
    "outputId": "30b57d27-aed0-4ab2-b1c7-d6138830f972"
   },
   "outputs": [
    {
     "data": {
      "text/plain": [
       "340"
      ]
     },
     "execution_count": 40,
     "metadata": {},
     "output_type": "execute_result"
    }
   ],
   "source": [
    "# Checking length of a log_data instance\n",
    "len('0x30343A32383A31372E3439363A2052657475726E696E6720393920726F77732E0D0A30343A32383A31372E3439363A204665746368696E672064617461207769746820746F6B656E206F66202235346261633962652D336633622D343139382D393934622D6366303833643637376132662220616E6420726567696F6E206F662022444B31222E0D0A30343A32383A31372E3539303A2052657475726E696E6720393920726F77732E')"
   ]
  },
  {
   "cell_type": "code",
   "execution_count": 41,
   "metadata": {
    "colab": {
     "base_uri": "https://localhost:8080/"
    },
    "id": "j7C8dsjO6jHb",
    "outputId": "02de80b1-1b4d-4523-cbd4-a3226cd60f1c"
   },
   "outputs": [
    {
     "data": {
      "text/plain": [
       "169"
      ]
     },
     "execution_count": 41,
     "metadata": {},
     "output_type": "execute_result"
    }
   ],
   "source": [
    "### Log_AttLen is the length of text_data ###\n",
    "len('04:28:17.496: Returning 99 rows.  04:28:17.496: Fetching data with token of \"54bac9be-3f3b-4198-994b-cf083d677a2f\" and region of \"DK1\".  04:28:17.590: Returning 99 rows.')"
   ]
  },
  {
   "cell_type": "markdown",
   "metadata": {
    "id": "SPeEBVSQr_tR"
   },
   "source": [
    "# Data cleaning #2"
   ]
  },
  {
   "cell_type": "markdown",
   "metadata": {
    "id": "26E9B93r6fIi"
   },
   "source": [
    "## Looking at NULL values"
   ]
  },
  {
   "cell_type": "code",
   "execution_count": 42,
   "metadata": {
    "colab": {
     "base_uri": "https://localhost:8080/"
    },
    "id": "8bz9inBa5kOQ",
    "outputId": "9201af58-ba6e-4b95-943c-ce6c23fad610"
   },
   "outputs": [
    {
     "data": {
      "text/plain": [
       "log_id                0\n",
       "log_date              0\n",
       "log_application       0\n",
       "lvl_id                0\n",
       "log_text              2\n",
       "log_attlen         2209\n",
       "log_data           2209\n",
       "text_data          2210\n",
       "dtype: int64"
      ]
     },
     "execution_count": 42,
     "metadata": {},
     "output_type": "execute_result"
    }
   ],
   "source": [
    "# lvl_id, log_data / text_data NaN values correlate\n",
    "# Also comprise 1/5th of the dataset\n",
    "# Consider removing\n",
    "df.isnull().sum().sort_values()"
   ]
  },
  {
   "cell_type": "code",
   "execution_count": 43,
   "metadata": {
    "colab": {
     "base_uri": "https://localhost:8080/"
    },
    "id": "rxdICiBX6UMp",
    "outputId": "39f27166-7f46-46c5-acd0-1960bdc9afb2"
   },
   "outputs": [
    {
     "data": {
      "text/plain": [
       "PriceCalcWs           2180\n",
       "Ftp Trigger Script      25\n",
       "FinBoReporting           2\n",
       "MiFiR Reporting          1\n",
       "Excel                    1\n",
       "MKInvoice                1\n",
       "ComTSExport              1\n",
       "Fin BO to Powel          1\n",
       "Name: log_application, dtype: int64"
      ]
     },
     "execution_count": 43,
     "metadata": {},
     "output_type": "execute_result"
    }
   ],
   "source": [
    "# Check what applications are associated with NULL values\n",
    "# Essentially all NULL values are comprised in PriceCalcWs\n",
    "## Roughly 28% of PriceCalcWs returns NULL\n",
    "df_nulls = df[df.isnull().any(axis=1)]\n",
    "df_nulls['log_application'].value_counts()"
   ]
  },
  {
   "cell_type": "code",
   "execution_count": 44,
   "metadata": {
    "colab": {
     "base_uri": "https://localhost:8080/"
    },
    "id": "nrQHLNPMHhKK",
    "outputId": "4d83e107-8fb7-44de-eb70-24b25c44e272"
   },
   "outputs": [
    {
     "data": {
      "text/plain": [
       "log_id                 0\n",
       "log_date               0\n",
       "log_application        0\n",
       "lvl_id                 0\n",
       "log_text               9\n",
       "log_attlen         26921\n",
       "log_data           26921\n",
       "text_data          26927\n",
       "dtype: int64"
      ]
     },
     "execution_count": 44,
     "metadata": {},
     "output_type": "execute_result"
    }
   ],
   "source": [
    "df_100.isnull().sum().sort_values()"
   ]
  },
  {
   "cell_type": "code",
   "execution_count": 45,
   "metadata": {
    "colab": {
     "base_uri": "https://localhost:8080/"
    },
    "id": "Qhl6wVJ9HldM",
    "outputId": "f8ce6ac0-0695-4e3c-c33a-991f1a7e36a2"
   },
   "outputs": [
    {
     "data": {
      "text/plain": [
       "PriceCalcWs           26642\n",
       "Ftp Trigger Script      248\n",
       "FinBoReporting           12\n",
       "ComTSExport               9\n",
       "Excel                     6\n",
       "WAPI Curve Import         5\n",
       "MKInvoice                 4\n",
       "Nord Pool Trades          4\n",
       "Fin BO to Powel           2\n",
       "Nasdaq Fix                1\n",
       "TradeFetcher              1\n",
       "Nasdaq Data Import        1\n",
       "MiFiR Reporting           1\n",
       "Name: log_application, dtype: int64"
      ]
     },
     "execution_count": 45,
     "metadata": {},
     "output_type": "execute_result"
    }
   ],
   "source": [
    "df_100_nulls = df_100[df_100.isnull().any(axis=1)]\n",
    "df_100_nulls['log_application'].value_counts()"
   ]
  },
  {
   "cell_type": "code",
   "execution_count": 46,
   "metadata": {
    "id": "IstIyYs6HzBU"
   },
   "outputs": [],
   "source": [
    "PriceCalcWs = df[df['log_application'] == 'PriceCalcWs']"
   ]
  },
  {
   "cell_type": "code",
   "execution_count": 47,
   "metadata": {
    "colab": {
     "base_uri": "https://localhost:8080/"
    },
    "id": "EqkeDenuH-5w",
    "outputId": "025190fc-f832-4333-d488-057dfa5b26b6"
   },
   "outputs": [
    {
     "data": {
      "text/plain": [
       "(7579, 8)"
      ]
     },
     "execution_count": 47,
     "metadata": {},
     "output_type": "execute_result"
    }
   ],
   "source": [
    "PriceCalcWs.shape"
   ]
  },
  {
   "cell_type": "code",
   "execution_count": 48,
   "metadata": {
    "id": "5s27HWThH7YJ"
   },
   "outputs": [],
   "source": [
    "PriceCalcWs_100 = df_100[df_100['log_application'] == 'PriceCalcWs']"
   ]
  },
  {
   "cell_type": "code",
   "execution_count": 49,
   "metadata": {
    "colab": {
     "base_uri": "https://localhost:8080/"
    },
    "id": "WQwxxvwjH-ei",
    "outputId": "c8e14aca-01a6-4bec-8641-4e199d1360ce"
   },
   "outputs": [
    {
     "data": {
      "text/plain": [
       "(77239, 8)"
      ]
     },
     "execution_count": 49,
     "metadata": {},
     "output_type": "execute_result"
    }
   ],
   "source": [
    "PriceCalcWs_100.shape"
   ]
  },
  {
   "cell_type": "markdown",
   "metadata": {
    "id": "HtaqVTw55Prv"
   },
   "source": [
    "## Clean text_data: Remove HTML styling"
   ]
  },
  {
   "cell_type": "code",
   "execution_count": 50,
   "metadata": {
    "id": "it2ZXBwu469f"
   },
   "outputs": [],
   "source": [
    "# Isolate text_data column\n",
    "\n",
    "text_data = df['text_data']"
   ]
  },
  {
   "cell_type": "code",
   "execution_count": 51,
   "metadata": {
    "colab": {
     "base_uri": "https://localhost:8080/"
    },
    "id": "rrxq6hTm5ZGA",
    "outputId": "e144a711-91d8-42d6-9d29-0d7e4ffbf1ff"
   },
   "outputs": [
    {
     "data": {
      "text/plain": [
       "0    <html><head><link rel=\"StyleSheet\" href=\"Style...\n",
       "1    04:28:15.371: Fetching data with token of \"54b...\n",
       "2    04:28:17.496: Returning 99 rows. 04:28:17.496:...\n",
       "3                                                  NaN\n",
       "4    04:28:45.668: Fetching data with token of \"54b...\n",
       "Name: text_data, dtype: object"
      ]
     },
     "execution_count": 51,
     "metadata": {},
     "output_type": "execute_result"
    }
   ],
   "source": [
    "text_data.head()"
   ]
  },
  {
   "cell_type": "code",
   "execution_count": 52,
   "metadata": {
    "id": "AufBTfCRRFEN"
   },
   "outputs": [],
   "source": [
    "import re\n",
    "\n",
    "def cleanhtml(raw_html):\n",
    "  cleanr = re.compile('<.*?>')\n",
    "  cleantext = re.sub(cleanr, '', raw_html)\n",
    "  return cleantext\n",
    "\n",
    "cleanr = re.compile('<.*?>|&([a-z0-9]+|#[0-9]{1,6}|#x[0-9a-f]{1,6});')"
   ]
  },
  {
   "cell_type": "code",
   "execution_count": 53,
   "metadata": {
    "id": "swHjgsVgRFqN"
   },
   "outputs": [],
   "source": [
    "# text_data.apply(cleanhtml)"
   ]
  },
  {
   "cell_type": "code",
   "execution_count": null,
   "metadata": {
    "id": "fLF_ykkCsCWk"
   },
   "outputs": [],
   "source": []
  },
  {
   "cell_type": "markdown",
   "metadata": {
    "id": "dxtrTJeasKap"
   },
   "source": [
    "# Exploring text_data per Application"
   ]
  },
  {
   "cell_type": "markdown",
   "metadata": {
    "id": "FGwKQD-lsQUV"
   },
   "source": [
    "## Nimbus"
   ]
  },
  {
   "cell_type": "code",
   "execution_count": 54,
   "metadata": {
    "colab": {
     "base_uri": "https://localhost:8080/"
    },
    "id": "y-u_TCHeRaMB",
    "outputId": "59455a04-d4f3-4fa6-ac73-76a544972dca"
   },
   "outputs": [
    {
     "name": "stdout",
     "output_type": "stream",
     "text": [
      " 02:54:07: Processing Vitec  02:54:10: Processing WS/Emps  02:54:10: Logging off Powel  02:54:40: Logged on Powel TSS  02:54:40: Processing Csv  02:54:40: Processing Curve/Actual  02:54:40: Processing Curve/Forecast  02:54:40: Processing ECS  02:54:40: Executing stored procedure: spGetProduction @reference='Fjellet_ProdEnergi', @date='2020-10-28', @resolution=3600  02:54:40: Executing stored procedure: spGetProduction @reference='Flittig_ProdEnergi', @date='2020-10-28', @resolution=3600  02:54:40:   ImportData found 4 data points  02:54:40:   Found time series /MKNO/LøvFo/PRD/PR.MTR-P2359-Fjellet for Destination=3581  02:54:40:   Found time series /MKNO/LøvFo/PRD/PR.MTR-P0856-Flittig for Destination=3586  02:54:41: Processing HydroGrid Bids  02:54:41: Processing HydroGrid Plans  02:54:41: Processing Sca  02:54:41: Processing Vitec  02:54:41: Processing WS/Emps  02:54:41: Logging off Powel  02:55:11: Logged on Powel TSS  02:55:11: Processing Csv  02:55:11: Processing Curve/Actual  02:55:12: Processing Curve/Forecast  02:55:12: Processing ECS  02:55:12: Executing stored procedure: spGetProduction @reference='Fjellet_ProdEnergi', @date='2020-10-28', @resolution=3600  02:55:12: Executing stored procedure: spGetProduction @reference='Flittig_ProdEnergi', @date='2020-10-28', @resolution=3600  02:55:12:   ImportData found 4 data points  02:55:12:   Found time series /MKNO/LøvFo/PRD/PR.MTR-P2359-Fjellet for Destination=3581  02:55:12:   Found time series /MKNO/LøvFo/PRD/PR.MTR-P0856-Flittig for Destination=3586  02:55:12: Processing HydroGrid Bids  02:55:12: Processing HydroGrid Plans  02:55:12: Processing Sca  02:55:12: Processing Vitec  02:55:15: Processing WS/Emps  02:55:15: Logging off Powel  02:55:45: Logged on Powel TSS  02:55:45: Processing Csv  02:55:46: Processing Curve/Actual  02:55:46: Processing Curve/Forecast  02:55:46: Processing ECS  02:55:46: Executing stored procedure: spGetProduction @reference='Fjellet_ProdEnergi', @date='2020-10-28', @resolution=3600  02:55:46: Executing stored procedure: spGetProduction @reference='Flittig_ProdEnergi', @date='2020-10-28', @resolution=3600  02:55:46:   ImportData found 4 data points  02:55:46:   Found time series /MKNO/LøvFo/PRD/PR.MTR-P2359-Fjellet for Destination=3581  02:55:46:   Found time series /MKNO/LøvFo/PRD/PR.MTR-P0856-Flittig for Destination=3586  02:55:46: Processing HydroGrid Bids  02:55:46: Processing HydroGrid Plans  02:55:46: Processing Sca  02:55:46: Processing Vitec  02:55:47: Processing WS/Emps  02:55:47: Logging off Powel  02:56:17: Logged on Powel TSS  02:56:17: Processing Csv  02:56:17: Processing Curve/Actual  02:56:17: Processing Curve/Forecast  02:56:17: Processing ECS  02:56:17: Executing stored procedure: spGetProduction @reference='Fjellet_ProdEnergi', @date='2020-10-28', @resolution=3600  02:56:17: Executing stored procedure: spGetProduction @reference='Flittig_ProdEnergi', @date='2020-10-28', @resolution=3600  02:56:17:   ImportData found 4 data points  02:56:17:   Found time series /MKNO/LøvFo/PRD/PR.MTR-P2359-Fjellet for Destination=3581  02:56:17:   Found time series /MKNO/LøvFo/PRD/PR.MTR-P0856-Flittig for Destination=3586  02:56:18: Processing HydroGrid Bids  02:56:18: Processing HydroGrid Plans  02:56:18: Processing Sca  02:56:18: Processing Vitec  02:56:20: Processing WS/Emps  02:56:20: Logging off Powel  02:56:51: Logged on Powel TSS  02:56:51: Processing Csv  02:56:51: Processing Curve/Actual  02:56:51: Processing Curve/Forecast  02:56:51: Processing ECS  02:56:51: Executing stored procedure: spGetProduction @reference='Fjellet_ProdEnergi', @date='2020-10-28', @resolution=3600  02:56:51: Executing stored procedure: spGetProduction @reference='Flittig_ProdEnergi', @date='2020-10-28', @resolution=3600  02:56:51:   ImportData found 4 data points  02:56:51:   Found time series /MKNO/LøvFo/PRD/PR.MTR-P2359-Fjellet for Destination=3581  02:56:51:   Found time series /MKNO/LøvFo/PRD/PR.MTR-P0856-Flittig for Destination=3586  02:56:51: /MKNO/LøvFo/PRD/PR.CH-P0856-Flittig. Powel TimeSeries: /MKNO/LøvFo/PRD/PR.CH-P0856-Flittig with resolution 3600    No intraday changes found.  02:56:51: /MKNO/LøvFo/PRD/PR.CH-P2359-Fjellet. Powel TimeSeries: /MKNO/LøvFo/PRD/PR.CH-P2359-Fjellet with resolution 3600    No intraday changes found.  02:56:52: Processing HydroGrid Bids  02:56:52: Processing HydroGrid Plans  02:56:52: Processing Sca  02:56:52: Processing Vitec  02:56:52: Processing WS/Emps  02:56:52: Logging off Powel  02:57:23: Logged on Powel TSS  02:57:23: Processing Csv  02:57:23: Processing Curve/Actual  02:57:23: Processing Curve/Forecast  02:57:23: Processing ECS  02:57:23: Executing stored procedure: spGetProduction @reference='Fjellet_ProdEnergi', @date='2020-10-28', @resolution=3600  02:57:23: Executing stored procedure: spGetProduction @reference='Flittig_ProdEnergi', @date='2020-10-28', @resolution=3600  02:57:23:   ImportData found 4 data points  02:57:23:   Found time series /MKNO/LøvFo/PRD/PR.MTR-P2359-Fjellet for Destination=3581  02:57:23:   Found time series /MKNO/LøvFo/PRD/PR.MTR-P0856-Flittig for Destination=3586  02:57:24: Processing HydroGrid Bids  02:57:24: Processing HydroGrid Plans  02:57:24: Processing Sca  02:57:24: Processing Vitec  02:57:26: Processing WS/Emps  02:57:26: Logging off Powel  02:57:57: Logged on Powel TSS  02:57:57: Processing Csv  02:57:57: Processing Curve/Actual  02:57:57: Processing Curve/Forecast  02:57:57: Processing ECS  02:57:57: Executing stored procedure: spGetProduction @reference='Fjellet_ProdEnergi', @date='2020-10-28', @resolution=3600  02:57:57: Executing stored procedure: spGetProduction @reference='Flittig_ProdEnergi', @date='2020-10-28', @resolution=3600  02:57:57:   ImportData found 4 data points  02:57:57:   Found time series /MKNO/LøvFo/PRD/PR.MTR-P2359-Fjellet for Destination=3581  02:57:57:   Found time series /MKNO/LøvFo/PRD/PR.MTR-P0856-Flittig for Destination=3586  02:57:57: Processing HydroGrid Bids  02:57:57: Processing HydroGrid Plans  02:57:58: Processing Sca  02:57:58: Processing Vitec  02:57:58: Processing WS/Emps  02:57:58: Logging off Powel  02:58:28: Logged on Powel TSS  02:58:28: Processing Csv  02:58:28: Processing Curve/Actual  02:58:29: Processing Curve/Forecast  02:58:29: Processing ECS  02:58:29: Executing stored procedure: spGetProduction @reference='Fjellet_ProdEnergi', @date='2020-10-28', @resolution=3600  02:58:29: Executing stored procedure: spGetProduction @reference='Flittig_ProdEnergi', @date='2020-10-28', @resolution=3600  02:58:29:   ImportData found 4 data points  02:58:29:   Found time series /MKNO/LøvFo/PRD/PR.MTR-P2359-Fjellet for Destination=3581  02:58:29:   Found time series /MKNO/LøvFo/PRD/PR.MTR-P0856-Flittig for Destination=3586  02:58:29: Processing HydroGrid Bids  02:58:29: Processing HydroGrid Plans  02:58:30: Processing Sca  02:58:30: Processing Vitec  02:58:32: Processing WS/Emps  02:58:32: Logging off Powel  02:59:03: Logged on Powel TSS  02:59:03: Processing Csv  02:59:03: Processing Curve/Actual  02:59:03: Processing Curve/Forecast  02:59:03: Processing ECS  02:59:03: Executing stored procedure: spGetProduction @reference='Fjellet_ProdEnergi', @date='2020-10-28', @resolution=3600  02:59:03: Executing stored procedure: spGetProduction @reference='Flittig_ProdEnergi', @date='2020-10-28', @resolution=3600  02:59:03:   ImportData found 4 data points  02:59:03:   Found time series /MKNO/LøvFo/PRD/PR.MTR-P2359-Fjellet for Destination=3581  02:59:03:   Found time series /MKNO/LøvFo/PRD/PR.MTR-P0856-Flittig for Destination=3586  02:59:03: Processing HydroGrid Bids  02:59:03: Processing HydroGrid Plans  02:59:03: Processing Sca  02:59:03: Processing Vitec  02:59:04: Processing WS/Emps  02:59:04: Logging off Powel  02:59:34: Logged on Powel TSS  02:59:34: Processing Csv  02:59:34: Processing Curve/Actual  02:59:35: Processing Curve/Forecast  02:59:35: Processing ECS  02:59:35: Executing stored procedure: spGetProduction @reference='Fjellet_ProdEnergi', @date='2020-10-28', @resolution=3600  02:59:35: Executing stored procedure: spGetProduction @reference='Flittig_ProdEnergi', @date='2020-10-28', @resolution=3600  02:59:35:   ImportData found 4 data points  02:59:35:   Found time series /MKNO/LøvFo/PRD/PR.MTR-P2359-Fjellet for Destination=3581  02:59:35:   Found time series /MKNO/LøvFo/PRD/PR.MTR-P0856-Flittig for Destination=3586  02:59:35: Processing HydroGrid Bids  02:59:35: Processing HydroGrid Plans  02:59:35: Processing Sca  02:59:35: Processing Vitec  02:59:38: Processing WS/Emps  02:59:38: Logging off Powel  03:00:08: Logged on Powel TSS  03:00:08: Processing Csv  03:00:08: Processing Curve/Actual  03:00:09:   ImportData found 1785 data points  03:00:09:   Found time series /MKASA/DK/CNS/IMBALANCE_PRICE_DK1-DKK for Destination=29534    Added time series with 25 data points.  03:00:09:   Found time series /MKASA/DK/CNS/IMBALANCE_PRICE_DK1_EUR for Destination=29535    Added time series with 25 data points.  03:00:09:   Found time series /MKASA/DK/CNS/IMBALANCE_PRICE_DK2_EUR for Destination=29536    Added time series with 25 data points.  03:00:09:   Found time series /MKASA/DK/CNS/IMBALANCE_PRICE_DK2-DKK for Destination=29537    Added time series with 25 data points.  03:00:09:   Found time series /MKASA/NO/CNS/IMBALANCE_PRICE_NO1-NOK for Destination=29538    Added time series with 25 data points.  03:00:09:   Found time series /MKASA/NO/CNS/IMBALANCE_PRICE_NO2-NOK for Destination=29539    Added time series with 25 data points.  03:00:09:   Found time series /MKASA/NO/CNS/IMBALANCE_PRICE_NO3-NOK for Destination=29540    Added time series with 25 data points.  03:00:09:   Found time series /MKASA/NO/CNS/IMBALANCE_PRICE_NO4-NOK for Destination=29541    Added time series with 25 data points.  03:00:09:   Found time series /MKASA/NO/CNS/IMBALANCE_PRICE_NO5-NOK for Destination=29542    Added time series with 25 data points.  03:00:09:   Found time series /MKASA/NO/CNS/IMBALANCE_PRICE_NO5-EUR for Destination=29543\n"
     ]
    }
   ],
   "source": [
    "# Nimbus:\n",
    "# Fjellet_ProdEnergi = kraftstasjon / klient / portofølje\n",
    "# Flittig_ProdEnergi\n",
    "# Powel\n",
    "# HydroGrid Bids / Plans\n",
    "# Stored procedure: spGetProduction\n",
    "# Trade?\n",
    "# Får ikke tilgang til nyttig informasjon her.\n",
    "\n",
    "print( \" 02:54:07: Processing Vitec  02:54:10: Processing WS/Emps  02:54:10: Logging off Powel  02:54:40: Logged on Powel TSS  02:54:40: Processing Csv  02:54:40: Processing Curve/Actual  02:54:40: Processing Curve/Forecast  02:54:40: Processing ECS  02:54:40: Executing stored procedure: spGetProduction @reference='Fjellet_ProdEnergi', @date='2020-10-28', @resolution=3600  02:54:40: Executing stored procedure: spGetProduction @reference='Flittig_ProdEnergi', @date='2020-10-28', @resolution=3600  02:54:40:   ImportData found 4 data points  02:54:40:   Found time series /MKNO/LøvFo/PRD/PR.MTR-P2359-Fjellet for Destination=3581  02:54:40:   Found time series /MKNO/LøvFo/PRD/PR.MTR-P0856-Flittig for Destination=3586  02:54:41: Processing HydroGrid Bids  02:54:41: Processing HydroGrid Plans  02:54:41: Processing Sca  02:54:41: Processing Vitec  02:54:41: Processing WS/Emps  02:54:41: Logging off Powel  02:55:11: Logged on Powel TSS  02:55:11: Processing Csv  02:55:11: Processing Curve/Actual  02:55:12: Processing Curve/Forecast  02:55:12: Processing ECS  02:55:12: Executing stored procedure: spGetProduction @reference='Fjellet_ProdEnergi', @date='2020-10-28', @resolution=3600  02:55:12: Executing stored procedure: spGetProduction @reference='Flittig_ProdEnergi', @date='2020-10-28', @resolution=3600  02:55:12:   ImportData found 4 data points  02:55:12:   Found time series /MKNO/LøvFo/PRD/PR.MTR-P2359-Fjellet for Destination=3581  02:55:12:   Found time series /MKNO/LøvFo/PRD/PR.MTR-P0856-Flittig for Destination=3586  02:55:12: Processing HydroGrid Bids  02:55:12: Processing HydroGrid Plans  02:55:12: Processing Sca  02:55:12: Processing Vitec  02:55:15: Processing WS/Emps  02:55:15: Logging off Powel  02:55:45: Logged on Powel TSS  02:55:45: Processing Csv  02:55:46: Processing Curve/Actual  02:55:46: Processing Curve/Forecast  02:55:46: Processing ECS  02:55:46: Executing stored procedure: spGetProduction @reference='Fjellet_ProdEnergi', @date='2020-10-28', @resolution=3600  02:55:46: Executing stored procedure: spGetProduction @reference='Flittig_ProdEnergi', @date='2020-10-28', @resolution=3600  02:55:46:   ImportData found 4 data points  02:55:46:   Found time series /MKNO/LøvFo/PRD/PR.MTR-P2359-Fjellet for Destination=3581  02:55:46:   Found time series /MKNO/LøvFo/PRD/PR.MTR-P0856-Flittig for Destination=3586  02:55:46: Processing HydroGrid Bids  02:55:46: Processing HydroGrid Plans  02:55:46: Processing Sca  02:55:46: Processing Vitec  02:55:47: Processing WS/Emps  02:55:47: Logging off Powel  02:56:17: Logged on Powel TSS  02:56:17: Processing Csv  02:56:17: Processing Curve/Actual  02:56:17: Processing Curve/Forecast  02:56:17: Processing ECS  02:56:17: Executing stored procedure: spGetProduction @reference='Fjellet_ProdEnergi', @date='2020-10-28', @resolution=3600  02:56:17: Executing stored procedure: spGetProduction @reference='Flittig_ProdEnergi', @date='2020-10-28', @resolution=3600  02:56:17:   ImportData found 4 data points  02:56:17:   Found time series /MKNO/LøvFo/PRD/PR.MTR-P2359-Fjellet for Destination=3581  02:56:17:   Found time series /MKNO/LøvFo/PRD/PR.MTR-P0856-Flittig for Destination=3586  02:56:18: Processing HydroGrid Bids  02:56:18: Processing HydroGrid Plans  02:56:18: Processing Sca  02:56:18: Processing Vitec  02:56:20: Processing WS/Emps  02:56:20: Logging off Powel  02:56:51: Logged on Powel TSS  02:56:51: Processing Csv  02:56:51: Processing Curve/Actual  02:56:51: Processing Curve/Forecast  02:56:51: Processing ECS  02:56:51: Executing stored procedure: spGetProduction @reference='Fjellet_ProdEnergi', @date='2020-10-28', @resolution=3600  02:56:51: Executing stored procedure: spGetProduction @reference='Flittig_ProdEnergi', @date='2020-10-28', @resolution=3600  02:56:51:   ImportData found 4 data points  02:56:51:   Found time series /MKNO/LøvFo/PRD/PR.MTR-P2359-Fjellet for Destination=3581  02:56:51:   Found time series /MKNO/LøvFo/PRD/PR.MTR-P0856-Flittig for Destination=3586  02:56:51: /MKNO/LøvFo/PRD/PR.CH-P0856-Flittig. Powel TimeSeries: /MKNO/LøvFo/PRD/PR.CH-P0856-Flittig with resolution 3600    No intraday changes found.  02:56:51: /MKNO/LøvFo/PRD/PR.CH-P2359-Fjellet. Powel TimeSeries: /MKNO/LøvFo/PRD/PR.CH-P2359-Fjellet with resolution 3600    No intraday changes found.  02:56:52: Processing HydroGrid Bids  02:56:52: Processing HydroGrid Plans  02:56:52: Processing Sca  02:56:52: Processing Vitec  02:56:52: Processing WS/Emps  02:56:52: Logging off Powel  02:57:23: Logged on Powel TSS  02:57:23: Processing Csv  02:57:23: Processing Curve/Actual  02:57:23: Processing Curve/Forecast  02:57:23: Processing ECS  02:57:23: Executing stored procedure: spGetProduction @reference='Fjellet_ProdEnergi', @date='2020-10-28', @resolution=3600  02:57:23: Executing stored procedure: spGetProduction @reference='Flittig_ProdEnergi', @date='2020-10-28', @resolution=3600  02:57:23:   ImportData found 4 data points  02:57:23:   Found time series /MKNO/LøvFo/PRD/PR.MTR-P2359-Fjellet for Destination=3581  02:57:23:   Found time series /MKNO/LøvFo/PRD/PR.MTR-P0856-Flittig for Destination=3586  02:57:24: Processing HydroGrid Bids  02:57:24: Processing HydroGrid Plans  02:57:24: Processing Sca  02:57:24: Processing Vitec  02:57:26: Processing WS/Emps  02:57:26: Logging off Powel  02:57:57: Logged on Powel TSS  02:57:57: Processing Csv  02:57:57: Processing Curve/Actual  02:57:57: Processing Curve/Forecast  02:57:57: Processing ECS  02:57:57: Executing stored procedure: spGetProduction @reference='Fjellet_ProdEnergi', @date='2020-10-28', @resolution=3600  02:57:57: Executing stored procedure: spGetProduction @reference='Flittig_ProdEnergi', @date='2020-10-28', @resolution=3600  02:57:57:   ImportData found 4 data points  02:57:57:   Found time series /MKNO/LøvFo/PRD/PR.MTR-P2359-Fjellet for Destination=3581  02:57:57:   Found time series /MKNO/LøvFo/PRD/PR.MTR-P0856-Flittig for Destination=3586  02:57:57: Processing HydroGrid Bids  02:57:57: Processing HydroGrid Plans  02:57:58: Processing Sca  02:57:58: Processing Vitec  02:57:58: Processing WS/Emps  02:57:58: Logging off Powel  02:58:28: Logged on Powel TSS  02:58:28: Processing Csv  02:58:28: Processing Curve/Actual  02:58:29: Processing Curve/Forecast  02:58:29: Processing ECS  02:58:29: Executing stored procedure: spGetProduction @reference='Fjellet_ProdEnergi', @date='2020-10-28', @resolution=3600  02:58:29: Executing stored procedure: spGetProduction @reference='Flittig_ProdEnergi', @date='2020-10-28', @resolution=3600  02:58:29:   ImportData found 4 data points  02:58:29:   Found time series /MKNO/LøvFo/PRD/PR.MTR-P2359-Fjellet for Destination=3581  02:58:29:   Found time series /MKNO/LøvFo/PRD/PR.MTR-P0856-Flittig for Destination=3586  02:58:29: Processing HydroGrid Bids  02:58:29: Processing HydroGrid Plans  02:58:30: Processing Sca  02:58:30: Processing Vitec  02:58:32: Processing WS/Emps  02:58:32: Logging off Powel  02:59:03: Logged on Powel TSS  02:59:03: Processing Csv  02:59:03: Processing Curve/Actual  02:59:03: Processing Curve/Forecast  02:59:03: Processing ECS  02:59:03: Executing stored procedure: spGetProduction @reference='Fjellet_ProdEnergi', @date='2020-10-28', @resolution=3600  02:59:03: Executing stored procedure: spGetProduction @reference='Flittig_ProdEnergi', @date='2020-10-28', @resolution=3600  02:59:03:   ImportData found 4 data points  02:59:03:   Found time series /MKNO/LøvFo/PRD/PR.MTR-P2359-Fjellet for Destination=3581  02:59:03:   Found time series /MKNO/LøvFo/PRD/PR.MTR-P0856-Flittig for Destination=3586  02:59:03: Processing HydroGrid Bids  02:59:03: Processing HydroGrid Plans  02:59:03: Processing Sca  02:59:03: Processing Vitec  02:59:04: Processing WS/Emps  02:59:04: Logging off Powel  02:59:34: Logged on Powel TSS  02:59:34: Processing Csv  02:59:34: Processing Curve/Actual  02:59:35: Processing Curve/Forecast  02:59:35: Processing ECS  02:59:35: Executing stored procedure: spGetProduction @reference='Fjellet_ProdEnergi', @date='2020-10-28', @resolution=3600  02:59:35: Executing stored procedure: spGetProduction @reference='Flittig_ProdEnergi', @date='2020-10-28', @resolution=3600  02:59:35:   ImportData found 4 data points  02:59:35:   Found time series /MKNO/LøvFo/PRD/PR.MTR-P2359-Fjellet for Destination=3581  02:59:35:   Found time series /MKNO/LøvFo/PRD/PR.MTR-P0856-Flittig for Destination=3586  02:59:35: Processing HydroGrid Bids  02:59:35: Processing HydroGrid Plans  02:59:35: Processing Sca  02:59:35: Processing Vitec  02:59:38: Processing WS/Emps  02:59:38: Logging off Powel  03:00:08: Logged on Powel TSS  03:00:08: Processing Csv  03:00:08: Processing Curve/Actual  03:00:09:   ImportData found 1785 data points  03:00:09:   Found time series /MKASA/DK/CNS/IMBALANCE_PRICE_DK1-DKK for Destination=29534    Added time series with 25 data points.  03:00:09:   Found time series /MKASA/DK/CNS/IMBALANCE_PRICE_DK1_EUR for Destination=29535    Added time series with 25 data points.  03:00:09:   Found time series /MKASA/DK/CNS/IMBALANCE_PRICE_DK2_EUR for Destination=29536    Added time series with 25 data points.  03:00:09:   Found time series /MKASA/DK/CNS/IMBALANCE_PRICE_DK2-DKK for Destination=29537    Added time series with 25 data points.  03:00:09:   Found time series /MKASA/NO/CNS/IMBALANCE_PRICE_NO1-NOK for Destination=29538    Added time series with 25 data points.  03:00:09:   Found time series /MKASA/NO/CNS/IMBALANCE_PRICE_NO2-NOK for Destination=29539    Added time series with 25 data points.  03:00:09:   Found time series /MKASA/NO/CNS/IMBALANCE_PRICE_NO3-NOK for Destination=29540    Added time series with 25 data points.  03:00:09:   Found time series /MKASA/NO/CNS/IMBALANCE_PRICE_NO4-NOK for Destination=29541    Added time series with 25 data points.  03:00:09:   Found time series /MKASA/NO/CNS/IMBALANCE_PRICE_NO5-NOK for Destination=29542    Added time series with 25 data points.  03:00:09:   Found time series /MKASA/NO/CNS/IMBALANCE_PRICE_NO5-EUR for Destination=29543\")"
   ]
  },
  {
   "cell_type": "markdown",
   "metadata": {
    "id": "vyxM65OgsRit"
   },
   "source": [
    "## PriceCalcWs"
   ]
  },
  {
   "cell_type": "code",
   "execution_count": 55,
   "metadata": {
    "colab": {
     "base_uri": "https://localhost:8080/"
    },
    "id": "4KFfPeAvTiZe",
    "outputId": "db460c98-a7a6-43bd-bd51-98f6ef559f26"
   },
   "outputs": [
    {
     "name": "stdout",
     "output_type": "stream",
     "text": [
      "02:54:16.585: Fetching data with token of \"54bac9be-3f3b-4198-994b-cf083d677a2f\" and region of \"DK1\".  02:54:16.663: Returning 99 rows.\n"
     ]
    }
   ],
   "source": [
    "# PriceCalcWs\n",
    "# DK1 = Nord for Fyn\n",
    "# Price Calculation for DK1 area @ 2:54. Returns 99 rows\n",
    "# Etter hver PriceCalc request, så er det en NULL row \n",
    "## Ikke alltid! Men konsekvent når det skjer\n",
    "\n",
    "# SOAP Request:\n",
    "## Simple Object Access Protocol, PowerBI\n",
    "## Messaging protocol: (XML) with price calculations?\n",
    "\n",
    "# Tror ikke dette er noe å ta tak i.\n",
    "\n",
    "print('02:54:16.585: Fetching data with token of \"54bac9be-3f3b-4198-994b-cf083d677a2f\" and region of \"DK1\".  02:54:16.663: Returning 99 rows.')"
   ]
  },
  {
   "cell_type": "markdown",
   "metadata": {
    "id": "pdNX_JhAsTbP"
   },
   "source": [
    "## Wind Power Import"
   ]
  },
  {
   "cell_type": "code",
   "execution_count": 56,
   "metadata": {
    "colab": {
     "base_uri": "https://localhost:8080/"
    },
    "id": "fQ6f4YR4VQdr",
    "outputId": "ff488e4e-06de-4226-b5ae-fd1fecc32660"
   },
   "outputs": [
    {
     "name": "stdout",
     "output_type": "stream",
     "text": [
      "Fetching data from Api.  Fetching data for Bleikevare @ https://rabbalshede.breezeproduction.se/API/1.5/Data/10Min/202007312320/9c8604c6b1d14d10b3b820a0f56c7d91  Fetched data successfully.  Fetching data for Brahehus @ https://rabbalshede.breezeproduction.se/API/1.5/Data/10Min/202007312320/1852ac84002c423180b08c489a2ba40d  Fetched data successfully.  Fetching data for Granberg @ https://rabbalshede.breezeproduction.se/API/1.5/Data/10Min/202007312320/09e111251e4e4748b85446b865ab2714  Fetched data successfully.  Fetching data for Hedboberget @ https://rabbalshede.breezeproduction.se/API/1.5/Data/10Min/202007312320/9c13b61334d9463d805a5ce6e942a1d7  Fetched data successfully.  Fetching data for Roebergsfjaellet @ https://rabbalshede.breezeproduction.se/API/1.5/Data/10Min/202007312320/d25283e9c7a140a3849765a9b9082e05  Fetched data successfully.  Fetching data for Saelitraedberget @ https://rabbalshede.breezeproduction.se/API/1.5/Data/10Min/202007312320/9ea4da864d1b49f3ab3af32a0fa6e766  Fetched data successfully.  Fetching data for Hedboberget 2 @ https://rabbalshede.breezeproduction.se/API/1.5/Data/10Min/202007312320/8135bf1dd2a74906b7c21ea7e23758ed  Fetched data successfully.  Fetching data for Kulltorp @ https://rabbalshede.breezeproduction.se/API/1.5/Data/10Min/202007312320/ab8f9175670c49a18c4cc1ddf75f550e  Fetched data didn't return any data.  Fetching data for Hällevadsholm @ https://smteknik.se/data/getdata.aspx?Request=0&User=molndal&Password=wth279  Fetched data successfully.  Fetching data for Håkantorp 2 @ https://smteknik.se/data/getdata.aspx?Request=0&User=molndal&Password=wth279  Fetched data successfully.  Fetching data for Kvantenburg 2 @ https://smteknik.se/data/getdata.aspx?Request=0&User=molndal&Password=wth279  Fetched data successfully.    Saving data to Powel.  The wind park Bleikevare is producing 0.  The wind park Bleikevare wind is 1,6071428571428571428571428571 m/s.  The wind park Bleikevare temperature is 17,142857142857142857142857143 C.  The wind park Brahehus is producing 0.  The wind park Brahehus wind is 3,395121240615844 m/s.  The wind park Brahehus temperature is 18,05642318725586 C.  The wind park Granberg is producing 0.  The wind park Granberg wind is 2,36 m/s.  The wind park Granberg temperature is 17,6 C.  The wind park Hedboberget is producing 0,321.  The wind park Hedboberget wind is 3,74 m/s.  The wind park Hedboberget temperature is 18,8 C.  The wind park Roebergsfjaellet is producing 0.  The wind park Roebergsfjaellet wind is 2,125 m/s.  The wind park Roebergsfjaellet temperature is 18,375 C.  The wind park Saelitraedberget is producing 0.  The wind park Saelitraedberget wind is 1,775 m/s.  The wind park Saelitraedberget temperature is 18,75 C.  The wind park Hedboberget 2 is producing 0,0529.  The wind park Hedboberget 2 wind is 3,1 m/s.  The wind park Hedboberget 2 temperature is 19 C.  The wind park Kulltorp has no values at all.  The wind park Hällevadsholm is producing 0.  The wind park Hällevadsholm wind is 0,8 m/s.  The wind park Hällevadsholm temperature is 20 C.  The wind park Håkantorp 2 is producing 0.  The wind park Håkantorp 2 wind is 1,1 m/s.  The wind park Håkantorp 2 temperature is N/A C.  The wind park Kvantenburg 2 is producing 0,009.  The wind park Kvantenburg 2 wind is 2,1 m/s.  The wind park Kvantenburg 2 temperature is N/A C.    Checking time series in Powel.  Checking time series: /GodEl/PWP/PRD/WIND.Bliekevare.PR.IMP.BREEZE-SE2: Data found for last 5 hours.  Checking time series: /GodEl/PWP/PRD/WIND.Brahehus.PR.IMP.BREEZE-SE3: Data found for last 5 hours.  Checking time series: /GodEl/PWP/PRD/WIND.Granberg.PR.IMP.BREEZE-SE3: Data found for last 5 hours.  Checking time series: /GodEl/PWP/PRD/WIND.Hedbodberget.PR.IMP.BREEZE-SE3: Data found for last 5 hours.  Checking time series: /GodEl/PWP/PRD/WIND.Röbergsfjället.PR.IMP.BREEZE-SE3: Data found for last 5 hours.  Checking time series: /GodEl/PWP/PRD/WIND.Säliträdberget.PR.IMP.BREEZE-SE3: Data found for last 5 hours.  Checking time series: /GodEl/PWP/PRD/WIND.Hedbodberget2.PR.IMP.BREEZE-SE3: Data found for last 5 hours.  Checking time series: /GodEl/GnosjöEnergi/PRD/WIND.Kulltorp.PR.IMP.BREEZE-SE3: No power data for the last 5 hours. No wind data for the last 5 hours. No temperature data for the last 5 hours.   Checking time series: /Mölndal/PRD/WIND.Hällevadsholm.PR.IMP.BREEZE-SE3: Data found for last 5 hours.  Checking time series: /Mölndal/PRD/WIND.Håkantorp2.PR.IMP.BREEZE-SE3: No temperature data for the last 5 hours.   Checking time series: /Mölndal/PRD/WIND.Kvantenburg.PR.IMP.BREEZE-SE3: No temperature data for the last 5 hours.\n"
     ]
    }
   ],
   "source": [
    "# Wind Power Import\n",
    "# Production data fra vindparker i sverige\n",
    "# Ny data per 10 min? Se nærmere på denne applikasjonen\n",
    "# Example: https://rabbalshede.breezeproduction.se/API/1.5/Data/10Min/202007312320/9c8604c6b1d14d10b3b820a0f56c7d91\n",
    "# \"Saving data to Powel\" - Split her\n",
    "# Trim tallene til .XXX eller .XX før du kjører modell\n",
    "# Dette er brukbart. Går ofte i sesonger. Ta produksjonsdata over tid.\n",
    "## Bruk i prediksjonsmodell\n",
    "print(\"Fetching data from Api.  Fetching data for Bleikevare @ https://rabbalshede.breezeproduction.se/API/1.5/Data/10Min/202007312320/9c8604c6b1d14d10b3b820a0f56c7d91  Fetched data successfully.  Fetching data for Brahehus @ https://rabbalshede.breezeproduction.se/API/1.5/Data/10Min/202007312320/1852ac84002c423180b08c489a2ba40d  Fetched data successfully.  Fetching data for Granberg @ https://rabbalshede.breezeproduction.se/API/1.5/Data/10Min/202007312320/09e111251e4e4748b85446b865ab2714  Fetched data successfully.  Fetching data for Hedboberget @ https://rabbalshede.breezeproduction.se/API/1.5/Data/10Min/202007312320/9c13b61334d9463d805a5ce6e942a1d7  Fetched data successfully.  Fetching data for Roebergsfjaellet @ https://rabbalshede.breezeproduction.se/API/1.5/Data/10Min/202007312320/d25283e9c7a140a3849765a9b9082e05  Fetched data successfully.  Fetching data for Saelitraedberget @ https://rabbalshede.breezeproduction.se/API/1.5/Data/10Min/202007312320/9ea4da864d1b49f3ab3af32a0fa6e766  Fetched data successfully.  Fetching data for Hedboberget 2 @ https://rabbalshede.breezeproduction.se/API/1.5/Data/10Min/202007312320/8135bf1dd2a74906b7c21ea7e23758ed  Fetched data successfully.  Fetching data for Kulltorp @ https://rabbalshede.breezeproduction.se/API/1.5/Data/10Min/202007312320/ab8f9175670c49a18c4cc1ddf75f550e  Fetched data didn't return any data.  Fetching data for Hällevadsholm @ https://smteknik.se/data/getdata.aspx?Request=0&User=molndal&Password=wth279  Fetched data successfully.  Fetching data for Håkantorp 2 @ https://smteknik.se/data/getdata.aspx?Request=0&User=molndal&Password=wth279  Fetched data successfully.  Fetching data for Kvantenburg 2 @ https://smteknik.se/data/getdata.aspx?Request=0&User=molndal&Password=wth279  Fetched data successfully.    Saving data to Powel.  The wind park Bleikevare is producing 0.  The wind park Bleikevare wind is 1,6071428571428571428571428571 m/s.  The wind park Bleikevare temperature is 17,142857142857142857142857143 C.  The wind park Brahehus is producing 0.  The wind park Brahehus wind is 3,395121240615844 m/s.  The wind park Brahehus temperature is 18,05642318725586 C.  The wind park Granberg is producing 0.  The wind park Granberg wind is 2,36 m/s.  The wind park Granberg temperature is 17,6 C.  The wind park Hedboberget is producing 0,321.  The wind park Hedboberget wind is 3,74 m/s.  The wind park Hedboberget temperature is 18,8 C.  The wind park Roebergsfjaellet is producing 0.  The wind park Roebergsfjaellet wind is 2,125 m/s.  The wind park Roebergsfjaellet temperature is 18,375 C.  The wind park Saelitraedberget is producing 0.  The wind park Saelitraedberget wind is 1,775 m/s.  The wind park Saelitraedberget temperature is 18,75 C.  The wind park Hedboberget 2 is producing 0,0529.  The wind park Hedboberget 2 wind is 3,1 m/s.  The wind park Hedboberget 2 temperature is 19 C.  The wind park Kulltorp has no values at all.  The wind park Hällevadsholm is producing 0.  The wind park Hällevadsholm wind is 0,8 m/s.  The wind park Hällevadsholm temperature is 20 C.  The wind park Håkantorp 2 is producing 0.  The wind park Håkantorp 2 wind is 1,1 m/s.  The wind park Håkantorp 2 temperature is N/A C.  The wind park Kvantenburg 2 is producing 0,009.  The wind park Kvantenburg 2 wind is 2,1 m/s.  The wind park Kvantenburg 2 temperature is N/A C.    Checking time series in Powel.  Checking time series: /GodEl/PWP/PRD/WIND.Bliekevare.PR.IMP.BREEZE-SE2: Data found for last 5 hours.  Checking time series: /GodEl/PWP/PRD/WIND.Brahehus.PR.IMP.BREEZE-SE3: Data found for last 5 hours.  Checking time series: /GodEl/PWP/PRD/WIND.Granberg.PR.IMP.BREEZE-SE3: Data found for last 5 hours.  Checking time series: /GodEl/PWP/PRD/WIND.Hedbodberget.PR.IMP.BREEZE-SE3: Data found for last 5 hours.  Checking time series: /GodEl/PWP/PRD/WIND.Röbergsfjället.PR.IMP.BREEZE-SE3: Data found for last 5 hours.  Checking time series: /GodEl/PWP/PRD/WIND.Säliträdberget.PR.IMP.BREEZE-SE3: Data found for last 5 hours.  Checking time series: /GodEl/PWP/PRD/WIND.Hedbodberget2.PR.IMP.BREEZE-SE3: Data found for last 5 hours.  Checking time series: /GodEl/GnosjöEnergi/PRD/WIND.Kulltorp.PR.IMP.BREEZE-SE3: No power data for the last 5 hours. No wind data for the last 5 hours. No temperature data for the last 5 hours.   Checking time series: /Mölndal/PRD/WIND.Hällevadsholm.PR.IMP.BREEZE-SE3: Data found for last 5 hours.  Checking time series: /Mölndal/PRD/WIND.Håkantorp2.PR.IMP.BREEZE-SE3: No temperature data for the last 5 hours.   Checking time series: /Mölndal/PRD/WIND.Kvantenburg.PR.IMP.BREEZE-SE3: No temperature data for the last 5 hours.\")"
   ]
  },
  {
   "cell_type": "code",
   "execution_count": 57,
   "metadata": {
    "id": "c9uqTG7Enkx2"
   },
   "outputs": [],
   "source": [
    "wind_power_import = df_100[df_100['log_application'] == 'Wind Power Import']"
   ]
  },
  {
   "cell_type": "code",
   "execution_count": 125,
   "metadata": {
    "colab": {
     "base_uri": "https://localhost:8080/",
     "height": 419
    },
    "id": "wpervPRzowZL",
    "outputId": "708cbcf2-f9eb-4f1d-80db-1fa4ec6fcd26"
   },
   "outputs": [
    {
     "data": {
      "text/html": [
       "<div>\n",
       "<style scoped>\n",
       "    .dataframe tbody tr th:only-of-type {\n",
       "        vertical-align: middle;\n",
       "    }\n",
       "\n",
       "    .dataframe tbody tr th {\n",
       "        vertical-align: top;\n",
       "    }\n",
       "\n",
       "    .dataframe thead th {\n",
       "        text-align: right;\n",
       "    }\n",
       "</style>\n",
       "<table border=\"1\" class=\"dataframe\">\n",
       "  <thead>\n",
       "    <tr style=\"text-align: right;\">\n",
       "      <th></th>\n",
       "      <th>log_id</th>\n",
       "      <th>log_date</th>\n",
       "      <th>log_application</th>\n",
       "      <th>lvl_id</th>\n",
       "      <th>log_attlen</th>\n",
       "      <th>log_text</th>\n",
       "      <th>log_data</th>\n",
       "      <th>text_data</th>\n",
       "    </tr>\n",
       "  </thead>\n",
       "  <tbody>\n",
       "    <tr>\n",
       "      <th>108</th>\n",
       "      <td>16395522</td>\n",
       "      <td>2020-08-01 01:45:52.437</td>\n",
       "      <td>Wind Power Import</td>\n",
       "      <td>3</td>\n",
       "      <td>4630.0</td>\n",
       "      <td>Running import from API to Powel</td>\n",
       "      <td>0x4665746368696E6720646174612066726F6D20417069...</td>\n",
       "      <td>Fetching data from Api. Fetching data for Blei...</td>\n",
       "    </tr>\n",
       "    <tr>\n",
       "      <th>192</th>\n",
       "      <td>17091810</td>\n",
       "      <td>2020-09-25 17:05:49.970</td>\n",
       "      <td>Wind Power Import</td>\n",
       "      <td>3</td>\n",
       "      <td>4648.0</td>\n",
       "      <td>Running import from API to Powel</td>\n",
       "      <td>0x4665746368696E6720646174612066726F6D20417069...</td>\n",
       "      <td>Fetching data from Api. Fetching data for Blei...</td>\n",
       "    </tr>\n",
       "    <tr>\n",
       "      <th>206</th>\n",
       "      <td>17638084</td>\n",
       "      <td>2020-10-21 12:20:48.430</td>\n",
       "      <td>Wind Power Import</td>\n",
       "      <td>3</td>\n",
       "      <td>4556.0</td>\n",
       "      <td>Running import from API to Powel</td>\n",
       "      <td>0x4665746368696E6720646174612066726F6D20417069...</td>\n",
       "      <td>Fetching data from Api. Fetching data for Blei...</td>\n",
       "    </tr>\n",
       "    <tr>\n",
       "      <th>337</th>\n",
       "      <td>17376374</td>\n",
       "      <td>2020-10-11 07:25:44.703</td>\n",
       "      <td>Wind Power Import</td>\n",
       "      <td>3</td>\n",
       "      <td>4602.0</td>\n",
       "      <td>Running import from API to Powel</td>\n",
       "      <td>0x4665746368696E6720646174612066726F6D20417069...</td>\n",
       "      <td>Fetching data from Api. Fetching data for Blei...</td>\n",
       "    </tr>\n",
       "    <tr>\n",
       "      <th>371</th>\n",
       "      <td>17638612</td>\n",
       "      <td>2020-10-21 13:10:46.873</td>\n",
       "      <td>Wind Power Import</td>\n",
       "      <td>3</td>\n",
       "      <td>4589.0</td>\n",
       "      <td>Running import from API to Powel</td>\n",
       "      <td>0x4665746368696E6720646174612066726F6D20417069...</td>\n",
       "      <td>Fetching data from Api. Fetching data for Blei...</td>\n",
       "    </tr>\n",
       "  </tbody>\n",
       "</table>\n",
       "</div>"
      ],
      "text/plain": [
       "       log_id                 log_date    log_application  lvl_id  log_attlen  \\\n",
       "108  16395522  2020-08-01 01:45:52.437  Wind Power Import       3      4630.0   \n",
       "192  17091810  2020-09-25 17:05:49.970  Wind Power Import       3      4648.0   \n",
       "206  17638084  2020-10-21 12:20:48.430  Wind Power Import       3      4556.0   \n",
       "337  17376374  2020-10-11 07:25:44.703  Wind Power Import       3      4602.0   \n",
       "371  17638612  2020-10-21 13:10:46.873  Wind Power Import       3      4589.0   \n",
       "\n",
       "                             log_text  \\\n",
       "108  Running import from API to Powel   \n",
       "192  Running import from API to Powel   \n",
       "206  Running import from API to Powel   \n",
       "337  Running import from API to Powel   \n",
       "371  Running import from API to Powel   \n",
       "\n",
       "                                              log_data  \\\n",
       "108  0x4665746368696E6720646174612066726F6D20417069...   \n",
       "192  0x4665746368696E6720646174612066726F6D20417069...   \n",
       "206  0x4665746368696E6720646174612066726F6D20417069...   \n",
       "337  0x4665746368696E6720646174612066726F6D20417069...   \n",
       "371  0x4665746368696E6720646174612066726F6D20417069...   \n",
       "\n",
       "                                             text_data  \n",
       "108  Fetching data from Api. Fetching data for Blei...  \n",
       "192  Fetching data from Api. Fetching data for Blei...  \n",
       "206  Fetching data from Api. Fetching data for Blei...  \n",
       "337  Fetching data from Api. Fetching data for Blei...  \n",
       "371  Fetching data from Api. Fetching data for Blei...  "
      ]
     },
     "execution_count": 125,
     "metadata": {},
     "output_type": "execute_result"
    }
   ],
   "source": [
    "wind_power_import.head()"
   ]
  },
  {
   "cell_type": "code",
   "execution_count": null,
   "metadata": {
    "colab": {
     "base_uri": "https://localhost:8080/"
    },
    "id": "KxruLrrFnkvu",
    "outputId": "61689939-039d-46fc-f3d5-9ff212e16e6e"
   },
   "outputs": [],
   "source": [
    "# Producing: MW\n",
    "# \n",
    "for row in wind_power_import['text_data'].head(10):\n",
    "    print(row)"
   ]
  },
  {
   "cell_type": "code",
   "execution_count": 60,
   "metadata": {
    "colab": {
     "base_uri": "https://localhost:8080/",
     "height": 35
    },
    "id": "NlqP2982oTe9",
    "outputId": "44ad12f6-b07f-4059-bac4-22f793fe1bd5"
   },
   "outputs": [
    {
     "data": {
      "text/plain": [
       "'\\nVi har \\nProdukt, \\nvolum, \\npris (som MK har kjøpt for), \\nMarkedspris\\n\\nOg vindmølledata: \\nMW production, \\nwind speed, \\nTid + Dato\\ntemp (C) i Sverige\\n'"
      ]
     },
     "execution_count": 60,
     "metadata": {},
     "output_type": "execute_result"
    }
   ],
   "source": [
    "# Assumption: IntraDay trading\n",
    "# Vi ser på vindproduksjon en time før, og pris neste timen\n",
    "## Mulig at jeg må offsette historiske prisdataen med en time\n",
    "\n",
    "'''\n",
    "Vi har \n",
    "Produkt, \n",
    "volum, \n",
    "pris (som MK har kjøpt for), \n",
    "Markedspris\n",
    "\n",
    "Og vindmølledata: \n",
    "MW production, \n",
    "wind speed, \n",
    "Tid + Dato\n",
    "temp (C) i Sverige\n",
    "'''\n"
   ]
  },
  {
   "cell_type": "markdown",
   "metadata": {
    "id": "tlduJUwIsVEE"
   },
   "source": [
    "## RockyII"
   ]
  },
  {
   "cell_type": "code",
   "execution_count": 61,
   "metadata": {
    "colab": {
     "base_uri": "https://localhost:8080/"
    },
    "id": "tUXDUVbzXGT_",
    "outputId": "a2aa57d1-7ea8-4227-829a-95e33f77b5ce"
   },
   "outputs": [
    {
     "name": "stdout",
     "output_type": "stream",
     "text": [
      "trade_ID=[4870343]  fir_ID_mgh=[2]  fir_ID_clh=[322]  trade_Volume=[0]  pro_ID=[2393018]  han_Salg=[0]  trade_Price=[23,5]  trade_Date=[21.10.2020 12:14:43]  trade_Executor=[202]  pof_IDs=[3410, 3525, 0]  trans_Volume=[1, -1, ]  dist_IDs=[0, 0, 0]  Trans Sql=[spSaveTrans 4870343, 3410, 1, 0]  Trans Sql=[spSaveTrans 4870343,  3525, -1, 0]  Trade Sql=[spUpdateTrade 4870343, @ans_ID=202, @trade_Executor=202, @trade_Status=2]  Checking if tradereport is to be sent  Finished  \n"
     ]
    }
   ],
   "source": [
    "# RockyII\n",
    "# Salg? / Transaction / Handelsrapport\n",
    "# trade_Price = Pris / Strømvolum (MWh) eller produktkode (ENOYR-21)\n",
    "print(\"trade_ID=[4870343]  fir_ID_mgh=[2]  fir_ID_clh=[322]  trade_Volume=[0]  pro_ID=[2393018]  han_Salg=[0]  trade_Price=[23,5]  trade_Date=[21.10.2020 12:14:43]  trade_Executor=[202]  pof_IDs=[3410, 3525, 0]  trans_Volume=[1, -1, ]  dist_IDs=[0, 0, 0]  Trans Sql=[spSaveTrans 4870343, 3410, 1, 0]  Trans Sql=[spSaveTrans 4870343,  3525, -1, 0]  Trade Sql=[spUpdateTrade 4870343, @ans_ID=202, @trade_Executor=202, @trade_Status=2]  Checking if tradereport is to be sent  Finished  \")"
   ]
  },
  {
   "cell_type": "code",
   "execution_count": 62,
   "metadata": {
    "id": "gcFlcsnq4Aq2"
   },
   "outputs": [],
   "source": [
    "rockyll = df[df['log_application'] == 'RockyII']"
   ]
  },
  {
   "cell_type": "code",
   "execution_count": null,
   "metadata": {
    "colab": {
     "base_uri": "https://localhost:8080/"
    },
    "id": "aC1LS9KQ5Tve",
    "outputId": "63fe9ca6-8675-4094-cc85-c386a0f310cf"
   },
   "outputs": [],
   "source": [
    "# The following trade is done for company Eidefoss Vannkraft AS and a GiveUp to SpareBank 1 Markets AS has been executed.\n",
    "# Skandinaviska Enskilda Banken AB\n",
    "for row in rockyll['text_data']:\n",
    "    print(row)"
   ]
  },
  {
   "cell_type": "code",
   "execution_count": 64,
   "metadata": {
    "id": "RkQ80bQeBDWE"
   },
   "outputs": [],
   "source": [
    "# Based on first 2 entries being 3 minutes apart:\n",
    "## trade_price [23,5] = 23,5. Not two separate values.\n",
    "\n",
    "# Product ID should = Product ID in EF+ or IndexMgmt?\n",
    "\n",
    "## Is RockyII data useful enough to a degree that it is worth going through the trouble\n",
    "## of using it over EF+ / IndexMgmt?\n",
    "# Interesting columns:\n",
    "## trade_Date\n",
    "### Question is then: Do I care about intraday + accurate trade dates?\n",
    "#### Yes. Because EF+ and IndexMgmt batch them irregularly\n",
    "\n",
    "# Do we need EF+ / IndexMgmt?\n",
    "## IndexMgmt: Trade ID, price, product (no product_ID), VOLUME\n",
    "## EF+: Product + product_ID, \n",
    "\n",
    "## Ser ut som IndexMgmt > EF+\n",
    "\n",
    "## Kan linke RockyII og IndexMgmt på trade_ID column\n",
    "### Kan manuelt legge til product name om nødvendig for modell."
   ]
  },
  {
   "cell_type": "markdown",
   "metadata": {
    "id": "CxuBFVL-sWQu"
   },
   "source": [
    "## IndexMgmt"
   ]
  },
  {
   "cell_type": "code",
   "execution_count": null,
   "metadata": {
    "colab": {
     "base_uri": "https://localhost:8080/"
    },
    "id": "RnhlG4UIXn0g",
    "outputId": "10ad8bc3-9685-400b-ba20-a9962be1a179"
   },
   "outputs": [],
   "source": [
    "# IndexMgmt\n",
    "# Bare 1 av denne her i 10k rows\n",
    "# Logger alle Rockyll trades (nasdaq Market Electricity Nordic)\n",
    "# Nasdaq trade\n",
    "# ENOYR-21 = Electricity Nordic\n",
    "# ENOQ3-22 = \n",
    "# SYSUNFUTBLYR-22: også under Electricity Nordic\n",
    "print(\"New RockyII trade with trade_ID 4852514 and price 25.19000 for product ENOYR-21  Creating transactions from 3256 to 3315 with volume 0.07937  New RockyII trade with trade_ID 4852515 and price 25.45000 for product ENOYR-22  Creating transactions from 3257 to 3719 with volume 0.20694  Creating transactions from 3268 to 3322 with volume 0.00267  Creating transactions from 3268 to 3863 with volume -0.01587  New RockyII trade with trade_ID 4852516 and price 25.85000 for product ENOYR-23  Creating transactions from 3636 to 3635 with volume 0.00266  Creating transactions from 3672 to 3875 with volume 0.20530  Creating transactions from 3688 to 3880 with volume -0.00397  Creating transactions from 3688 to 3864 with volume 0.01190  Creating transactions from 3688 to 3865 with volume -0.01984  New RockyII trade with trade_ID 4852517 and price 25.85000 for product ENOYR-23  Creating transactions from 3722 to 3721 with volume 0.13253  New RockyII trade with trade_ID 4852518 and price 27.55000 for product ENOYR-24  Creating transactions from 3868 to 3862 with volume 0.00264  New RockyII trade with trade_ID 4852519 and price 27.55000 for product ENOYR-24  Creating transactions from 3877 to 3878 with volume 0.14056  New RockyII trade with trade_ID 4852520 and price 30.45000 for product NEDEC20  Creating transactions from 3937 to 3936 with volume -3.78698  New RockyII trade with trade_ID 4852521 and price 25.45000 for product ENOFUTBLYR-22  Creating transactions from 3247 to 3750 with volume 0.05137  Creating transactions from 3247 to 3751 with volume 0.14166  New RockyII trade with trade_ID 4852522 and price 25.85000 for product ENOFUTBLYR-23  Creating transactions from 3671 to 3884 with volume 0.15476  New RockyII trade with trade_ID 4852523 and price 2.95000 for product SYSTOFUTBLYR-21  Creating transactions from 3939 to 4013 with volume 0.00355  New RockyII trade with trade_ID 4852524 and price -1.00000 for product SYSUNFUTBLYR-21  Creating transactions from 3293 to 4012 with volume 0.03475  New RockyII trade with trade_ID 4852525 and price 24.90000 for product ENOQ4-20  Creating transactions from 3081 to 3082 with volume 0.15957  Creating transactions from 3682 to 2975 with volume -0.00800  Creating transactions from 3682 to 2973 with volume -0.04000  Creating transactions from 3682 to 2974 with volume 0.00800  Creating transactions from 2862 to 3324 with volume -0.00354  Creating transactions from 2862 to 2858 with volume 0.00228  Creating transactions from 2862 to 3320 with volume -0.02283  New RockyII trade with trade_ID 4852526 and price 29.30000 for product ENOQ1-21  Creating transactions from 3100 to 3207 with volume 0.00794  Creating transactions from 3100 to 3644 with volume -0.05952  Creating transactions from 3684 to 3119 with volume 0.00998  Creating transactions from 3684 to 3117 with volume -0.04590  Creating transactions from 3256 to 3315 with volume 0.23437  Creating transactions from 3100 to 3645 with volume -0.00399  Creating transactions from 3684 to 3317 with volume -0.00798  New RockyII trade with trade_ID 4852527 and price 29.30000 for product ENOQ1-21  Creating transactions from 3549 to 3545 with volume 0.14859  New RockyII trade with trade_ID 4852528 and price 22.25000 for product ENOQ2-21  Creating transactions from 3684 to 3117 with volume -0.01397  Creating transactions from 3684 to 3119 with volume 0.00399  Creating transactions from 3684 to 3317 with volume -0.00399  Creating transactions from 3100 to 3645 with volume -0.00399  Creating transactions from 3100 to 3644 with volume -0.01270  Creating transactions from 3100 to 3207 with volume 0.00317  New RockyII trade with trade_ID 4852529 and price 22.25000 for product ENOQ2-21  Creating transactions from 3549 to 3545 with volume 0.14458  New RockyII trade with trade_ID 4852530 and price 20.50000 for product ENOQ3-21  Creating transactions from 3100 to 3645 with volume -0.00398  Creating transactions from 3684 to 3119 with volume 0.00199  Creating transactions from 3684 to 3317 with volume -0.00398  Creating transactions from 3100 to 3207 with volume 0.00267  Creating transactions from 3100 to 3644 with volume -0.00802  New RockyII trade with trade_ID 4852531 and price 20.50000 for product ENOQ3-21  Creating transactions from 3549 to 3545 with volume 0.13253  New RockyII trade with trade_ID 4852532 and price 28.45000 for product ENOQ4-21  Creating transactions from 3684 to 3117 with volume -0.04183  Creating transactions from 3684 to 3317 with volume -0.00798  Creating transactions from 3684 to 3119 with volume 0.00797  Creating transactions from 3100 to 3645 with volume -0.00382  Creating transactions from 3100 to 3644 with volume -0.02273  Creating transactions from 3100 to 3207 with volume 0.00227  New RockyII trade with trade_ID 4852533 and price 28.45000 for product ENOQ4-21  Creating transactions from 3549 to 3545 with volume 0.15261  New RockyII trade with trade_ID 4852534 and price 31.80000 for product ENOQ1-22  Creating transactions from 3685 to 3633 with volume -0.00794  Creating transactions from 3685 to 3714 with volume -0.04564  Creating transactions from 3685 to 3634 with volume 0.00992  Creating transactions from 3268 to 3866 with volume -0.00397  New RockyII trade with trade_ID 4852535 and price 31.80000 for product ENOQ1-22  Creating transactions from 3550 to 3546 with volume 0.20080  New RockyII trade with trade_ID 4852536 and price 21.58000 for product ENOQ2-22  Creating transactions from 3685 to 3634 with volume 0.00397  Creating transactions from 3685 to 3714 with volume -0.01389  Creating transactions from 3685 to 3633 with volume -0.00397  Creating transactions from 3268 to 3866 with volume -0.00199  New RockyII trade with trade_ID 4852537 and price 21.58000 for product ENOQ2-22  Creating transactions from 3550 to 3546 with volume 0.10843  New RockyII trade with trade_ID 4852538 and price 19.90000 for product ENOQ3-22  Creating transactions from 3268 to 3866 with volume -0.00396  Creating transactions from 3685 to 3633 with volume -0.00396  Creating transactions from 3685 to 3634 with volume 0.00199  New RockyII trade with trade_ID 4852539 and price 19.90000 for product ENOQ3-22  Creating transactions from 3550 to 3546 with volume 0.08032  New RockyII trade with trade_ID 4852540 and price 28.74000 for product ENOQ4-22  Creating transactions from 3550 to 3546 with volume 0.16064  New RockyII trade with trade_ID 4852541 and price 1.00000 for product SYSUNDEC-20  Creating transactions from 1947 to 2968 with volume -0.09302  New RockyII trade with trade_ID 4852542 and price 3.00000 for product SYSUNNOV-20  Creating transactions from 1947 to 2968 with volume -0.06970  New RockyII trade with trade_ID 4852543 and price 3.50000 for product SYSUNOCT-20  Creating transactions from 1947 to 2968 with volume 0.16279  Closing price found for SYSUNYR-22 fetched from future SYSUNFUTBLYR-22  New RockyII trade with trade_ID 4852544 and price -2.50000 for product SYSUNYR-22  Creating transactions from 1947 to 3872 with volume -0.01984  Creating transactions from 1947 to 3870 with volume -0.00794  New RockyII trade with trade_ID 4852545 and price 2.63000 for product SYSUNQ4-20  Creating transactions from 1947 to 2968 with volume -0.07968  Creating transactions from 1947 to 2969 with volume 0.01593  Creating transactions from 1947 to 2967 with volume -0.01195  New RockyII trade with trade_ID 4852546 and price 0.00000 for product SYSUNQ1-21  Creating transactions from 1947 to 3343 with volume 0.01984  Creating transactions from 1947 to 3342 with volume -0.01190  Creating transactions from 1947 to 3341 with volume -0.09127  New RockyII trade with trade_ID 4852547 and price -1.00000 for product SYSUNQ2-21  Creating transactions from 1947 to 3341 with volume -0.02789  Creating transactions from 1947 to 3342 with volume -0.00398  Creating transactions from 1947 to 3343 with volume 0.00797  New RockyII trade with trade_ID 4852548 and price -0.50000 for product SYSUNQ3-21  Creating transactions from 1947 to 3343 with volume 0.00399  Creating transactions from 1947 to 3342 with volume -0.00399  New RockyII trade with trade_ID 4852549 and price -2.50000 for product SYSUNFUTBLYR-22  Creating transactions from 3293 to 4012 with volume 0.03027  New RockyII trade with trade_ID 4852550 and price -2.50000 for product SYSUNFUTBLYR-22  Creating transactions from 1947 to 3871 with volume 0.00794  New RockyII trade with trade_ID 4852551 and price 2.53000 for product SYSTOFUTBLYR-22  Creating transactions from 3939 to 4013 with volume 0.00310  New RockyII trade with trade_ID 4852552 and price -2.50000 for product SYSUNFUTBLYR-23  Creating transactions from 3293 to 4012 with volume 0.02952  New RockyII trade with trade_ID 4852553 and price 2.20000 for product SYSTOFUTBLYR-23  Creating transactions from 3939 to 4013 with volume 0.00302  New RockyII trade with trade_ID 4852554 and price 22.45000 for product ENOMOCT-20  Creating transactions from 3682 to 2973 with volume 0.10606  New RockyII trade with trade_ID 4852555 and price 25.70000 for product ENOMNOV-20  Creating transactions from 3682 to 2973 with volume -0.04545  New RockyII trade with trade_ID 4852556 and price 26.55000 for product ENOMDEC-20  Creating transactions from 3682 to 2973 with volume -0.06061  \")"
   ]
  },
  {
   "cell_type": "code",
   "execution_count": 66,
   "metadata": {
    "id": "v_H_P1BYeCPH"
   },
   "outputs": [],
   "source": [
    "index_mgmt = df_100[df_100['log_application'] == 'IndexMgmt']"
   ]
  },
  {
   "cell_type": "code",
   "execution_count": null,
   "metadata": {
    "colab": {
     "base_uri": "https://localhost:8080/"
    },
    "id": "qrPwQs5oeCMk",
    "outputId": "5a45dd0a-2bc8-4540-b0cf-f51349b350b1"
   },
   "outputs": [],
   "source": [
    "for row in index_mgmt['text_data'].head(8):\n",
    "    print(row)"
   ]
  },
  {
   "cell_type": "code",
   "execution_count": 68,
   "metadata": {
    "colab": {
     "base_uri": "https://localhost:8080/"
    },
    "id": "kqHjS7z8eU5I",
    "outputId": "32c9941b-5e7c-4f39-9ffa-bbd93184da80"
   },
   "outputs": [
    {
     "name": "stdout",
     "output_type": "stream",
     "text": [
      "2020-09-15 02:36:09.633\n",
      "2020-10-12 02:47:50.977\n",
      "2020-10-23 02:39:03.823\n",
      "2020-10-16 02:39:45.040\n",
      "2020-09-16 02:41:31.230\n",
      "2020-08-24 02:30:14.777\n",
      "2020-09-18 02:44:33.693\n"
     ]
    }
   ],
   "source": [
    "# Samme dagene som EF+\n",
    "# Finn ut om alle trade_ID fra RockyII eksisterer i index_mgmt.\n",
    "for row in index_mgmt['log_date']:\n",
    "    print(row)"
   ]
  },
  {
   "cell_type": "markdown",
   "metadata": {
    "id": "s4l5W3hFsYVS"
   },
   "source": [
    "## EF+ Index Management"
   ]
  },
  {
   "cell_type": "code",
   "execution_count": null,
   "metadata": {
    "colab": {
     "base_uri": "https://localhost:8080/"
    },
    "id": "z7-_E54WYQ6u",
    "outputId": "acb0404f-fde7-4240-e6fe-1f952a8256c5"
   },
   "outputs": [],
   "source": [
    "# EF+ Index Management\n",
    "# \"Created trade for ENOQ2-21(2290965) with trade_ID= 4852557: Created trasaction for pof_ID=517 with volume= 0.0002340567\" Megawatt?\n",
    "\n",
    "# Siste Trade_ID i IndexMgmt er 4852556. Eneste trade_ID i EF+ er 4852557.\n",
    "## IndexMgmt logger alle RockyII trades.\n",
    "## EF+ executer alle trades som ligger i IndexMgmt under 1 trade_ID.\n",
    "\n",
    "# Volum + pris + dato\n",
    "# Vi har også data fra vindparkene i sverige på produksjon\n",
    "# Derfor har vi relevant modell på produksjon av strøm i et spesifikt område\n",
    "# Finn: SE3 + SE4\n",
    "# Vi kan predikere: volum, produksjon, stopp / fall i produksjon\n",
    "print(\"02:36:10.1: Initializing for 2020-09-15  02:36:10.1: Initializing for 2020-09-15  02:36:10.2: Processing prognosises  02:36:14.6: Finished processing prognosis. Creating trades and transactions  02:36:14.7: Created trade for ENOQ2-21(2290965) with trade_ID= 4852557  02:36:14.7: Created trasaction for pof_ID=517 with volume= 0.0002340567  02:36:14.7: Created trasaction for pof_ID=518 with volume= 0.0029173443  02:36:14.7: Created trasaction for pof_ID=521 with volume= -0.0002340567  02:36:14.7: Created trasaction for pof_ID=522 with volume= -0.0029173443  02:36:14.7: Created trasaction for pof_ID=543 with volume= 0.0024009981  02:36:14.7: Created trasaction for pof_ID=544 with volume= -0.0024009981  02:36:14.7: Created trasaction for pof_ID=556 with volume= 0.0018320970  02:36:14.7: Created trasaction for pof_ID=557 with volume= -0.0018320970  02:36:14.7: Created trasaction for pof_ID=622 with volume= 0.0065471565  02:36:14.7: Created trasaction for pof_ID=623 with volume= -0.0065471565  02:36:14.7: Created trasaction for pof_ID=730 with volume= -0.0019920192  02:36:14.7: Created trasaction for pof_ID=731 with volume= 0.0019920192  02:36:14.7: Created trasaction for pof_ID=747 with volume= -0.0110743681  02:36:14.7: Created trasaction for pof_ID=748 with volume= 0.0110743681  02:36:14.7: Created trasaction for pof_ID=1156 with volume= 0.0045370009  02:36:14.7: Created trasaction for pof_ID=1158 with volume= -0.0045370009  02:36:14.7: Created trasaction for pof_ID=1204 with volume= 0.0001207371  02:36:14.7: Created trasaction for pof_ID=1205 with volume= -0.0001207371  02:36:14.7: Created trasaction for pof_ID=3817 with volume= 0.0067112728  02:36:14.7: Created trasaction for pof_ID=3818 with volume= -0.0067112728  02:36:14.7: Created trade for ENOQ3-21(2290966) with trade_ID= 4852558  02:36:14.7: Created trasaction for pof_ID=517 with volume= -0.0001438315  02:36:14.7: Created trasaction for pof_ID=518 with volume= 0.0016774275  02:36:14.7: Created trasaction for pof_ID=521 with volume= 0.0001438315  02:36:14.7: Created trasaction for pof_ID=522 with volume= -0.0016774275  02:36:14.7: Created trasaction for pof_ID=543 with volume= 0.0017207110  02:36:14.7: Created trasaction for pof_ID=544 with volume= -0.0017207110  02:36:14.7: Created trasaction for pof_ID=556 with volume= 0.0019336141  02:36:14.7: Created trasaction for pof_ID=557 with volume= -0.0019336141  02:36:14.7: Created trasaction for pof_ID=622 with volume= 0.0058644384  02:36:14.7: Created trasaction for pof_ID=623 with volume= -0.0058644384  02:36:14.7: Created trasaction for pof_ID=730 with volume= -0.0002629936  02:36:14.7: Created trasaction for pof_ID=731 with volume= 0.0002629936  02:36:14.7: Created trasaction for pof_ID=747 with volume= 0.0059929211  02:36:14.7: Created trasaction for pof_ID=748 with volume= -0.0059929211  02:36:14.7: Created trasaction for pof_ID=1156 with volume= 0.0032482789  02:36:14.7: Created trasaction for pof_ID=1158 with volume= -0.0032482789  02:36:14.7: Created trasaction for pof_ID=1204 with volume= 0.0001957563  02:36:14.7: Created trasaction for pof_ID=1205 with volume= -0.0001957563  02:36:14.7: Created trasaction for pof_ID=3817 with volume= 0.0020496965  02:36:14.7: Created trasaction for pof_ID=3818 with volume= -0.0020496965  02:36:14.7: Created trade for ENOYR-22(1053282) with trade_ID= 4852559  02:36:14.7: Created trasaction for pof_ID=517 with volume= 0.0010464691  02:36:14.7: Created trasaction for pof_ID=518 with volume= 0.0047128687  02:36:14.7: Created trasaction for pof_ID=521 with volume= -0.0010464691  02:36:14.7: Created trasaction for pof_ID=522 with volume= -0.0047128687  02:36:14.7: Created trasaction for pof_ID=543 with volume= 0.0024130091  02:36:14.7: Created trasaction for pof_ID=544 with volume= -0.0024130091  02:36:14.7: Created trasaction for pof_ID=556 with volume= 0.0027030388  02:36:14.7: Created trasaction for pof_ID=557 with volume= -0.0027030388  02:36:14.7: Created trasaction for pof_ID=622 with volume= 0.0072882945  02:36:14.7: Created trasaction for pof_ID=623 with volume= -0.0072882945  02:36:14.7: Created trasaction for pof_ID=730 with volume= -0.0044173413  02:36:14.7: Created trasaction for pof_ID=731 with volume= 0.0044173413  02:36:14.7: Created trasaction for pof_ID=747 with volume= -0.0318361232  02:36:14.7: Created trasaction for pof_ID=748 with volume= 0.0318361232  02:36:14.7: Created trasaction for pof_ID=1156 with volume= 0.0059251757  02:36:14.7: Created trasaction for pof_ID=1158 with volume= -0.0059251757  02:36:14.7: Created trasaction for pof_ID=3817 with volume= 0.0061659440  02:36:14.7: Created trasaction for pof_ID=3818 with volume= -0.0061659440  02:36:14.7: Created trade for ENOQ1-21(2290964) with trade_ID= 4852560  02:36:14.7: Created trasaction for pof_ID=517 with volume= 0.0019802315  02:36:14.7: Created trasaction for pof_ID=518 with volume= 0.0085805697  02:36:14.7: Created trasaction for pof_ID=521 with volume= -0.0019802315  02:36:14.7: Created trasaction for pof_ID=522 with volume= -0.0085805697  02:36:14.7: Created trasaction for pof_ID=543 with volume= 0.0037073367  02:36:14.7: Created trasaction for pof_ID=544 with volume= -0.0037073367  02:36:14.7: Created trasaction for pof_ID=556 with volume= 0.0039004585  02:36:14.7: Created trasaction for pof_ID=557 with volume= -0.0039004585  02:36:14.7: Created trasaction for pof_ID=622 with volume= 0.0103497776  02:36:14.7: Created trasaction for pof_ID=623 with volume= -0.0103497776  02:36:14.7: Created trasaction for pof_ID=730 with volume= -0.0086856044  02:36:14.7: Created trasaction for pof_ID=731 with volume= 0.0086856044  02:36:14.7: Created trasaction for pof_ID=747 with volume= -0.0724143492  02:36:14.7: Created trasaction for pof_ID=748 with volume= 0.0724143492  02:36:14.7: Created trasaction for pof_ID=1156 with volume= 0.0079154932  02:36:14.7: Created trasaction for pof_ID=1158 with volume= -0.0079154932  02:36:14.7: Created trasaction for pof_ID=1204 with volume= -0.0002180963  02:36:14.7: Created trasaction for pof_ID=1205 with volume= 0.0002180963  02:36:14.7: Created trasaction for pof_ID=3817 with volume= 0.0213421306  02:36:14.7: Created trasaction for pof_ID=3818 with volume= -0.0213421306  02:36:14.7: Created trade for ENOQ4-21(2290967) with trade_ID= 4852561  02:36:14.7: Created trasaction for pof_ID=517 with volume= 0.0015728021  02:36:14.7: Created trasaction for pof_ID=518 with volume= 0.0062674558  02:36:14.7: Created trasaction for pof_ID=521 with volume= -0.0015728021  02:36:14.7: Created trasaction for pof_ID=522 with volume= -0.0062674558  02:36:14.7: Created trasaction for pof_ID=543 with volume= 0.0034638886  02:36:14.7: Created trasaction for pof_ID=544 with volume= -0.0034638886  02:36:14.7: Created trasaction for pof_ID=556 with volume= 0.0032057537  02:36:14.7: Created trasaction for pof_ID=557 with volume= -0.0032057537  02:36:14.7: Created trasaction for pof_ID=622 with volume= 0.0084472295  02:36:14.7: Created trasaction for pof_ID=623 with volume= -0.0084472295  02:36:14.7: Created trasaction for pof_ID=730 with volume= -0.0068660842  02:36:14.7: Created trasaction for pof_ID=731 with volume= 0.0068660842  02:36:14.7: Created trasaction for pof_ID=747 with volume= -0.0526518877  02:36:14.7: Created trasaction for pof_ID=748 with volume= 0.0526518877  02:36:14.7: Created trasaction for pof_ID=1156 with volume= 0.0070215165  02:36:14.7: Created trasaction for pof_ID=1158 with volume= -0.0070215165  02:36:14.7: Created trasaction for pof_ID=1204 with volume= -0.0001299185  02:36:14.7: Created trasaction for pof_ID=1205 with volume= 0.0001299185  02:36:14.7: Created trasaction for pof_ID=3817 with volume= 0.0183306201  02:36:14.7: Created trasaction for pof_ID=3818 with volume= -0.0183306201  02:36:14.8: Created trade for ENOYR-23(1090297) with trade_ID= 4852562  02:36:14.8: Created trasaction for pof_ID=517 with volume= 0.0010796757  02:36:14.8: Created trasaction for pof_ID=518 with volume= 0.0045769691  02:36:14.8: Created trasaction for pof_ID=521 with volume= -0.0010796757  02:36:14.8: Created trasaction for pof_ID=522 with volume= -0.0045769691  02:36:14.8: Created trasaction for pof_ID=543 with volume= 0.0014227020  02:36:14.8: Created trasaction for pof_ID=544 with volume= -0.0014227020  02:36:14.8: Created trasaction for pof_ID=556 with volume= 0.0026887579  02:36:14.8: Created trasaction for pof_ID=557 with volume= -0.0026887579  02:36:14.8: Created trasaction for pof_ID=622 with volume= 0.0071457283  02:36:14.8: Created trasaction for pof_ID=623 with volume= -0.0071457283  02:36:14.8: Created trasaction for pof_ID=730 with volume= -0.0043939965  02:36:14.8: Created trasaction for pof_ID=731 with volume= 0.0043939965  02:36:14.8: Created trasaction for pof_ID=747 with volume= -0.0316679086  02:36:14.8: Created trasaction for pof_ID=748 with volume= 0.0316679086  02:36:14.8: Created trasaction for pof_ID=1156 with volume= 0.0059745319  02:36:14.8: Created trasaction for pof_ID=1158 with volume= -0.0059745319  02:36:14.8: Created trasaction for pof_ID=3817 with volume= 0.0056938892  02:36:14.8: Created trasaction for pof_ID=3818 with volume= -0.0056938892  02:36:14.8: Finished processing EF+  \")"
   ]
  },
  {
   "cell_type": "code",
   "execution_count": 70,
   "metadata": {
    "id": "lTh7qyETXpyw"
   },
   "outputs": [],
   "source": [
    "EF = df_100[df_100['log_application'] == 'EF+ Index Management']"
   ]
  },
  {
   "cell_type": "code",
   "execution_count": null,
   "metadata": {
    "colab": {
     "base_uri": "https://localhost:8080/"
    },
    "id": "rfSIUavUXvSg",
    "outputId": "a33e6bc0-5151-4afd-f577-d65d5593f799"
   },
   "outputs": [],
   "source": [
    "# Starts 24th of August (Data starts 1st)\n",
    "# Ends 23rd of October (Data ends 10th of November)\n",
    "for row in EF['text_data'].head(8):\n",
    "    print(row)"
   ]
  },
  {
   "cell_type": "markdown",
   "metadata": {
    "id": "4G2Ka9cDsbUZ"
   },
   "source": [
    "## Fin BO to Powel"
   ]
  },
  {
   "cell_type": "code",
   "execution_count": 72,
   "metadata": {
    "colab": {
     "base_uri": "https://localhost:8080/"
    },
    "id": "YEccCLW0aNxW",
    "outputId": "852e2231-561f-46a3-a5a9-35971aabb290"
   },
   "outputs": [
    {
     "name": "stdout",
     "output_type": "stream",
     "text": [
      "'/Hauga-SKL/CNS/OPT/ELBAS-S-NO2-EUR' updated 2020-10-16T09:00:00Z: 612,00000 with status OK   '/Hauga-SKL/CNS/OPT/ELBAS-S-NO2-MWh' updated 2020-10-16T09:00:00Z: 12,00000 with status OK   '/MKNO/MKNO/CNS/ELBAS-S-NO2-EUR' updated 2020-10-16T09:00:00Z: 484,10000 with status OK   '/MKNO/MKNO/CNS/ELBAS-S-NO2-MWh' updated 2020-10-16T09:00:00Z: 10,00000 with status OK   \n"
     ]
    }
   ],
   "source": [
    "# Fin BO to Powel\n",
    "# ELBAS-S-NO2-EUR = IntraDay: inntil en time før, aldri mer en 2 timer før.\n",
    "# 612,0000 with status OK\n",
    "\n",
    "# Tror ikke det er noe her. Velger å ikke fokusere på ELBAS.\n",
    "print(\"'/Hauga-SKL/CNS/OPT/ELBAS-S-NO2-EUR' updated 2020-10-16T09:00:00Z: 612,00000 with status OK   '/Hauga-SKL/CNS/OPT/ELBAS-S-NO2-MWh' updated 2020-10-16T09:00:00Z: 12,00000 with status OK   '/MKNO/MKNO/CNS/ELBAS-S-NO2-EUR' updated 2020-10-16T09:00:00Z: 484,10000 with status OK   '/MKNO/MKNO/CNS/ELBAS-S-NO2-MWh' updated 2020-10-16T09:00:00Z: 10,00000 with status OK   \")"
   ]
  },
  {
   "cell_type": "markdown",
   "metadata": {
    "id": "8sgrAabrsc78"
   },
   "source": [
    "## WAPI Curve Import"
   ]
  },
  {
   "cell_type": "code",
   "execution_count": 73,
   "metadata": {
    "colab": {
     "base_uri": "https://localhost:8080/"
    },
    "id": "v8MI8N0IaZD-",
    "outputId": "096c2eaa-9415-4bb9-dbf4-9ac2b591154f"
   },
   "outputs": [
    {
     "name": "stdout",
     "output_type": "stream",
     "text": [
      "0:35:31.5765667: Checking subscription: 20720, last updated: 03.11.2020 13:03:00, no new data.  0:35:31.6703176: Checking subscription: 20724, last updated: 03.11.2020 13:03:00, no new data.  0:35:31.7953187: Checking subscription: 20726, last updated: 03.11.2020 13:03:00, no new data.  0:35:31.9984442: Checking subscription: 20806, last updated: 03.11.2020 11:49:14, no new data.  0:35:32.0921956: Checking subscription: 1153, last updated: 03.11.2020 22:20:20, 191 points downloaded!  0:35:32.3578208: Checking subscription: 20742, last updated: 03.11.2020 12:44:28, no new data.  0:35:32.4515724: Checking subscription: 78769, last updated: 03.11.2020 22:39:31, no new data.  0:35:32.5609482: Downloaded 191 points  \n"
     ]
    }
   ],
   "source": [
    "# WAPI Curve Import\n",
    "# WAPI = Wattsight API: https://wattsight-wapi-python.readthedocs-hosted.com/en/master/connect.html\n",
    "# https://wattsight-wapi-python.readthedocs-hosted.com/en/master/_modules/wapi/curves.html\n",
    "## Data fetching.\n",
    "# Tror det er uinteressant\n",
    "print(\"0:35:31.5765667: Checking subscription: 20720, last updated: 03.11.2020 13:03:00, no new data.  0:35:31.6703176: Checking subscription: 20724, last updated: 03.11.2020 13:03:00, no new data.  0:35:31.7953187: Checking subscription: 20726, last updated: 03.11.2020 13:03:00, no new data.  0:35:31.9984442: Checking subscription: 20806, last updated: 03.11.2020 11:49:14, no new data.  0:35:32.0921956: Checking subscription: 1153, last updated: 03.11.2020 22:20:20, 191 points downloaded!  0:35:32.3578208: Checking subscription: 20742, last updated: 03.11.2020 12:44:28, no new data.  0:35:32.4515724: Checking subscription: 78769, last updated: 03.11.2020 22:39:31, no new data.  0:35:32.5609482: Downloaded 191 points  \")"
   ]
  },
  {
   "cell_type": "markdown",
   "metadata": {
    "id": "mQa8yGWLsfLB"
   },
   "source": [
    "## ComTSExport"
   ]
  },
  {
   "cell_type": "code",
   "execution_count": 74,
   "metadata": {
    "colab": {
     "base_uri": "https://localhost:8080/"
    },
    "id": "_yzgDhjqa6SA",
    "outputId": "60ae72a4-4800-4f54-bb8e-1a4a1ac3e89c"
   },
   "outputs": [
    {
     "name": "stdout",
     "output_type": "stream",
     "text": [
      "Created file \\Markedskraft.loc\\DataExchange\\Brady\\INHOUSE\\RECV\\ComTS\\BradyExport.20200925_164313.ComTS  -------------------------------------------------------------------------------  1,FINBO,PHYSBO,202009251643,+1  2,MK-MKELBASSUMDK--NPS-IDH-DK2-B-EUR-QTY,Z01  2,MK-MKELBASSUMDK--NPS-IDH-DK2-B-EUR-VAL,EUR  2,MK-MKMKDKNPS--NPS-IDH-DK2-B-EUR-QTY,Z01  2,MK-MKMKDKNPS--NPS-IDH-DK2-B-EUR-VAL,EUR  4,4,4  \n"
     ]
    }
   ],
   "source": [
    "# ComTSExport\n",
    "# Vanskelig å ta tak i, sansynligvis uinteressant\n",
    "print(\"Created file \\\\Markedskraft.loc\\DataExchange\\Brady\\INHOUSE\\RECV\\ComTS\\BradyExport.20200925_164313.ComTS  -------------------------------------------------------------------------------  1,FINBO,PHYSBO,202009251643,+1  2,MK-MKELBASSUMDK--NPS-IDH-DK2-B-EUR-QTY,Z01  2,MK-MKELBASSUMDK--NPS-IDH-DK2-B-EUR-VAL,EUR  2,MK-MKMKDKNPS--NPS-IDH-DK2-B-EUR-QTY,Z01  2,MK-MKMKDKNPS--NPS-IDH-DK2-B-EUR-VAL,EUR  4,4,4  \")"
   ]
  },
  {
   "cell_type": "markdown",
   "metadata": {
    "id": "OWLWG2ufsgon"
   },
   "source": [
    "## iRisk Data Services"
   ]
  },
  {
   "cell_type": "code",
   "execution_count": 75,
   "metadata": {
    "colab": {
     "base_uri": "https://localhost:8080/"
    },
    "id": "4fLTQncCbLej",
    "outputId": "afe12361-865c-4dc7-c2c9-106f19802b03"
   },
   "outputs": [
    {
     "name": "stdout",
     "output_type": "stream",
     "text": [
      "spGetiRiskData  From=2020-09-20  To=2050-01-01  Marketplace=2  Customer=424  Response contained 7 lines with 26 columns.\n"
     ]
    }
   ],
   "source": [
    "# iRisk Data Services\n",
    "# Customer = kunde, i relevans til PPA eller lignende\n",
    "# Ignorer nok denne.\n",
    "print(\"spGetiRiskData  From=2020-09-20  To=2050-01-01  Marketplace=2  Customer=424  Response contained 7 lines with 26 columns.\")"
   ]
  },
  {
   "cell_type": "markdown",
   "metadata": {
    "id": "jgYUR7G4sivQ"
   },
   "source": [
    "## Nord Pool Trades"
   ]
  },
  {
   "cell_type": "code",
   "execution_count": null,
   "metadata": {
    "colab": {
     "base_uri": "https://localhost:8080/"
    },
    "id": "Z9FVks8ubZ4H",
    "outputId": "d3c55586-b3fe-4024-e3a8-3a2b5d5898b2"
   },
   "outputs": [],
   "source": [
    "# Nord Pool Trades\n",
    "# Samkjøring av porteføljer?\n",
    "# \"Processing 6 trades not saved in RockyII\" ... \"Saved to Rocky\" ... \"Allocated to portfolio MKMKDKNPS (1577)\"\n",
    "# Ser ut som et fokus på \n",
    "print(\"  <html>    <head>      <style>        table {          border: solid;           border-color: darkGrey;           padding: 5;           border-collapse: collapse;        }        th {          text-align: left;          border: solid;           border-color: darkGrey;           padding: 5;           border-collapse: collapse;        }        alignRight.th {          text-align: right;          border: solid;           border-color: darkGrey;           padding: 5;           border-collapse: collapse;        }        td {          text-align: left;          border: solid;           border-color: darkGrey;           padding: 5;           border-collapse: collapse;        }        alignRight.td {          text-align: right;          border: solid;           border-color: darkGrey;           padding: 5;           border-collapse: collapse;        }      </style>    </head>  <body>Retrieved 1766 trades and saved 6 trades.<br /><table><tr><th>Market</th><th>Actor</th><th>Trade time</th><th>Ticker</th><th>Area</th><th class='alignRight'>Qty</th><th class='alignRight'>Price</th><th class='alignRight''>Label</th></tr><tr><td>NPSID</td><td>Markedskraft Danmark, Filial af Markedskraft AS, Norge</td><td>21.10.2020 10:54:33</td><td>PH-20201021-18</td><td class='alignRight'>DK2</td><td class='alignRight'>0,2</td><td class='alignRight'>37,72</td><td>MKDK/AEL<tr><td>NPSID</td><td>Markedskraft Danmark, Filial af Markedskraft AS, Norge</td><td>21.10.2020 10:54:33</td><td>PH-20201021-18</td><td class='alignRight'>DK2</td><td class='alignRight'>5,0</td><td class='alignRight'>37,73</td><td>MKDK/AEL<tr><td>NPSID</td><td>Markedskraft Danmark, Filial af Markedskraft AS, Norge</td><td>21.10.2020 10:54:33</td><td>PH-20201021-18</td><td class='alignRight'>DK2</td><td class='alignRight'>4,0</td><td class='alignRight'>37,73</td><td>MKDK/AEL<tr><td>NPSID</td><td>Markedskraft Danmark, Filial af Markedskraft AS, Norge</td><td>21.10.2020 10:54:33</td><td>PH-20201021-18</td><td class='alignRight'>DK2</td><td class='alignRight'>5,0</td><td class='alignRight'>37,74</td><td>MKDK/AEL<tr><td>NPSID</td><td>Markedskraft Danmark, Filial af Markedskraft AS, Norge</td><td>21.10.2020 10:54:33</td><td>PH-20201021-18</td><td class='alignRight'>DK2</td><td class='alignRight'>5,0</td><td class='alignRight'>37,74</td><td>MKDK/AEL<tr><td>NPSID</td><td>Markedskraft Danmark, Filial af Markedskraft AS, Norge</td><td>21.10.2020 10:54:33</td><td>PH-20201021-18</td><td class='alignRight'>DK2</td><td class='alignRight'>0,8</td><td class='alignRight'>37,74</td><td>MKDK/AEL</table>Processing 6 trades not saved in RockyII<br /><table><tr><th>Trade ID</th><th>Buy/Sell</th><th>Delivery start</th><th>Result</th></tr><tr><td>X62299957</td><td>Buy</td><td>21.10.2020 17:00</td><td>Saved to Rocky, trade_ID=4871314. Allocated to portfolio MKMKDKNPS (1577). </tr><tr><td>X62299958</td><td>Buy</td><td>21.10.2020 17:00</td><td>Saved to Rocky, trade_ID=4871315. Allocated to portfolio MKMKDKNPS (1577). </tr><tr><td>X62299959</td><td>Buy</td><td>21.10.2020 17:00</td><td>Saved to Rocky, trade_ID=4871316. Allocated to portfolio MKMKDKNPS (1577). </tr><tr><td>X62299960</td><td>Buy</td><td>21.10.2020 17:00</td><td>Saved to Rocky, trade_ID=4871317. Allocated to portfolio MKMKDKNPS (1577). </tr><tr><td>X62299961</td><td>Buy</td><td>21.10.2020 17:00</td><td>Saved to Rocky, trade_ID=4871318. Allocated to portfolio MKMKDKNPS (1577). </tr><tr><td>X62299962</td><td>Buy</td><td>21.10.2020 17:00</td><td>Saved to Rocky, trade_ID=4871319. Allocated to portfolio MKMKDKNPS (1577). </tr></table></body></html>\")"
   ]
  },
  {
   "cell_type": "markdown",
   "metadata": {
    "id": "4njJNoL7Q-aJ"
   },
   "source": [
    "## Nord Pool Market Data"
   ]
  },
  {
   "cell_type": "code",
   "execution_count": 77,
   "metadata": {
    "id": "reSf5RpoNWP4"
   },
   "outputs": [],
   "source": [
    "nord_pool_market_data = df_100[df_100['log_application'] == 'Nord Pool Market Data']"
   ]
  },
  {
   "cell_type": "code",
   "execution_count": null,
   "metadata": {
    "colab": {
     "base_uri": "https://localhost:8080/"
    },
    "id": "8SSW12u-NWSl",
    "outputId": "db9cb28c-4b42-45a7-fc81-7348ca93c9a6"
   },
   "outputs": [],
   "source": [
    "# Fetches Nord Pool Market Data\n",
    "# Not of interest.\n",
    "for row in nord_pool_market_data['text_data'].head(2):\n",
    "    print(row)"
   ]
  },
  {
   "cell_type": "markdown",
   "metadata": {
    "id": "6WJknUzJRYvS"
   },
   "source": [
    "## GreenCert"
   ]
  },
  {
   "cell_type": "code",
   "execution_count": 79,
   "metadata": {
    "id": "O-zLs7SaNWU9"
   },
   "outputs": [],
   "source": [
    "GreenCert = df_100[df_100['log_application'] == 'GreenCert']"
   ]
  },
  {
   "cell_type": "code",
   "execution_count": 80,
   "metadata": {
    "colab": {
     "base_uri": "https://localhost:8080/"
    },
    "id": "Yx4TBriJRHHq",
    "outputId": "800edfd6-1bfd-41a7-c94b-66e468bd58e4"
   },
   "outputs": [
    {
     "name": "stdout",
     "output_type": "stream",
     "text": [
      "start 2020-10-21 15:42:49ZMakeMkboTrades process started... \n",
      "start 2020-10-21 15:41:01ZMakeMkboTrades process started... \n",
      "start 2020-10-21 15:31:45ZMakeMkboTrades process started... \n",
      "start 2020-10-11 09:01:01ZNothing to do end 2020-10-11 09:01:04Z\n",
      "start 2020-09-19 21:01:01ZNothing to do end 2020-09-19 21:01:03Z\n",
      "start 2020-10-11 12:01:01ZNothing to do end 2020-10-11 12:01:03Z\n",
      "start 2020-10-22 12:07:59ZMakeMkboTrades process started... \n",
      "<h2>Processing PofIds parameters</h2><p>... making Trade</p><p>Adding Transactions to Trade: 4853731</p><p>Adding Transactions from Device: Hopland to Trade </p><p>Trade & Trans added to RockyII...</p>\n",
      "start 2020-10-17 18:01:01ZNothing to do end 2020-10-17 18:01:03Z\n",
      "start 2020-10-11 15:01:01ZNothing to do end 2020-10-11 15:01:03Z\n",
      "start 2020-10-17 21:01:01ZNothing to do end 2020-10-17 21:01:03Z\n",
      "<h2>Processing PofIds parameters</h2><p>... making Trade</p><p>Adding Transactions to Trade: 4853732</p><p>Adding Transactions from Device: Hopland to Trade </p><p>Trade & Trans added to RockyII...</p>\n",
      "start 2020-10-22 14:56:33ZNothing to do end 2020-10-22 14:56:35Z\n",
      "start 2020-10-17 15:01:01ZNothing to do end 2020-10-17 15:01:03Z\n",
      "start 2020-10-11 21:01:01ZNothing to do end 2020-10-11 21:01:03Z\n",
      "start 2020-10-23 09:01:01ZNothing to do end 2020-10-23 09:01:04Z\n",
      "start 2020-09-19 06:01:01ZNothing to do end 2020-09-19 06:01:04Z\n",
      "start 2020-10-17 06:01:01ZNothing to do end 2020-10-17 06:01:04Z\n",
      "start 2020-10-17 03:01:01ZNothing to do end 2020-10-17 03:01:04Z\n",
      "start 2020-10-22 12:02:57ZMakeMkboTrades process started... \n"
     ]
    }
   ],
   "source": [
    "# Adds transactions to RockyII\n",
    "# Not of interest\n",
    "for row in GreenCert['text_data'].head(20):\n",
    "    print(row)"
   ]
  },
  {
   "cell_type": "markdown",
   "metadata": {
    "id": "Cno7ZUXzSYsT"
   },
   "source": [
    "## FinBoReporting"
   ]
  },
  {
   "cell_type": "code",
   "execution_count": 81,
   "metadata": {
    "id": "QVASZw6LRaVR"
   },
   "outputs": [],
   "source": [
    "FinBoReporting = df_100[df_100['log_application'] == 'FinBoReporting']"
   ]
  },
  {
   "cell_type": "code",
   "execution_count": null,
   "metadata": {
    "colab": {
     "base_uri": "https://localhost:8080/"
    },
    "id": "yP2MrhIkRaXq",
    "outputId": "3c58474b-2d7f-4ed0-d2c5-4c8985a63f53"
   },
   "outputs": [],
   "source": [
    "# Processes + Reports settlement statements for customers / Portfolio\n",
    "## Norske Shell, ACT Commodities BV, AFS ENERGY BV, Agder Energi Vannkraft, AFK\n",
    "## Spelling mistake: \"Settlement Statememnt\"\n",
    "# Ikke noe å ta i her.\n",
    "for row in FinBoReporting['text_data'].head(2):\n",
    "    print(row)"
   ]
  },
  {
   "cell_type": "code",
   "execution_count": 83,
   "metadata": {
    "id": "zRrcDCbDSqhn"
   },
   "outputs": [],
   "source": [
    "# FinBoAggregation['text_data'].head()"
   ]
  },
  {
   "cell_type": "markdown",
   "metadata": {
    "id": "01B_ufYATkCZ"
   },
   "source": [
    "## VolPerDay aggregation"
   ]
  },
  {
   "cell_type": "code",
   "execution_count": 84,
   "metadata": {
    "id": "YrrSUjwASbEL"
   },
   "outputs": [],
   "source": [
    "VolPerDay = df_100[df_100['log_application'] == 'VolPerDay aggregation']"
   ]
  },
  {
   "cell_type": "code",
   "execution_count": null,
   "metadata": {
    "colab": {
     "base_uri": "https://localhost:8080/"
    },
    "id": "Gn7ktq-GSbGi",
    "outputId": "23eb4d14-28eb-41d3-eaa7-deaae1e7f6f5"
   },
   "outputs": [],
   "source": [
    "# Fetches settlements and fees.\n",
    "# Processes portfolios & price area combinations\n",
    "# @pof_ID = 14, @prs_ID = 7\n",
    "for row in VolPerDay['text_data'].head(1):\n",
    "    print(row)"
   ]
  },
  {
   "cell_type": "markdown",
   "metadata": {
    "id": "wzIFxChxUXpO"
   },
   "source": [
    "## Nord Pool prices"
   ]
  },
  {
   "cell_type": "code",
   "execution_count": 86,
   "metadata": {
    "id": "thfSGkTKTnNT"
   },
   "outputs": [],
   "source": [
    "nord_pool_prices = df_100[df_100['log_application'] == 'Nord Pool Prices']"
   ]
  },
  {
   "cell_type": "code",
   "execution_count": null,
   "metadata": {
    "colab": {
     "base_uri": "https://localhost:8080/"
    },
    "id": "uCgV0mv1TnPw",
    "outputId": "5b418475-b5ec-4428-bd33-3b2df5ae0b28"
   },
   "outputs": [],
   "source": [
    "# Fetches Nord Pool ElSpot prices\n",
    "# saves them to MKBO.db.tSystemPris\n",
    "# Around 12:50pm\n",
    "for row in nord_pool_prices['text_data'].head(2):\n",
    "    print(row)"
   ]
  },
  {
   "cell_type": "markdown",
   "metadata": {
    "id": "6HB0_ChwUgi1"
   },
   "source": [
    "## Nimbus Day Ahead Trades"
   ]
  },
  {
   "cell_type": "code",
   "execution_count": 88,
   "metadata": {
    "id": "WFzR67ywUac9"
   },
   "outputs": [],
   "source": [
    "nimbus_day_ahead = df_100[df_100['log_application'] == 'Nimbus Day Ahead Trades']"
   ]
  },
  {
   "cell_type": "code",
   "execution_count": null,
   "metadata": {
    "colab": {
     "base_uri": "https://localhost:8080/"
    },
    "id": "6FWdN62-UafR",
    "outputId": "1a0a039c-a352-4df7-997e-852b0e4f8ccf"
   },
   "outputs": [],
   "source": [
    "# Through Powel, from Nimbus.\n",
    "# Adds price series for DK1, FI, SE2, SE3\n",
    "# Fetches trades and saves trades to RockyII\n",
    "for row in nimbus_day_ahead['text_data'].head(2):\n",
    "    print(row)"
   ]
  },
  {
   "cell_type": "markdown",
   "metadata": {
    "id": "oJIUmulMVUQ6"
   },
   "source": [
    "## Create Margin History"
   ]
  },
  {
   "cell_type": "code",
   "execution_count": 90,
   "metadata": {
    "id": "vULjq5aRVJe8"
   },
   "outputs": [],
   "source": [
    "create_margin_history = df_100[df_100['log_application'] == 'Create Margin History']"
   ]
  },
  {
   "cell_type": "code",
   "execution_count": null,
   "metadata": {
    "colab": {
     "base_uri": "https://localhost:8080/"
    },
    "id": "oHBvpQAWVJhn",
    "outputId": "7bdda5d2-c0d1-4af1-cc3a-12ec25c44267"
   },
   "outputs": [],
   "source": [
    "# Checks to see if customer portfolios are updated?\n",
    "for row in create_margin_history['text_data'].head(2):\n",
    "    print(row)"
   ]
  },
  {
   "cell_type": "markdown",
   "metadata": {
    "id": "a0xKtBN1V3Z2"
   },
   "source": [
    "## Nasdaq FDS End Of Day"
   ]
  },
  {
   "cell_type": "code",
   "execution_count": 92,
   "metadata": {
    "id": "kviFdJ5KV0Bp"
   },
   "outputs": [],
   "source": [
    "nasdaq_fds_eod = df_100[df_100['log_application'] == 'Nasdaq FDS End Of Day']"
   ]
  },
  {
   "cell_type": "code",
   "execution_count": null,
   "metadata": {
    "colab": {
     "base_uri": "https://localhost:8080/"
    },
    "id": "4obGKL2GV0Es",
    "outputId": "bccc5e7b-56de-464c-a3c3-cd8c63da4d3a"
   },
   "outputs": [],
   "source": [
    "for row in nasdaq_fds_eod['text_data'].head():\n",
    "    print(row)"
   ]
  },
  {
   "cell_type": "markdown",
   "metadata": {
    "id": "-1FLT2RPWG9j"
   },
   "source": [
    "## Risk Report"
   ]
  },
  {
   "cell_type": "code",
   "execution_count": 94,
   "metadata": {
    "id": "3VKDSO9iWHjz"
   },
   "outputs": [],
   "source": [
    "risk_report = df_100[df_100['log_application'] == 'Risk Report']"
   ]
  },
  {
   "cell_type": "code",
   "execution_count": null,
   "metadata": {
    "colab": {
     "base_uri": "https://localhost:8080/"
    },
    "id": "P6QVjGVyWHmX",
    "outputId": "279689b2-8401-437d-9dbb-83d1542c09a0"
   },
   "outputs": [],
   "source": [
    "# Builds risk report\n",
    "# Nothing to grab\n",
    "for row in risk_report['text_data'].head(2):\n",
    "    print(row)"
   ]
  },
  {
   "cell_type": "markdown",
   "metadata": {
    "id": "Y24naOk-WXZt"
   },
   "source": [
    "## Excel"
   ]
  },
  {
   "cell_type": "code",
   "execution_count": 96,
   "metadata": {
    "id": "GR1BoVouWbiv"
   },
   "outputs": [],
   "source": [
    "excel = df_100[df_100['log_application'] == 'Excel']"
   ]
  },
  {
   "cell_type": "code",
   "execution_count": 97,
   "metadata": {
    "colab": {
     "base_uri": "https://localhost:8080/"
    },
    "id": "0Mqh-lgAWbk4",
    "outputId": "b86763ef-ef81-4ff5-ab76-a5810151d2d6"
   },
   "outputs": [
    {
     "name": "stdout",
     "output_type": "stream",
     "text": [
      "nan\n",
      "nan\n",
      "nan\n",
      "nan\n",
      "nan\n"
     ]
    }
   ],
   "source": [
    "for row in excel['text_data'].head():\n",
    "    print(row)"
   ]
  },
  {
   "cell_type": "markdown",
   "metadata": {
    "id": "Yygb3L1dWhAB"
   },
   "source": [
    "## Nasdaq Split"
   ]
  },
  {
   "cell_type": "code",
   "execution_count": 98,
   "metadata": {
    "id": "0IXdZAPBWhIN"
   },
   "outputs": [],
   "source": [
    "nasdaq_split = df_100[df_100['log_application'] == 'Nasdaq Split']"
   ]
  },
  {
   "cell_type": "code",
   "execution_count": 99,
   "metadata": {
    "colab": {
     "base_uri": "https://localhost:8080/"
    },
    "id": "w4HprURsWhK2",
    "outputId": "bb75fda7-e281-4a7a-cb9a-285563e07139"
   },
   "outputs": [
    {
     "name": "stdout",
     "output_type": "stream",
     "text": [
      "Deleted 0 existing SPLOUT/SPLIN trades \n",
      "Deleted 0 existing SPLOUT/SPLIN trades \n",
      "Deleted 0 existing SPLOUT/SPLIN trades \n",
      "Deleted 0 existing SPLOUT/SPLIN trades \n",
      "Deleted 0 existing SPLOUT/SPLIN trades \n"
     ]
    }
   ],
   "source": [
    "for row in nasdaq_split['text_data'].head():\n",
    "    print(row)"
   ]
  },
  {
   "cell_type": "markdown",
   "metadata": {
    "id": "yfAFg1loWyjJ"
   },
   "source": [
    "## MarketMath Risk Retriever"
   ]
  },
  {
   "cell_type": "code",
   "execution_count": 100,
   "metadata": {
    "id": "PZpj1D7QWypt"
   },
   "outputs": [],
   "source": [
    "mm_rr = df_100[df_100['log_application'] == 'MarketMath Risk Retriever']"
   ]
  },
  {
   "cell_type": "code",
   "execution_count": null,
   "metadata": {
    "colab": {
     "base_uri": "https://localhost:8080/"
    },
    "id": "02aWlF4RWysP",
    "outputId": "c6cd9f4f-c3a1-4c06-c59a-5a0be16bd659"
   },
   "outputs": [],
   "source": [
    "# fetches risk for last trading day\n",
    "# Danske bank, DNB\n",
    "for row in mm_rr['text_data'].head(2):\n",
    "    print(row)"
   ]
  },
  {
   "cell_type": "markdown",
   "metadata": {
    "id": "hGiTBsjlXRi-"
   },
   "source": [
    "## PriceCalcWs Test"
   ]
  },
  {
   "cell_type": "code",
   "execution_count": 102,
   "metadata": {
    "id": "vD6pSPnBXRrf"
   },
   "outputs": [],
   "source": [
    "pcwtest = df_100[df_100['log_application'] == 'PriceCalcWS Test']"
   ]
  },
  {
   "cell_type": "code",
   "execution_count": 103,
   "metadata": {
    "colab": {
     "base_uri": "https://localhost:8080/"
    },
    "id": "Kgs-X74eXRuN",
    "outputId": "b7e17130-56f7-4eb6-f6eb-ad7617095662"
   },
   "outputs": [
    {
     "name": "stdout",
     "output_type": "stream",
     "text": [
      "06:40:34.798: SOAP: Fetching data with token of \"16d7c080-3533-4510-b690-8ad0f64603aa\" and region of \"ARH\". 06:41:03.407: 16d7c080-3533-4510-b690-8ad0f64603aa: Returning 99 rows. 06:41:15.683: SOAP: Fetching data with token of \"16d7c080-3533-4510-b690-8ad0f64603aa\" and region of \"CPH\". 06:41:15.828: 16d7c080-3533-4510-b690-8ad0f64603aa: Returning 99 rows. 06:41:15.843: SOAP: Fetching data with token of \"16d7c080-3533-4510-b690-8ad0f64603aa\" and region of \"STO\". 06:41:15.968: 16d7c080-3533-4510-b690-8ad0f64603aa: Returning 99 rows. 06:41:15.983: SOAP: Fetching data with token of \"16d7c080-3533-4510-b690-8ad0f64603aa\" and region of \"LUL\". 06:41:16.135: 16d7c080-3533-4510-b690-8ad0f64603aa: Returning 99 rows. 06:41:16.154: SOAP: Fetching data with token of \"16d7c080-3533-4510-b690-8ad0f64603aa\" and region of \"SUN\". 06:41:16.291: 16d7c080-3533-4510-b690-8ad0f64603aa: Returning 99 rows. 06:41:16.307: SOAP: Fetching data with token of \"16d7c080-3533-4510-b690-8ad0f64603aa\" and region of \"MAL\". 06:41:16.467: 16d7c080-3533-4510-b690-8ad0f64603aa: Returning 99 rows. 06:41:16.482: SOAP: Fetching data with token of \"16d7c080-3533-4510-b690-8ad0f64603aa\" and region of \"OSL\". 06:41:16.622: 16d7c080-3533-4510-b690-8ad0f64603aa: Returning 99 rows. 06:41:16.639: SOAP: Fetching data with token of \"16d7c080-3533-4510-b690-8ad0f64603aa\" and region of \"TRO\". 06:41:16.756: 16d7c080-3533-4510-b690-8ad0f64603aa: Returning 75 rows. 06:41:16.767: SOAP: Fetching data with token of \"16d7c080-3533-4510-b690-8ad0f64603aa\" and region of \"HEL\". 06:41:16.902: 16d7c080-3533-4510-b690-8ad0f64603aa: Returning 99 rows.\n",
      "07:01:07.429: REST: Fetching JSON data with token of \"54bac9be-3f3b-4198-994b-cf083d677a2f\" and region of \"HEL\". 07:01:07.606: 54bac9be-3f3b-4198-994b-cf083d677a2f: Returning 99 rows.\n"
     ]
    }
   ],
   "source": [
    "# SOAP protocol\n",
    "# REST call\n",
    "for row in pcwtest['text_data'].head():\n",
    "    print(row)"
   ]
  },
  {
   "cell_type": "markdown",
   "metadata": {
    "id": "MB9LLb8B3jwr"
   },
   "source": [
    "# Data Wrangling"
   ]
  },
  {
   "cell_type": "markdown",
   "metadata": {
    "id": "S0LU5kdDdFfd"
   },
   "source": [
    "## sorting by date"
   ]
  },
  {
   "cell_type": "code",
   "execution_count": 104,
   "metadata": {
    "id": "E4PyYQNmf6VX"
   },
   "outputs": [],
   "source": [
    "df2 = df.copy()\n",
    "df_200 = df_100.copy()"
   ]
  },
  {
   "cell_type": "code",
   "execution_count": 105,
   "metadata": {
    "colab": {
     "base_uri": "https://localhost:8080/"
    },
    "id": "Qn_jUIikdTj_",
    "outputId": "e628ebca-f0bf-4163-c05f-6605dfc4f478"
   },
   "outputs": [
    {
     "data": {
      "text/plain": [
       "Index(['log_id', 'log_date', 'log_application', 'lvl_id', 'log_attlen',\n",
       "       'log_text', 'log_data', 'text_data'],\n",
       "      dtype='object')"
      ]
     },
     "execution_count": 105,
     "metadata": {},
     "output_type": "execute_result"
    }
   ],
   "source": [
    "df.columns"
   ]
  },
  {
   "cell_type": "markdown",
   "metadata": {
    "id": "6vGRGscZdeIx"
   },
   "source": [
    "### Converting df['log_date] to datetime"
   ]
  },
  {
   "cell_type": "code",
   "execution_count": 106,
   "metadata": {
    "id": "sQy1bdmndIvd"
   },
   "outputs": [],
   "source": [
    "df['log_date'] = pd.to_datetime(df['log_date'])"
   ]
  },
  {
   "cell_type": "code",
   "execution_count": 107,
   "metadata": {
    "id": "7iAWAuFfHSFW"
   },
   "outputs": [],
   "source": [
    "df_100['log_date'] = pd.to_datetime(df_100['log_date'])"
   ]
  },
  {
   "cell_type": "markdown",
   "metadata": {
    "id": "FUTU3DWupZes"
   },
   "source": [
    "### Sorting dataframe by datetime"
   ]
  },
  {
   "cell_type": "code",
   "execution_count": 108,
   "metadata": {
    "id": "nF7bX2w8o2ic"
   },
   "outputs": [],
   "source": [
    "df = df.sort_values(by='log_date',ascending=True)"
   ]
  },
  {
   "cell_type": "code",
   "execution_count": 109,
   "metadata": {
    "colab": {
     "base_uri": "https://localhost:8080/",
     "height": 204
    },
    "id": "VO9qkTfZo6ib",
    "outputId": "e5fab68b-e3be-4e09-98dd-06d5bdcf035f"
   },
   "outputs": [
    {
     "data": {
      "text/html": [
       "<div>\n",
       "<style scoped>\n",
       "    .dataframe tbody tr th:only-of-type {\n",
       "        vertical-align: middle;\n",
       "    }\n",
       "\n",
       "    .dataframe tbody tr th {\n",
       "        vertical-align: top;\n",
       "    }\n",
       "\n",
       "    .dataframe thead th {\n",
       "        text-align: right;\n",
       "    }\n",
       "</style>\n",
       "<table border=\"1\" class=\"dataframe\">\n",
       "  <thead>\n",
       "    <tr style=\"text-align: right;\">\n",
       "      <th></th>\n",
       "      <th>log_id</th>\n",
       "      <th>log_date</th>\n",
       "      <th>log_application</th>\n",
       "      <th>lvl_id</th>\n",
       "      <th>log_attlen</th>\n",
       "      <th>log_text</th>\n",
       "      <th>log_data</th>\n",
       "      <th>text_data</th>\n",
       "    </tr>\n",
       "  </thead>\n",
       "  <tbody>\n",
       "    <tr>\n",
       "      <th>108</th>\n",
       "      <td>16395522</td>\n",
       "      <td>2020-08-01 01:45:52.437</td>\n",
       "      <td>Wind Power Import</td>\n",
       "      <td>3</td>\n",
       "      <td>4630.0</td>\n",
       "      <td>Running import from API to Powel</td>\n",
       "      <td>0x4665746368696E6720646174612066726F6D20417069...</td>\n",
       "      <td>Fetching data from Api. Fetching data for Blei...</td>\n",
       "    </tr>\n",
       "    <tr>\n",
       "      <th>212</th>\n",
       "      <td>16410347</td>\n",
       "      <td>2020-08-02 10:30:13.637</td>\n",
       "      <td>ComTSExport</td>\n",
       "      <td>3</td>\n",
       "      <td>380.0</td>\n",
       "      <td>Physical trades data is being exported to Brad...</td>\n",
       "      <td>0x437265617465642066696C65205C5C4D4B5241524531...</td>\n",
       "      <td>Created file \\\\MKRARE1088\\Pomax\\INHOUSE\\RECV\\C...</td>\n",
       "    </tr>\n",
       "    <tr>\n",
       "      <th>213</th>\n",
       "      <td>16410348</td>\n",
       "      <td>2020-08-02 10:30:33.633</td>\n",
       "      <td>WAPI Curve Import</td>\n",
       "      <td>3</td>\n",
       "      <td>1388.0</td>\n",
       "      <td>Checking subscriptions 02.08.2020 10:30:16</td>\n",
       "      <td>0x20202020202020202020202020202020202020202020...</td>\n",
       "      <td>...</td>\n",
       "    </tr>\n",
       "    <tr>\n",
       "      <th>214</th>\n",
       "      <td>16410362</td>\n",
       "      <td>2020-08-02 10:31:31.387</td>\n",
       "      <td>WAPI Curve Import</td>\n",
       "      <td>3</td>\n",
       "      <td>1324.0</td>\n",
       "      <td>Checking subscriptions 02.08.2020 10:31:17</td>\n",
       "      <td>0x20202020202020202020202020202020202020202020...</td>\n",
       "      <td>...</td>\n",
       "    </tr>\n",
       "    <tr>\n",
       "      <th>215</th>\n",
       "      <td>16410377</td>\n",
       "      <td>2020-08-02 10:33:38.753</td>\n",
       "      <td>WAPI Curve Import</td>\n",
       "      <td>3</td>\n",
       "      <td>2328.0</td>\n",
       "      <td>Checking subscriptions 02.08.2020 10:33:19</td>\n",
       "      <td>0x20202020202020202020202020202020202020202020...</td>\n",
       "      <td>...</td>\n",
       "    </tr>\n",
       "  </tbody>\n",
       "</table>\n",
       "</div>"
      ],
      "text/plain": [
       "       log_id                log_date    log_application  lvl_id  log_attlen  \\\n",
       "108  16395522 2020-08-01 01:45:52.437  Wind Power Import       3      4630.0   \n",
       "212  16410347 2020-08-02 10:30:13.637        ComTSExport       3       380.0   \n",
       "213  16410348 2020-08-02 10:30:33.633  WAPI Curve Import       3      1388.0   \n",
       "214  16410362 2020-08-02 10:31:31.387  WAPI Curve Import       3      1324.0   \n",
       "215  16410377 2020-08-02 10:33:38.753  WAPI Curve Import       3      2328.0   \n",
       "\n",
       "                                              log_text  \\\n",
       "108                   Running import from API to Powel   \n",
       "212  Physical trades data is being exported to Brad...   \n",
       "213         Checking subscriptions 02.08.2020 10:30:16   \n",
       "214         Checking subscriptions 02.08.2020 10:31:17   \n",
       "215         Checking subscriptions 02.08.2020 10:33:19   \n",
       "\n",
       "                                              log_data  \\\n",
       "108  0x4665746368696E6720646174612066726F6D20417069...   \n",
       "212  0x437265617465642066696C65205C5C4D4B5241524531...   \n",
       "213  0x20202020202020202020202020202020202020202020...   \n",
       "214  0x20202020202020202020202020202020202020202020...   \n",
       "215  0x20202020202020202020202020202020202020202020...   \n",
       "\n",
       "                                             text_data  \n",
       "108  Fetching data from Api. Fetching data for Blei...  \n",
       "212  Created file \\\\MKRARE1088\\Pomax\\INHOUSE\\RECV\\C...  \n",
       "213                                                ...  \n",
       "214                                                ...  \n",
       "215                                                ...  "
      ]
     },
     "execution_count": 109,
     "metadata": {},
     "output_type": "execute_result"
    }
   ],
   "source": [
    "df.head()"
   ]
  },
  {
   "cell_type": "code",
   "execution_count": 110,
   "metadata": {
    "id": "u6EF0uB7HV9C"
   },
   "outputs": [],
   "source": [
    "df_100 = df_100.sort_values(by='log_date',ascending=True)"
   ]
  },
  {
   "cell_type": "markdown",
   "metadata": {
    "id": "BOo9a-i13mFj"
   },
   "source": [
    "# Data Exploration"
   ]
  },
  {
   "cell_type": "markdown",
   "metadata": {
    "id": "z3BkPe2ihG6V"
   },
   "source": [
    "## Exploratory: looking at sequential events"
   ]
  },
  {
   "cell_type": "code",
   "execution_count": null,
   "metadata": {
    "colab": {
     "base_uri": "https://localhost:8080/",
     "height": 1000
    },
    "id": "TDCkH2FXhQNz",
    "outputId": "b6e5371d-1da5-4af1-e95b-cfe147f03adc"
   },
   "outputs": [],
   "source": [
    "df.iloc[300:350]"
   ]
  },
  {
   "cell_type": "markdown",
   "metadata": {
    "id": "kfTfIsV_hAX2"
   },
   "source": [
    "# Creating DFs from text_data in Applications: RockyII, IndexMgmt, Wind Power Import"
   ]
  },
  {
   "cell_type": "markdown",
   "metadata": {
    "id": "iteVHr9HVKeo"
   },
   "source": [
    "## RockyII"
   ]
  },
  {
   "cell_type": "code",
   "execution_count": 112,
   "metadata": {
    "id": "YBJ-luOqVp-e"
   },
   "outputs": [],
   "source": [
    "RockyII = df_100[df_100['log_application'] == 'RockyII']"
   ]
  },
  {
   "cell_type": "code",
   "execution_count": 113,
   "metadata": {
    "id": "vXnr2n7AVqBT"
   },
   "outputs": [],
   "source": [
    "# Extract relevant data from text_data\n",
    "def string_to_dict(row):\n",
    "    '''\n",
    "    Function to extract data from RockyII Application's \"text_data\" string field\n",
    "    into a dictionary. Dictionary will be used to create a new dataframe.\n",
    "    '''\n",
    "    s = row.replace('[', '').split('] ') # Removes \"[\" and splits string into list elements at \"]\"\n",
    "    s2 = [i.split('=') for i in s]       # traverses across array \"s\" and splits into further arrays on \"=\"\n",
    "    \n",
    "    flat_list = [item for sublist in s2 for item in sublist]\n",
    "\n",
    "    d = {flat_list[i]:flat_list[i+1]  for i in range(0, len(flat_list)-1,2)}\n",
    "    return d\n",
    "\n",
    "# Look at all variants of rockyll text_data\n",
    "rockyll_trade_id = pd.DataFrame()\n",
    "rockyll_trade_id_dict = {}\n",
    "\n",
    "for row in RockyII['text_data']:\n",
    "    row = str(row)\n",
    "    if row.startswith('trade_ID'):\n",
    "        rockyll_trade_id = rockyll_trade_id.append(string_to_dict(row), ignore_index=True)"
   ]
  },
  {
   "cell_type": "code",
   "execution_count": 114,
   "metadata": {
    "colab": {
     "base_uri": "https://localhost:8080/"
    },
    "id": "NE8TkdorWfjq",
    "outputId": "c4cf7563-9666-45bf-97ca-fa7e16104b89"
   },
   "outputs": [
    {
     "data": {
      "text/plain": [
       "(85, 28)"
      ]
     },
     "execution_count": 114,
     "metadata": {},
     "output_type": "execute_result"
    }
   ],
   "source": [
    "rockyll_trade_id.shape"
   ]
  },
  {
   "cell_type": "code",
   "execution_count": 115,
   "metadata": {
    "colab": {
     "base_uri": "https://localhost:8080/"
    },
    "id": "6kJvFCxCxsR5",
    "outputId": "32d8ff15-34f4-4a59-d342-45059c025a15"
   },
   "outputs": [
    {
     "name": "stderr",
     "output_type": "stream",
     "text": [
      "C:\\ProgramData\\Anaconda3\\lib\\site-packages\\ipykernel_launcher.py:2: SettingWithCopyWarning: \n",
      "A value is trying to be set on a copy of a slice from a DataFrame.\n",
      "Try using .loc[row_indexer,col_indexer] = value instead\n",
      "\n",
      "See the caveats in the documentation: http://pandas.pydata.org/pandas-docs/stable/indexing.html#indexing-view-versus-copy\n",
      "  \n"
     ]
    }
   ],
   "source": [
    "rocky_merge = rockyll_trade_id[['pro_ID', 'trade_Date', 'trade_ID', 'trade_Price']]\n",
    "rocky_merge['trade_ID'] = rocky_merge['trade_ID'].astype(int)"
   ]
  },
  {
   "cell_type": "code",
   "execution_count": 116,
   "metadata": {
    "colab": {
     "base_uri": "https://localhost:8080/"
    },
    "id": "NoJLYPWM4dfW",
    "outputId": "7280484c-0dcc-4ab6-d85d-4f45e7473a9d"
   },
   "outputs": [
    {
     "data": {
      "text/plain": [
       "(85, 4)"
      ]
     },
     "execution_count": 116,
     "metadata": {},
     "output_type": "execute_result"
    }
   ],
   "source": [
    "rocky_merge.shape"
   ]
  },
  {
   "cell_type": "markdown",
   "metadata": {
    "id": "ttOPqzEY0LLV"
   },
   "source": [
    "### Adding \"Day\" column to RockyII dataset"
   ]
  },
  {
   "cell_type": "code",
   "execution_count": 117,
   "metadata": {
    "id": "J5BqaWHJ2Vd8"
   },
   "outputs": [],
   "source": [
    "# rocky_merge['trade_Date'] = pd.datetime(rocky_merge['trade_Date'])"
   ]
  },
  {
   "cell_type": "code",
   "execution_count": 118,
   "metadata": {
    "id": "k5tm17__0Kue"
   },
   "outputs": [],
   "source": [
    "rocky_day = pd.DataFrame(columns=['day'])\n",
    "for row in rocky_merge['trade_Date']:\n",
    "    rocky_day = rocky_day.append({'day': row[0:8]}, ignore_index=True)"
   ]
  },
  {
   "cell_type": "code",
   "execution_count": 120,
   "metadata": {
    "colab": {
     "base_uri": "https://localhost:8080/"
    },
    "id": "jZlerN6f4gpQ",
    "outputId": "22dbba14-91e4-40bd-a960-7b61215cfec5"
   },
   "outputs": [
    {
     "data": {
      "text/plain": [
       "(85, 1)"
      ]
     },
     "execution_count": 120,
     "metadata": {},
     "output_type": "execute_result"
    }
   ],
   "source": [
    "rocky_day.shape"
   ]
  },
  {
   "cell_type": "code",
   "execution_count": 148,
   "metadata": {},
   "outputs": [
    {
     "data": {
      "text/html": [
       "<div>\n",
       "<style scoped>\n",
       "    .dataframe tbody tr th:only-of-type {\n",
       "        vertical-align: middle;\n",
       "    }\n",
       "\n",
       "    .dataframe tbody tr th {\n",
       "        vertical-align: top;\n",
       "    }\n",
       "\n",
       "    .dataframe thead th {\n",
       "        text-align: right;\n",
       "    }\n",
       "</style>\n",
       "<table border=\"1\" class=\"dataframe\">\n",
       "  <thead>\n",
       "    <tr style=\"text-align: right;\">\n",
       "      <th></th>\n",
       "      <th>day</th>\n",
       "    </tr>\n",
       "  </thead>\n",
       "  <tbody>\n",
       "    <tr>\n",
       "      <th>0</th>\n",
       "      <td>11.08.20</td>\n",
       "    </tr>\n",
       "    <tr>\n",
       "      <th>1</th>\n",
       "      <td>11.08.20</td>\n",
       "    </tr>\n",
       "    <tr>\n",
       "      <th>2</th>\n",
       "      <td>12.08.20</td>\n",
       "    </tr>\n",
       "    <tr>\n",
       "      <th>3</th>\n",
       "      <td>12.08.20</td>\n",
       "    </tr>\n",
       "    <tr>\n",
       "      <th>4</th>\n",
       "      <td>12.08.20</td>\n",
       "    </tr>\n",
       "  </tbody>\n",
       "</table>\n",
       "</div>"
      ],
      "text/plain": [
       "        day\n",
       "0  11.08.20\n",
       "1  11.08.20\n",
       "2  12.08.20\n",
       "3  12.08.20\n",
       "4  12.08.20"
      ]
     },
     "execution_count": 148,
     "metadata": {},
     "output_type": "execute_result"
    }
   ],
   "source": [
    "rocky_day.head()"
   ]
  },
  {
   "cell_type": "code",
   "execution_count": 151,
   "metadata": {},
   "outputs": [
    {
     "data": {
      "text/html": [
       "<div>\n",
       "<style scoped>\n",
       "    .dataframe tbody tr th:only-of-type {\n",
       "        vertical-align: middle;\n",
       "    }\n",
       "\n",
       "    .dataframe tbody tr th {\n",
       "        vertical-align: top;\n",
       "    }\n",
       "\n",
       "    .dataframe thead th {\n",
       "        text-align: right;\n",
       "    }\n",
       "</style>\n",
       "<table border=\"1\" class=\"dataframe\">\n",
       "  <thead>\n",
       "    <tr style=\"text-align: right;\">\n",
       "      <th></th>\n",
       "      <th>pro_ID</th>\n",
       "      <th>trade_Date</th>\n",
       "      <th>trade_ID</th>\n",
       "      <th>trade_Price</th>\n",
       "    </tr>\n",
       "  </thead>\n",
       "  <tbody>\n",
       "    <tr>\n",
       "      <th>0</th>\n",
       "      <td>1620627</td>\n",
       "      <td>11.08.2020 09:50:58</td>\n",
       "      <td>4837585</td>\n",
       "      <td>23,8</td>\n",
       "    </tr>\n",
       "    <tr>\n",
       "      <th>1</th>\n",
       "      <td>1053282</td>\n",
       "      <td>11.08.2020 10:06:17</td>\n",
       "      <td>4837586</td>\n",
       "      <td>23,8</td>\n",
       "    </tr>\n",
       "    <tr>\n",
       "      <th>2</th>\n",
       "      <td>2023205</td>\n",
       "      <td>12.08.2020 09:37:34</td>\n",
       "      <td>4837982</td>\n",
       "      <td>-1</td>\n",
       "    </tr>\n",
       "    <tr>\n",
       "      <th>3</th>\n",
       "      <td>2301718</td>\n",
       "      <td>12.08.2020 09:41:10</td>\n",
       "      <td>4837983</td>\n",
       "      <td>-2,3</td>\n",
       "    </tr>\n",
       "    <tr>\n",
       "      <th>4</th>\n",
       "      <td>2301718</td>\n",
       "      <td>12.08.2020 09:47:02</td>\n",
       "      <td>4837984</td>\n",
       "      <td>-2,3</td>\n",
       "    </tr>\n",
       "  </tbody>\n",
       "</table>\n",
       "</div>"
      ],
      "text/plain": [
       "    pro_ID           trade_Date  trade_ID trade_Price\n",
       "0  1620627  11.08.2020 09:50:58   4837585        23,8\n",
       "1  1053282  11.08.2020 10:06:17   4837586        23,8\n",
       "2  2023205  12.08.2020 09:37:34   4837982          -1\n",
       "3  2301718  12.08.2020 09:41:10   4837983        -2,3\n",
       "4  2301718  12.08.2020 09:47:02   4837984        -2,3"
      ]
     },
     "execution_count": 151,
     "metadata": {},
     "output_type": "execute_result"
    }
   ],
   "source": [
    "rocky_merge.head()"
   ]
  },
  {
   "cell_type": "code",
   "execution_count": 121,
   "metadata": {
    "id": "VfiCkIpz0AlM"
   },
   "outputs": [
    {
     "data": {
      "text/plain": [
       "'12.08.20'"
      ]
     },
     "execution_count": 121,
     "metadata": {},
     "output_type": "execute_result"
    }
   ],
   "source": [
    "rocky_merge['trade_Date'][2][0:8]"
   ]
  },
  {
   "cell_type": "code",
   "execution_count": 160,
   "metadata": {
    "id": "RIN__q-F4GqL"
   },
   "outputs": [],
   "source": [
    "rocky_merged = pd.concat([rocky_merge, rocky_day], axis=1)"
   ]
  },
  {
   "cell_type": "code",
   "execution_count": 162,
   "metadata": {},
   "outputs": [
    {
     "data": {
      "text/html": [
       "<div>\n",
       "<style scoped>\n",
       "    .dataframe tbody tr th:only-of-type {\n",
       "        vertical-align: middle;\n",
       "    }\n",
       "\n",
       "    .dataframe tbody tr th {\n",
       "        vertical-align: top;\n",
       "    }\n",
       "\n",
       "    .dataframe thead th {\n",
       "        text-align: right;\n",
       "    }\n",
       "</style>\n",
       "<table border=\"1\" class=\"dataframe\">\n",
       "  <thead>\n",
       "    <tr style=\"text-align: right;\">\n",
       "      <th></th>\n",
       "      <th>pro_ID</th>\n",
       "      <th>trade_Date</th>\n",
       "      <th>trade_ID</th>\n",
       "      <th>trade_Price</th>\n",
       "      <th>day</th>\n",
       "    </tr>\n",
       "  </thead>\n",
       "  <tbody>\n",
       "    <tr>\n",
       "      <th>0</th>\n",
       "      <td>1620627</td>\n",
       "      <td>11.08.2020 09:50:58</td>\n",
       "      <td>4837585</td>\n",
       "      <td>23,8</td>\n",
       "      <td>11.08.20</td>\n",
       "    </tr>\n",
       "    <tr>\n",
       "      <th>1</th>\n",
       "      <td>1053282</td>\n",
       "      <td>11.08.2020 10:06:17</td>\n",
       "      <td>4837586</td>\n",
       "      <td>23,8</td>\n",
       "      <td>11.08.20</td>\n",
       "    </tr>\n",
       "    <tr>\n",
       "      <th>2</th>\n",
       "      <td>2023205</td>\n",
       "      <td>12.08.2020 09:37:34</td>\n",
       "      <td>4837982</td>\n",
       "      <td>-1</td>\n",
       "      <td>12.08.20</td>\n",
       "    </tr>\n",
       "    <tr>\n",
       "      <th>3</th>\n",
       "      <td>2301718</td>\n",
       "      <td>12.08.2020 09:41:10</td>\n",
       "      <td>4837983</td>\n",
       "      <td>-2,3</td>\n",
       "      <td>12.08.20</td>\n",
       "    </tr>\n",
       "    <tr>\n",
       "      <th>4</th>\n",
       "      <td>2301718</td>\n",
       "      <td>12.08.2020 09:47:02</td>\n",
       "      <td>4837984</td>\n",
       "      <td>-2,3</td>\n",
       "      <td>12.08.20</td>\n",
       "    </tr>\n",
       "  </tbody>\n",
       "</table>\n",
       "</div>"
      ],
      "text/plain": [
       "    pro_ID           trade_Date  trade_ID trade_Price       day\n",
       "0  1620627  11.08.2020 09:50:58   4837585        23,8  11.08.20\n",
       "1  1053282  11.08.2020 10:06:17   4837586        23,8  11.08.20\n",
       "2  2023205  12.08.2020 09:37:34   4837982          -1  12.08.20\n",
       "3  2301718  12.08.2020 09:41:10   4837983        -2,3  12.08.20\n",
       "4  2301718  12.08.2020 09:47:02   4837984        -2,3  12.08.20"
      ]
     },
     "execution_count": 162,
     "metadata": {},
     "output_type": "execute_result"
    }
   ],
   "source": [
    "rocky_merged.head()"
   ]
  },
  {
   "cell_type": "code",
   "execution_count": 163,
   "metadata": {
    "colab": {
     "base_uri": "https://localhost:8080/",
     "height": 204
    },
    "id": "V8E4ERjN4NYR",
    "outputId": "0e943d5f-5149-4e8f-fada-cc48135ee851"
   },
   "outputs": [
    {
     "data": {
      "text/plain": [
       "(85, 5)"
      ]
     },
     "execution_count": 163,
     "metadata": {},
     "output_type": "execute_result"
    }
   ],
   "source": [
    "rocky_merged.shape"
   ]
  },
  {
   "cell_type": "code",
   "execution_count": 168,
   "metadata": {
    "id": "ntn7KHhTxsrX"
   },
   "outputs": [
    {
     "data": {
      "image/png": "[encoded data removed]",
      "text/plain": [
       "<Figure size 432x288 with 1 Axes>"
      ]
     },
     "metadata": {
      "needs_background": "light"
     },
     "output_type": "display_data"
    }
   ],
   "source": [
    "sns.scatterplot(x='trade_Price', y='day', hue='trade_Price', data=rocky_merged);"
   ]
  },
  {
   "cell_type": "markdown",
   "metadata": {
    "id": "MJJYov7OVHEr"
   },
   "source": [
    "## IndexMgmt"
   ]
  },
  {
   "cell_type": "code",
   "execution_count": 128,
   "metadata": {
    "id": "DnvitYUnVZVo"
   },
   "outputs": [],
   "source": [
    "index_mgmt = df_100[df_100['log_application'] == 'IndexMgmt']"
   ]
  },
  {
   "cell_type": "code",
   "execution_count": null,
   "metadata": {
    "id": "v-Bs4_olWNzt"
   },
   "outputs": [],
   "source": [
    "for row in index_mgmt['text_data'].head(10):\n",
    "    print(row)"
   ]
  },
  {
   "cell_type": "code",
   "execution_count": 130,
   "metadata": {
    "id": "hKhlYVfBnzmP"
   },
   "outputs": [],
   "source": [
    "def index_mgmt_string_to_df(row):\n",
    "    \"\"\"\n",
    "    Parses index mgmt trades to a dataframe with one row per trade\n",
    "    Inputs data into an array, then into a dataframe (to save memory)\n",
    "    \"\"\"\n",
    "    trades_strings = row.split('New RockyII trade')[1:]\n",
    "\n",
    "    trades_array = np.zeros( (len(trades_strings), 4), dtype=object)\n",
    "    trades_array_columns = ['trade_ID', 'price', 'product', 'volume']\n",
    "\n",
    "    index = 0\n",
    "    for trade in trades_strings:\n",
    "        words = trade.split(' ')\n",
    "\n",
    "        trade_index = words.index('trade_ID') + 1 # find index of search word 'trade_ID'\n",
    "        trade_id = words[trade_index] # and store the value\n",
    "        price_index = words.index('price') + 1\n",
    "        price = words[price_index]\n",
    "        product_index = words.index('product') + 1\n",
    "        product = words[product_index]\n",
    "\n",
    "        # place values into array\n",
    "        trades_array[index][0] = trade_id\n",
    "        trades_array[index][1] = price\n",
    "        trades_array[index][2] = product\n",
    "\n",
    "        #split on transactions\n",
    "        transactions = trade.split('Creating transactions')[1:]\n",
    "        volume = 0\n",
    "        for trans in transactions:\n",
    "            words =  trans.split(' ')\n",
    "            vol_index = words.index('volume')+1\n",
    "            volume += float(words[vol_index])\n",
    "        # volume = sum([float(trans.split(' ')[trans.split(' ').index('volume')+1]) for trans in transactions])\n",
    "\n",
    "        trades_array[index][3] = volume\n",
    "        index += 1\n",
    "    df = pd.DataFrame(trades_array, columns=trades_array_columns)\n",
    "    df['trade_ID'] = df['trade_ID'].astype(int)\n",
    "    df['price'] = df['price'].astype(float)\n",
    "    df['product'] = df['product'].astype(str)\n",
    "    df['volume'] = df['volume'].astype(float)\n",
    "    return df\n",
    "\n",
    "trades_series_dfs = index_mgmt['text_data'].apply(lambda x: index_mgmt_string_to_df(x))\n",
    "index_mgmt_trades = pd.concat(trades_series_dfs.values.tolist(), ignore_index=True)"
   ]
  },
  {
   "cell_type": "code",
   "execution_count": 131,
   "metadata": {
    "id": "o95de_1ZiuAQ"
   },
   "outputs": [
    {
     "data": {
      "text/html": [
       "<div>\n",
       "<style scoped>\n",
       "    .dataframe tbody tr th:only-of-type {\n",
       "        vertical-align: middle;\n",
       "    }\n",
       "\n",
       "    .dataframe tbody tr th {\n",
       "        vertical-align: top;\n",
       "    }\n",
       "\n",
       "    .dataframe thead th {\n",
       "        text-align: right;\n",
       "    }\n",
       "</style>\n",
       "<table border=\"1\" class=\"dataframe\">\n",
       "  <thead>\n",
       "    <tr style=\"text-align: right;\">\n",
       "      <th></th>\n",
       "      <th>trade_ID</th>\n",
       "      <th>price</th>\n",
       "      <th>product</th>\n",
       "      <th>volume</th>\n",
       "    </tr>\n",
       "  </thead>\n",
       "  <tbody>\n",
       "    <tr>\n",
       "      <th>0</th>\n",
       "      <td>4842452</td>\n",
       "      <td>22.25</td>\n",
       "      <td>ENOYR-21</td>\n",
       "      <td>0.07937</td>\n",
       "    </tr>\n",
       "    <tr>\n",
       "      <th>1</th>\n",
       "      <td>4842453</td>\n",
       "      <td>24.45</td>\n",
       "      <td>ENOYR-22</td>\n",
       "      <td>0.19374</td>\n",
       "    </tr>\n",
       "    <tr>\n",
       "      <th>2</th>\n",
       "      <td>4842454</td>\n",
       "      <td>25.65</td>\n",
       "      <td>ENOYR-23</td>\n",
       "      <td>0.19605</td>\n",
       "    </tr>\n",
       "    <tr>\n",
       "      <th>3</th>\n",
       "      <td>4842455</td>\n",
       "      <td>25.65</td>\n",
       "      <td>ENOYR-23</td>\n",
       "      <td>0.13253</td>\n",
       "    </tr>\n",
       "    <tr>\n",
       "      <th>4</th>\n",
       "      <td>4842456</td>\n",
       "      <td>27.63</td>\n",
       "      <td>ENOYR-24</td>\n",
       "      <td>0.00264</td>\n",
       "    </tr>\n",
       "    <tr>\n",
       "      <th>5</th>\n",
       "      <td>4842457</td>\n",
       "      <td>27.63</td>\n",
       "      <td>ENOYR-24</td>\n",
       "      <td>0.14056</td>\n",
       "    </tr>\n",
       "    <tr>\n",
       "      <th>6</th>\n",
       "      <td>4842458</td>\n",
       "      <td>25.68</td>\n",
       "      <td>NEDEC20</td>\n",
       "      <td>-3.78698</td>\n",
       "    </tr>\n",
       "    <tr>\n",
       "      <th>7</th>\n",
       "      <td>4842459</td>\n",
       "      <td>22.25</td>\n",
       "      <td>ENOFUTBLYR-21</td>\n",
       "      <td>0.16653</td>\n",
       "    </tr>\n",
       "    <tr>\n",
       "      <th>8</th>\n",
       "      <td>4842460</td>\n",
       "      <td>24.45</td>\n",
       "      <td>ENOFUTBLYR-22</td>\n",
       "      <td>0.19303</td>\n",
       "    </tr>\n",
       "    <tr>\n",
       "      <th>9</th>\n",
       "      <td>4842461</td>\n",
       "      <td>2.70</td>\n",
       "      <td>SYSTOFUTBLYR-21</td>\n",
       "      <td>0.00355</td>\n",
       "    </tr>\n",
       "    <tr>\n",
       "      <th>10</th>\n",
       "      <td>4842462</td>\n",
       "      <td>-1.00</td>\n",
       "      <td>SYSUNFUTBLYR-21</td>\n",
       "      <td>0.03475</td>\n",
       "    </tr>\n",
       "    <tr>\n",
       "      <th>11</th>\n",
       "      <td>4842463</td>\n",
       "      <td>20.45</td>\n",
       "      <td>ENOQ4-20</td>\n",
       "      <td>0.09548</td>\n",
       "    </tr>\n",
       "    <tr>\n",
       "      <th>12</th>\n",
       "      <td>4842464</td>\n",
       "      <td>26.55</td>\n",
       "      <td>ENOQ1-21</td>\n",
       "      <td>0.13490</td>\n",
       "    </tr>\n",
       "    <tr>\n",
       "      <th>13</th>\n",
       "      <td>4842465</td>\n",
       "      <td>26.55</td>\n",
       "      <td>ENOQ1-21</td>\n",
       "      <td>0.14859</td>\n",
       "    </tr>\n",
       "    <tr>\n",
       "      <th>14</th>\n",
       "      <td>4842466</td>\n",
       "      <td>18.85</td>\n",
       "      <td>ENOQ2-21</td>\n",
       "      <td>-0.02749</td>\n",
       "    </tr>\n",
       "    <tr>\n",
       "      <th>15</th>\n",
       "      <td>4842467</td>\n",
       "      <td>18.85</td>\n",
       "      <td>ENOQ2-21</td>\n",
       "      <td>0.14458</td>\n",
       "    </tr>\n",
       "    <tr>\n",
       "      <th>16</th>\n",
       "      <td>4842468</td>\n",
       "      <td>17.30</td>\n",
       "      <td>ENOQ3-21</td>\n",
       "      <td>-0.01132</td>\n",
       "    </tr>\n",
       "    <tr>\n",
       "      <th>17</th>\n",
       "      <td>4842469</td>\n",
       "      <td>17.30</td>\n",
       "      <td>ENOQ3-21</td>\n",
       "      <td>0.13253</td>\n",
       "    </tr>\n",
       "    <tr>\n",
       "      <th>18</th>\n",
       "      <td>4842470</td>\n",
       "      <td>26.20</td>\n",
       "      <td>ENOQ4-21</td>\n",
       "      <td>-0.06612</td>\n",
       "    </tr>\n",
       "    <tr>\n",
       "      <th>19</th>\n",
       "      <td>4842471</td>\n",
       "      <td>26.20</td>\n",
       "      <td>ENOQ4-21</td>\n",
       "      <td>0.15261</td>\n",
       "    </tr>\n",
       "    <tr>\n",
       "      <th>20</th>\n",
       "      <td>4842472</td>\n",
       "      <td>30.70</td>\n",
       "      <td>ENOQ1-22</td>\n",
       "      <td>-0.04762</td>\n",
       "    </tr>\n",
       "    <tr>\n",
       "      <th>21</th>\n",
       "      <td>4842473</td>\n",
       "      <td>30.70</td>\n",
       "      <td>ENOQ1-22</td>\n",
       "      <td>0.20080</td>\n",
       "    </tr>\n",
       "    <tr>\n",
       "      <th>22</th>\n",
       "      <td>4842474</td>\n",
       "      <td>20.60</td>\n",
       "      <td>ENOQ2-22</td>\n",
       "      <td>-0.01588</td>\n",
       "    </tr>\n",
       "    <tr>\n",
       "      <th>23</th>\n",
       "      <td>4842475</td>\n",
       "      <td>20.60</td>\n",
       "      <td>ENOQ2-22</td>\n",
       "      <td>0.10843</td>\n",
       "    </tr>\n",
       "    <tr>\n",
       "      <th>24</th>\n",
       "      <td>4842476</td>\n",
       "      <td>18.60</td>\n",
       "      <td>ENOQ3-22</td>\n",
       "      <td>-0.00593</td>\n",
       "    </tr>\n",
       "    <tr>\n",
       "      <th>25</th>\n",
       "      <td>4842477</td>\n",
       "      <td>18.60</td>\n",
       "      <td>ENOQ3-22</td>\n",
       "      <td>0.08032</td>\n",
       "    </tr>\n",
       "    <tr>\n",
       "      <th>26</th>\n",
       "      <td>4842478</td>\n",
       "      <td>28.05</td>\n",
       "      <td>ENOQ4-22</td>\n",
       "      <td>0.16064</td>\n",
       "    </tr>\n",
       "    <tr>\n",
       "      <th>27</th>\n",
       "      <td>4842479</td>\n",
       "      <td>1.00</td>\n",
       "      <td>SYSUNDEC-20</td>\n",
       "      <td>-0.09302</td>\n",
       "    </tr>\n",
       "    <tr>\n",
       "      <th>28</th>\n",
       "      <td>4842480</td>\n",
       "      <td>1.00</td>\n",
       "      <td>SYSUNNOV-20</td>\n",
       "      <td>-0.06980</td>\n",
       "    </tr>\n",
       "    <tr>\n",
       "      <th>29</th>\n",
       "      <td>4842481</td>\n",
       "      <td>2.00</td>\n",
       "      <td>SYSUNOCT-20</td>\n",
       "      <td>0.16279</td>\n",
       "    </tr>\n",
       "    <tr>\n",
       "      <th>...</th>\n",
       "      <td>...</td>\n",
       "      <td>...</td>\n",
       "      <td>...</td>\n",
       "      <td>...</td>\n",
       "    </tr>\n",
       "    <tr>\n",
       "      <th>266</th>\n",
       "      <td>4872157</td>\n",
       "      <td>25.10</td>\n",
       "      <td>ENOQ1-21</td>\n",
       "      <td>0.09079</td>\n",
       "    </tr>\n",
       "    <tr>\n",
       "      <th>267</th>\n",
       "      <td>4872158</td>\n",
       "      <td>25.10</td>\n",
       "      <td>ENOQ1-21</td>\n",
       "      <td>0.14859</td>\n",
       "    </tr>\n",
       "    <tr>\n",
       "      <th>268</th>\n",
       "      <td>4872159</td>\n",
       "      <td>17.85</td>\n",
       "      <td>ENOQ2-21</td>\n",
       "      <td>0.21251</td>\n",
       "    </tr>\n",
       "    <tr>\n",
       "      <th>269</th>\n",
       "      <td>4872160</td>\n",
       "      <td>17.85</td>\n",
       "      <td>ENOQ2-21</td>\n",
       "      <td>0.14458</td>\n",
       "    </tr>\n",
       "    <tr>\n",
       "      <th>270</th>\n",
       "      <td>4872161</td>\n",
       "      <td>16.50</td>\n",
       "      <td>ENOQ3-21</td>\n",
       "      <td>-0.01132</td>\n",
       "    </tr>\n",
       "    <tr>\n",
       "      <th>271</th>\n",
       "      <td>4872162</td>\n",
       "      <td>16.50</td>\n",
       "      <td>ENOQ3-21</td>\n",
       "      <td>0.13253</td>\n",
       "    </tr>\n",
       "    <tr>\n",
       "      <th>272</th>\n",
       "      <td>4872163</td>\n",
       "      <td>25.35</td>\n",
       "      <td>ENOQ4-21</td>\n",
       "      <td>-0.07003</td>\n",
       "    </tr>\n",
       "    <tr>\n",
       "      <th>273</th>\n",
       "      <td>4872164</td>\n",
       "      <td>25.35</td>\n",
       "      <td>ENOQ4-21</td>\n",
       "      <td>0.15261</td>\n",
       "    </tr>\n",
       "    <tr>\n",
       "      <th>274</th>\n",
       "      <td>4872165</td>\n",
       "      <td>29.41</td>\n",
       "      <td>ENOQ1-22</td>\n",
       "      <td>-0.05700</td>\n",
       "    </tr>\n",
       "    <tr>\n",
       "      <th>275</th>\n",
       "      <td>4872166</td>\n",
       "      <td>29.41</td>\n",
       "      <td>ENOQ1-22</td>\n",
       "      <td>0.20080</td>\n",
       "    </tr>\n",
       "    <tr>\n",
       "      <th>276</th>\n",
       "      <td>4872167</td>\n",
       "      <td>19.65</td>\n",
       "      <td>ENOQ2-22</td>\n",
       "      <td>-0.01588</td>\n",
       "    </tr>\n",
       "    <tr>\n",
       "      <th>277</th>\n",
       "      <td>4872168</td>\n",
       "      <td>19.65</td>\n",
       "      <td>ENOQ2-22</td>\n",
       "      <td>0.10843</td>\n",
       "    </tr>\n",
       "    <tr>\n",
       "      <th>278</th>\n",
       "      <td>4872169</td>\n",
       "      <td>18.20</td>\n",
       "      <td>ENOQ3-22</td>\n",
       "      <td>-0.00593</td>\n",
       "    </tr>\n",
       "    <tr>\n",
       "      <th>279</th>\n",
       "      <td>4872170</td>\n",
       "      <td>18.20</td>\n",
       "      <td>ENOQ3-22</td>\n",
       "      <td>0.08032</td>\n",
       "    </tr>\n",
       "    <tr>\n",
       "      <th>280</th>\n",
       "      <td>4872171</td>\n",
       "      <td>27.30</td>\n",
       "      <td>ENOQ4-22</td>\n",
       "      <td>-0.04563</td>\n",
       "    </tr>\n",
       "    <tr>\n",
       "      <th>281</th>\n",
       "      <td>4872172</td>\n",
       "      <td>27.30</td>\n",
       "      <td>ENOQ4-22</td>\n",
       "      <td>0.16064</td>\n",
       "    </tr>\n",
       "    <tr>\n",
       "      <th>282</th>\n",
       "      <td>4872173</td>\n",
       "      <td>-2.00</td>\n",
       "      <td>SYSUNYR-22</td>\n",
       "      <td>-0.02778</td>\n",
       "    </tr>\n",
       "    <tr>\n",
       "      <th>283</th>\n",
       "      <td>4872174</td>\n",
       "      <td>0.00</td>\n",
       "      <td>SYSUNQ1-21</td>\n",
       "      <td>-0.12745</td>\n",
       "    </tr>\n",
       "    <tr>\n",
       "      <th>284</th>\n",
       "      <td>4872175</td>\n",
       "      <td>-0.50</td>\n",
       "      <td>SYSUNQ2-21</td>\n",
       "      <td>-0.02390</td>\n",
       "    </tr>\n",
       "    <tr>\n",
       "      <th>285</th>\n",
       "      <td>4872176</td>\n",
       "      <td>-0.50</td>\n",
       "      <td>SYSUNQ3-21</td>\n",
       "      <td>0.00000</td>\n",
       "    </tr>\n",
       "    <tr>\n",
       "      <th>286</th>\n",
       "      <td>4872177</td>\n",
       "      <td>-0.50</td>\n",
       "      <td>SYSUNQ4-21</td>\n",
       "      <td>-0.08367</td>\n",
       "    </tr>\n",
       "    <tr>\n",
       "      <th>287</th>\n",
       "      <td>4872178</td>\n",
       "      <td>7.88</td>\n",
       "      <td>SYHELFUTBLYR-22</td>\n",
       "      <td>0.05802</td>\n",
       "    </tr>\n",
       "    <tr>\n",
       "      <th>288</th>\n",
       "      <td>4872179</td>\n",
       "      <td>-2.00</td>\n",
       "      <td>SYSUNFUTBLYR-22</td>\n",
       "      <td>0.03027</td>\n",
       "    </tr>\n",
       "    <tr>\n",
       "      <th>289</th>\n",
       "      <td>4872180</td>\n",
       "      <td>-2.00</td>\n",
       "      <td>SYSUNFUTBLYR-22</td>\n",
       "      <td>0.00794</td>\n",
       "    </tr>\n",
       "    <tr>\n",
       "      <th>290</th>\n",
       "      <td>4872181</td>\n",
       "      <td>2.90</td>\n",
       "      <td>SYSTOFUTBLYR-22</td>\n",
       "      <td>0.00310</td>\n",
       "    </tr>\n",
       "    <tr>\n",
       "      <th>291</th>\n",
       "      <td>4872182</td>\n",
       "      <td>2.90</td>\n",
       "      <td>SYSTOFUTBLYR-22</td>\n",
       "      <td>0.07850</td>\n",
       "    </tr>\n",
       "    <tr>\n",
       "      <th>292</th>\n",
       "      <td>4872183</td>\n",
       "      <td>4.35</td>\n",
       "      <td>SYHELFUTBLYR-23</td>\n",
       "      <td>0.03742</td>\n",
       "    </tr>\n",
       "    <tr>\n",
       "      <th>293</th>\n",
       "      <td>4872184</td>\n",
       "      <td>-2.50</td>\n",
       "      <td>SYSUNFUTBLYR-23</td>\n",
       "      <td>0.02952</td>\n",
       "    </tr>\n",
       "    <tr>\n",
       "      <th>294</th>\n",
       "      <td>4872185</td>\n",
       "      <td>2.50</td>\n",
       "      <td>SYSTOFUTBLYR-23</td>\n",
       "      <td>0.00302</td>\n",
       "    </tr>\n",
       "    <tr>\n",
       "      <th>295</th>\n",
       "      <td>4872186</td>\n",
       "      <td>2.50</td>\n",
       "      <td>SYSTOFUTBLYR-23</td>\n",
       "      <td>0.04989</td>\n",
       "    </tr>\n",
       "  </tbody>\n",
       "</table>\n",
       "<p>296 rows × 4 columns</p>\n",
       "</div>"
      ],
      "text/plain": [
       "     trade_ID  price          product   volume\n",
       "0     4842452  22.25         ENOYR-21  0.07937\n",
       "1     4842453  24.45         ENOYR-22  0.19374\n",
       "2     4842454  25.65         ENOYR-23  0.19605\n",
       "3     4842455  25.65         ENOYR-23  0.13253\n",
       "4     4842456  27.63         ENOYR-24  0.00264\n",
       "5     4842457  27.63         ENOYR-24  0.14056\n",
       "6     4842458  25.68          NEDEC20 -3.78698\n",
       "7     4842459  22.25    ENOFUTBLYR-21  0.16653\n",
       "8     4842460  24.45    ENOFUTBLYR-22  0.19303\n",
       "9     4842461   2.70  SYSTOFUTBLYR-21  0.00355\n",
       "10    4842462  -1.00  SYSUNFUTBLYR-21  0.03475\n",
       "11    4842463  20.45         ENOQ4-20  0.09548\n",
       "12    4842464  26.55         ENOQ1-21  0.13490\n",
       "13    4842465  26.55         ENOQ1-21  0.14859\n",
       "14    4842466  18.85         ENOQ2-21 -0.02749\n",
       "15    4842467  18.85         ENOQ2-21  0.14458\n",
       "16    4842468  17.30         ENOQ3-21 -0.01132\n",
       "17    4842469  17.30         ENOQ3-21  0.13253\n",
       "18    4842470  26.20         ENOQ4-21 -0.06612\n",
       "19    4842471  26.20         ENOQ4-21  0.15261\n",
       "20    4842472  30.70         ENOQ1-22 -0.04762\n",
       "21    4842473  30.70         ENOQ1-22  0.20080\n",
       "22    4842474  20.60         ENOQ2-22 -0.01588\n",
       "23    4842475  20.60         ENOQ2-22  0.10843\n",
       "24    4842476  18.60         ENOQ3-22 -0.00593\n",
       "25    4842477  18.60         ENOQ3-22  0.08032\n",
       "26    4842478  28.05         ENOQ4-22  0.16064\n",
       "27    4842479   1.00      SYSUNDEC-20 -0.09302\n",
       "28    4842480   1.00      SYSUNNOV-20 -0.06980\n",
       "29    4842481   2.00      SYSUNOCT-20  0.16279\n",
       "..        ...    ...              ...      ...\n",
       "266   4872157  25.10         ENOQ1-21  0.09079\n",
       "267   4872158  25.10         ENOQ1-21  0.14859\n",
       "268   4872159  17.85         ENOQ2-21  0.21251\n",
       "269   4872160  17.85         ENOQ2-21  0.14458\n",
       "270   4872161  16.50         ENOQ3-21 -0.01132\n",
       "271   4872162  16.50         ENOQ3-21  0.13253\n",
       "272   4872163  25.35         ENOQ4-21 -0.07003\n",
       "273   4872164  25.35         ENOQ4-21  0.15261\n",
       "274   4872165  29.41         ENOQ1-22 -0.05700\n",
       "275   4872166  29.41         ENOQ1-22  0.20080\n",
       "276   4872167  19.65         ENOQ2-22 -0.01588\n",
       "277   4872168  19.65         ENOQ2-22  0.10843\n",
       "278   4872169  18.20         ENOQ3-22 -0.00593\n",
       "279   4872170  18.20         ENOQ3-22  0.08032\n",
       "280   4872171  27.30         ENOQ4-22 -0.04563\n",
       "281   4872172  27.30         ENOQ4-22  0.16064\n",
       "282   4872173  -2.00       SYSUNYR-22 -0.02778\n",
       "283   4872174   0.00       SYSUNQ1-21 -0.12745\n",
       "284   4872175  -0.50       SYSUNQ2-21 -0.02390\n",
       "285   4872176  -0.50       SYSUNQ3-21  0.00000\n",
       "286   4872177  -0.50       SYSUNQ4-21 -0.08367\n",
       "287   4872178   7.88  SYHELFUTBLYR-22  0.05802\n",
       "288   4872179  -2.00  SYSUNFUTBLYR-22  0.03027\n",
       "289   4872180  -2.00  SYSUNFUTBLYR-22  0.00794\n",
       "290   4872181   2.90  SYSTOFUTBLYR-22  0.00310\n",
       "291   4872182   2.90  SYSTOFUTBLYR-22  0.07850\n",
       "292   4872183   4.35  SYHELFUTBLYR-23  0.03742\n",
       "293   4872184  -2.50  SYSUNFUTBLYR-23  0.02952\n",
       "294   4872185   2.50  SYSTOFUTBLYR-23  0.00302\n",
       "295   4872186   2.50  SYSTOFUTBLYR-23  0.04989\n",
       "\n",
       "[296 rows x 4 columns]"
      ]
     },
     "execution_count": 131,
     "metadata": {},
     "output_type": "execute_result"
    }
   ],
   "source": [
    "index_mgmt_trades"
   ]
  },
  {
   "cell_type": "code",
   "execution_count": 173,
   "metadata": {
    "id": "w6UlVd72xZaE"
   },
   "outputs": [
    {
     "data": {
      "image/png": "[encoded data removed]",
      "text/plain": [
       "<Figure size 432x288 with 1 Axes>"
      ]
     },
     "metadata": {
      "needs_background": "light"
     },
     "output_type": "display_data"
    }
   ],
   "source": [
    "sns.scatterplot(x='product', y='price', hue='product', data=index_mgmt_trades);"
   ]
  },
  {
   "cell_type": "markdown",
   "metadata": {
    "id": "LOIp1b4fVLlt"
   },
   "source": [
    "## Wind Power Import"
   ]
  },
  {
   "cell_type": "code",
   "execution_count": 133,
   "metadata": {
    "id": "OxyYakyThF4_"
   },
   "outputs": [],
   "source": [
    "# Note, small DF\n",
    "wind_power_import = df[df['log_application'] == 'Wind Power Import']\n",
    "wind_power_import_date_text = wind_power_import[['log_date', 'text_data']]"
   ]
  },
  {
   "cell_type": "code",
   "execution_count": 135,
   "metadata": {
    "id": "bomclaSn4jZx"
   },
   "outputs": [
    {
     "data": {
      "text/html": [
       "<div>\n",
       "<style scoped>\n",
       "    .dataframe tbody tr th:only-of-type {\n",
       "        vertical-align: middle;\n",
       "    }\n",
       "\n",
       "    .dataframe tbody tr th {\n",
       "        vertical-align: top;\n",
       "    }\n",
       "\n",
       "    .dataframe thead th {\n",
       "        text-align: right;\n",
       "    }\n",
       "</style>\n",
       "<table border=\"1\" class=\"dataframe\">\n",
       "  <thead>\n",
       "    <tr style=\"text-align: right;\">\n",
       "      <th></th>\n",
       "      <th>log_id</th>\n",
       "      <th>log_date</th>\n",
       "      <th>log_application</th>\n",
       "      <th>lvl_id</th>\n",
       "      <th>log_attlen</th>\n",
       "      <th>log_text</th>\n",
       "      <th>log_data</th>\n",
       "      <th>text_data</th>\n",
       "    </tr>\n",
       "  </thead>\n",
       "  <tbody>\n",
       "    <tr>\n",
       "      <th>108</th>\n",
       "      <td>16395522</td>\n",
       "      <td>2020-08-01 01:45:52.437</td>\n",
       "      <td>Wind Power Import</td>\n",
       "      <td>3</td>\n",
       "      <td>4630.0</td>\n",
       "      <td>Running import from API to Powel</td>\n",
       "      <td>0x4665746368696E6720646174612066726F6D20417069...</td>\n",
       "      <td>Fetching data from Api. Fetching data for Blei...</td>\n",
       "    </tr>\n",
       "    <tr>\n",
       "      <th>745</th>\n",
       "      <td>16494688</td>\n",
       "      <td>2020-08-09 06:00:48.077</td>\n",
       "      <td>Wind Power Import</td>\n",
       "      <td>3</td>\n",
       "      <td>4656.0</td>\n",
       "      <td>Running import from API to Powel</td>\n",
       "      <td>0x4665746368696E6720646174612066726F6D20417069...</td>\n",
       "      <td>Fetching data from Api. Fetching data for Blei...</td>\n",
       "    </tr>\n",
       "    <tr>\n",
       "      <th>5764</th>\n",
       "      <td>16561731</td>\n",
       "      <td>2020-08-14 09:50:50.320</td>\n",
       "      <td>Wind Power Import</td>\n",
       "      <td>3</td>\n",
       "      <td>4640.0</td>\n",
       "      <td>Running import from API to Powel</td>\n",
       "      <td>0x4665746368696E6720646174612066726F6D20417069...</td>\n",
       "      <td>Fetching data from Api. Fetching data for Blei...</td>\n",
       "    </tr>\n",
       "    <tr>\n",
       "      <th>8969</th>\n",
       "      <td>16561784</td>\n",
       "      <td>2020-08-14 09:56:00.307</td>\n",
       "      <td>Wind Power Import</td>\n",
       "      <td>3</td>\n",
       "      <td>4647.0</td>\n",
       "      <td>Running import from API to Powel</td>\n",
       "      <td>0x4665746368696E6720646174612066726F6D20417069...</td>\n",
       "      <td>Fetching data from Api. Fetching data for Blei...</td>\n",
       "    </tr>\n",
       "    <tr>\n",
       "      <th>7661</th>\n",
       "      <td>16580856</td>\n",
       "      <td>2020-08-15 12:30:49.180</td>\n",
       "      <td>Wind Power Import</td>\n",
       "      <td>3</td>\n",
       "      <td>4677.0</td>\n",
       "      <td>Running import from API to Powel</td>\n",
       "      <td>0x4665746368696E6720646174612066726F6D20417069...</td>\n",
       "      <td>Fetching data from Api. Fetching data for Blei...</td>\n",
       "    </tr>\n",
       "  </tbody>\n",
       "</table>\n",
       "</div>"
      ],
      "text/plain": [
       "        log_id                log_date    log_application  lvl_id  log_attlen  \\\n",
       "108   16395522 2020-08-01 01:45:52.437  Wind Power Import       3      4630.0   \n",
       "745   16494688 2020-08-09 06:00:48.077  Wind Power Import       3      4656.0   \n",
       "5764  16561731 2020-08-14 09:50:50.320  Wind Power Import       3      4640.0   \n",
       "8969  16561784 2020-08-14 09:56:00.307  Wind Power Import       3      4647.0   \n",
       "7661  16580856 2020-08-15 12:30:49.180  Wind Power Import       3      4677.0   \n",
       "\n",
       "                              log_text  \\\n",
       "108   Running import from API to Powel   \n",
       "745   Running import from API to Powel   \n",
       "5764  Running import from API to Powel   \n",
       "8969  Running import from API to Powel   \n",
       "7661  Running import from API to Powel   \n",
       "\n",
       "                                               log_data  \\\n",
       "108   0x4665746368696E6720646174612066726F6D20417069...   \n",
       "745   0x4665746368696E6720646174612066726F6D20417069...   \n",
       "5764  0x4665746368696E6720646174612066726F6D20417069...   \n",
       "8969  0x4665746368696E6720646174612066726F6D20417069...   \n",
       "7661  0x4665746368696E6720646174612066726F6D20417069...   \n",
       "\n",
       "                                              text_data  \n",
       "108   Fetching data from Api. Fetching data for Blei...  \n",
       "745   Fetching data from Api. Fetching data for Blei...  \n",
       "5764  Fetching data from Api. Fetching data for Blei...  \n",
       "8969  Fetching data from Api. Fetching data for Blei...  \n",
       "7661  Fetching data from Api. Fetching data for Blei...  "
      ]
     },
     "execution_count": 135,
     "metadata": {},
     "output_type": "execute_result"
    }
   ],
   "source": [
    "wind_power_import.head()"
   ]
  },
  {
   "cell_type": "code",
   "execution_count": 136,
   "metadata": {
    "id": "A7wnURTj5I0o"
   },
   "outputs": [],
   "source": [
    "def wind_park_df_structure_and_names():\n",
    "    \"\"\"\n",
    "    Defines names of wind parks to be stored in wind_power_str_to_df function, as well as the dataframe columns\n",
    "    \"\"\"\n",
    "    park_names = [\"Bleikevare\",\"Brahehus\",\"Granberg\",\"Hedboberget\",\"Roebergsfjaellet\",\"Saelitraedberget\",\"Hedboberget 2\",\"Kulltorp\",\"Hällevadsholm\",\"Håkantorp 2\",\"Kvantenburg 2\"]\n",
    "    df = pd.DataFrame(park_names, columns = ['wind_park'], dtype='str')\n",
    "    df['production'] = np.nan\n",
    "    df['wind_speed'] = np.nan\n",
    "    df['temperature'] = np.nan\n",
    "    df['date'] = np.nan\n",
    "    return df\n",
    "\n",
    "\n",
    "\n",
    "def wind_power_str_to_df(row):\n",
    "    \"\"\"\n",
    "    Takes the wind power string data and converts it to a dataframe with wind, temperature, and production information about each wind park\n",
    "    \"\"\"\n",
    "    date, row_string = row\n",
    "    df = wind_park_df_structure_and_names()\n",
    "    df['date'] = date\n",
    "    all_data_string = row_string.split('Saving data to Powel. ')[1]\n",
    "    park_data_list = all_data_string.split('The wind park ')[1:]\n",
    "    for park_data in park_data_list:\n",
    "        words = park_data.split(' ')\n",
    "        \n",
    "        # Extract park_name with possibility of it being \"Park\" and \"Park 2\"\n",
    "        if words[1].isdigit():\n",
    "            park_name = words[0] + \" \" + words[1]\n",
    "            padding = 1\n",
    "        else: \n",
    "            park_name = words[0]\n",
    "            padding = 0\n",
    "            \n",
    "        # Check for type of data: production, wind, temperature, or if it has no value\n",
    "        data_type  = words[1 + padding] + words[2 + padding]\n",
    "        data_type_to_set = \"\"\n",
    "        \n",
    "        # Select the column in the dataframe to add the value to \n",
    "        if \"producing\" in data_type:\n",
    "            data_type_to_set = 'production'\n",
    "            \n",
    "        elif \"wind\" in data_type:\n",
    "            data_type_to_set = 'wind_speed'\n",
    "            \n",
    "        elif \"temperature\" in data_type:\n",
    "            data_type_to_set = 'temperature'\n",
    "            \n",
    "        elif \"hasno\" in data_type:\n",
    "            data_type_to_set = 'skip'\n",
    "            \n",
    "        if data_type_to_set != \"skip\":\n",
    "            value = words[3 + padding] # Value is always on index 3 if the park_name is one word\n",
    "            df.loc[df[\"wind_park\"] == park_name, data_type_to_set] = value\n",
    "    \n",
    "    df['production'] = df['production'].astype('str').apply(lambda x: x.replace('.', '').replace(',', '.')).astype('float')\n",
    "    df['wind_speed'] = df['wind_speed'].astype('str').apply(lambda x: x.replace(',', '.')).astype('float')\n",
    "    df.loc[df['temperature'] == 'N/A', 'temperature'] = np.nan\n",
    "    df['temperature'] = df['temperature'].astype('str').apply(lambda x: x.replace(',', '.')).astype('float')\n",
    "    df['date'] = pd.to_datetime(df['date'])\n",
    "    return df\n",
    "series = wind_power_import[['log_date', 'text_data']].apply(wind_power_str_to_df, axis=1)\n",
    "wind_park_data = pd.concat(series.values.tolist(), ignore_index=True)"
   ]
  },
  {
   "cell_type": "code",
   "execution_count": 179,
   "metadata": {
    "id": "3PDoB5LF9KIY"
   },
   "outputs": [
    {
     "data": {
      "text/html": [
       "<div>\n",
       "<style scoped>\n",
       "    .dataframe tbody tr th:only-of-type {\n",
       "        vertical-align: middle;\n",
       "    }\n",
       "\n",
       "    .dataframe tbody tr th {\n",
       "        vertical-align: top;\n",
       "    }\n",
       "\n",
       "    .dataframe thead th {\n",
       "        text-align: right;\n",
       "    }\n",
       "</style>\n",
       "<table border=\"1\" class=\"dataframe\">\n",
       "  <thead>\n",
       "    <tr style=\"text-align: right;\">\n",
       "      <th></th>\n",
       "      <th>wind_park</th>\n",
       "      <th>production</th>\n",
       "      <th>wind_speed</th>\n",
       "      <th>temperature</th>\n",
       "      <th>date</th>\n",
       "    </tr>\n",
       "  </thead>\n",
       "  <tbody>\n",
       "    <tr>\n",
       "      <th>0</th>\n",
       "      <td>Bleikevare</td>\n",
       "      <td>0.000</td>\n",
       "      <td>1.607143</td>\n",
       "      <td>17.142857</td>\n",
       "      <td>2020-08-01 01:45:52.437</td>\n",
       "    </tr>\n",
       "    <tr>\n",
       "      <th>1</th>\n",
       "      <td>Brahehus</td>\n",
       "      <td>0.000</td>\n",
       "      <td>3.395121</td>\n",
       "      <td>18.056423</td>\n",
       "      <td>2020-08-01 01:45:52.437</td>\n",
       "    </tr>\n",
       "    <tr>\n",
       "      <th>2</th>\n",
       "      <td>Granberg</td>\n",
       "      <td>0.000</td>\n",
       "      <td>2.360000</td>\n",
       "      <td>17.600000</td>\n",
       "      <td>2020-08-01 01:45:52.437</td>\n",
       "    </tr>\n",
       "    <tr>\n",
       "      <th>3</th>\n",
       "      <td>Hedboberget</td>\n",
       "      <td>0.321</td>\n",
       "      <td>3.740000</td>\n",
       "      <td>18.800000</td>\n",
       "      <td>2020-08-01 01:45:52.437</td>\n",
       "    </tr>\n",
       "    <tr>\n",
       "      <th>4</th>\n",
       "      <td>Roebergsfjaellet</td>\n",
       "      <td>0.000</td>\n",
       "      <td>2.125000</td>\n",
       "      <td>18.375000</td>\n",
       "      <td>2020-08-01 01:45:52.437</td>\n",
       "    </tr>\n",
       "  </tbody>\n",
       "</table>\n",
       "</div>"
      ],
      "text/plain": [
       "          wind_park  production  wind_speed  temperature  \\\n",
       "0        Bleikevare       0.000    1.607143    17.142857   \n",
       "1          Brahehus       0.000    3.395121    18.056423   \n",
       "2          Granberg       0.000    2.360000    17.600000   \n",
       "3       Hedboberget       0.321    3.740000    18.800000   \n",
       "4  Roebergsfjaellet       0.000    2.125000    18.375000   \n",
       "\n",
       "                     date  \n",
       "0 2020-08-01 01:45:52.437  \n",
       "1 2020-08-01 01:45:52.437  \n",
       "2 2020-08-01 01:45:52.437  \n",
       "3 2020-08-01 01:45:52.437  \n",
       "4 2020-08-01 01:45:52.437  "
      ]
     },
     "execution_count": 179,
     "metadata": {},
     "output_type": "execute_result"
    }
   ],
   "source": [
    "wind_park_data.head()"
   ]
  },
  {
   "cell_type": "code",
   "execution_count": 180,
   "metadata": {},
   "outputs": [
    {
     "data": {
      "text/plain": [
       "(2431, 5)"
      ]
     },
     "execution_count": 180,
     "metadata": {},
     "output_type": "execute_result"
    }
   ],
   "source": [
    "wind_park_data.shape"
   ]
  },
  {
   "cell_type": "markdown",
   "metadata": {},
   "source": [
    "Adding Day column to wind_park_data"
   ]
  },
  {
   "cell_type": "code",
   "execution_count": 206,
   "metadata": {},
   "outputs": [],
   "source": [
    "# Note: datetime -> string\n",
    "wind_park_data['date'] = wind_park_data['date'].astype(str)\n",
    "\n",
    "wind_park_day = pd.DataFrame(columns=['day'])\n",
    "for row in wind_park_data['date']:\n",
    "    wind_park_day = wind_park_day.append({'day': row[0:10]}, ignore_index=True)\n",
    "wind_park_merged = pd.concat([wind_park_data, wind_park_day], axis=1)"
   ]
  },
  {
   "cell_type": "code",
   "execution_count": 207,
   "metadata": {},
   "outputs": [
    {
     "data": {
      "text/html": [
       "<div>\n",
       "<style scoped>\n",
       "    .dataframe tbody tr th:only-of-type {\n",
       "        vertical-align: middle;\n",
       "    }\n",
       "\n",
       "    .dataframe tbody tr th {\n",
       "        vertical-align: top;\n",
       "    }\n",
       "\n",
       "    .dataframe thead th {\n",
       "        text-align: right;\n",
       "    }\n",
       "</style>\n",
       "<table border=\"1\" class=\"dataframe\">\n",
       "  <thead>\n",
       "    <tr style=\"text-align: right;\">\n",
       "      <th></th>\n",
       "      <th>wind_park</th>\n",
       "      <th>production</th>\n",
       "      <th>wind_speed</th>\n",
       "      <th>temperature</th>\n",
       "      <th>date</th>\n",
       "      <th>day</th>\n",
       "    </tr>\n",
       "  </thead>\n",
       "  <tbody>\n",
       "    <tr>\n",
       "      <th>0</th>\n",
       "      <td>Bleikevare</td>\n",
       "      <td>0.000</td>\n",
       "      <td>1.607143</td>\n",
       "      <td>17.142857</td>\n",
       "      <td>2020-08-01 01:45:52.437</td>\n",
       "      <td>2020-08-01</td>\n",
       "    </tr>\n",
       "    <tr>\n",
       "      <th>1</th>\n",
       "      <td>Brahehus</td>\n",
       "      <td>0.000</td>\n",
       "      <td>3.395121</td>\n",
       "      <td>18.056423</td>\n",
       "      <td>2020-08-01 01:45:52.437</td>\n",
       "      <td>2020-08-01</td>\n",
       "    </tr>\n",
       "    <tr>\n",
       "      <th>2</th>\n",
       "      <td>Granberg</td>\n",
       "      <td>0.000</td>\n",
       "      <td>2.360000</td>\n",
       "      <td>17.600000</td>\n",
       "      <td>2020-08-01 01:45:52.437</td>\n",
       "      <td>2020-08-01</td>\n",
       "    </tr>\n",
       "    <tr>\n",
       "      <th>3</th>\n",
       "      <td>Hedboberget</td>\n",
       "      <td>0.321</td>\n",
       "      <td>3.740000</td>\n",
       "      <td>18.800000</td>\n",
       "      <td>2020-08-01 01:45:52.437</td>\n",
       "      <td>2020-08-01</td>\n",
       "    </tr>\n",
       "    <tr>\n",
       "      <th>4</th>\n",
       "      <td>Roebergsfjaellet</td>\n",
       "      <td>0.000</td>\n",
       "      <td>2.125000</td>\n",
       "      <td>18.375000</td>\n",
       "      <td>2020-08-01 01:45:52.437</td>\n",
       "      <td>2020-08-01</td>\n",
       "    </tr>\n",
       "  </tbody>\n",
       "</table>\n",
       "</div>"
      ],
      "text/plain": [
       "          wind_park  production  wind_speed  temperature  \\\n",
       "0        Bleikevare       0.000    1.607143    17.142857   \n",
       "1          Brahehus       0.000    3.395121    18.056423   \n",
       "2          Granberg       0.000    2.360000    17.600000   \n",
       "3       Hedboberget       0.321    3.740000    18.800000   \n",
       "4  Roebergsfjaellet       0.000    2.125000    18.375000   \n",
       "\n",
       "                      date         day  \n",
       "0  2020-08-01 01:45:52.437  2020-08-01  \n",
       "1  2020-08-01 01:45:52.437  2020-08-01  \n",
       "2  2020-08-01 01:45:52.437  2020-08-01  \n",
       "3  2020-08-01 01:45:52.437  2020-08-01  \n",
       "4  2020-08-01 01:45:52.437  2020-08-01  "
      ]
     },
     "execution_count": 207,
     "metadata": {},
     "output_type": "execute_result"
    }
   ],
   "source": [
    "wind_park_merged.head()"
   ]
  },
  {
   "cell_type": "code",
   "execution_count": 200,
   "metadata": {
    "id": "CV52E7pTqT3H"
   },
   "outputs": [
    {
     "data": {
      "image/png": "[encoded data removed]",
      "text/plain": [
       "<Figure size 432x288 with 1 Axes>"
      ]
     },
     "metadata": {
      "needs_background": "light"
     },
     "output_type": "display_data"
    }
   ],
   "source": [
    "sns.scatterplot(x='wind_speed', y='production', hue='wind_park', data=wind_park_data);"
   ]
  },
  {
   "cell_type": "code",
   "execution_count": 212,
   "metadata": {},
   "outputs": [
    {
     "data": {
      "image/png": "[encoded data removed]",
      "text/plain": [
       "<Figure size 432x288 with 1 Axes>"
      ]
     },
     "metadata": {
      "needs_background": "light"
     },
     "output_type": "display_data"
    }
   ],
   "source": [
    "sns.scatterplot(x='wind_speed', y='production', hue='day', data=wind_park_merged);"
   ]
  },
  {
   "cell_type": "markdown",
   "metadata": {
    "id": "XqlhmTQ8xOWe"
   },
   "source": [
    "# Merging dataframes"
   ]
  },
  {
   "cell_type": "code",
   "execution_count": 139,
   "metadata": {
    "id": "VGqWFSm7jxl-"
   },
   "outputs": [
    {
     "name": "stderr",
     "output_type": "stream",
     "text": [
      "C:\\ProgramData\\Anaconda3\\lib\\site-packages\\ipykernel_launcher.py:2: SettingWithCopyWarning: \n",
      "A value is trying to be set on a copy of a slice from a DataFrame.\n",
      "Try using .loc[row_indexer,col_indexer] = value instead\n",
      "\n",
      "See the caveats in the documentation: http://pandas.pydata.org/pandas-docs/stable/indexing.html#indexing-view-versus-copy\n",
      "  \n"
     ]
    }
   ],
   "source": [
    "rocky_merge = rockyll_trade_id[['pro_ID', 'trade_Date', 'trade_ID', 'trade_Price']]\n",
    "rocky_merge['trade_ID'] = rocky_merge['trade_ID'].astype(int)"
   ]
  },
  {
   "cell_type": "code",
   "execution_count": 213,
   "metadata": {
    "id": "y_P_mv7Kltt-"
   },
   "outputs": [
    {
     "data": {
      "text/html": [
       "<div>\n",
       "<style scoped>\n",
       "    .dataframe tbody tr th:only-of-type {\n",
       "        vertical-align: middle;\n",
       "    }\n",
       "\n",
       "    .dataframe tbody tr th {\n",
       "        vertical-align: top;\n",
       "    }\n",
       "\n",
       "    .dataframe thead th {\n",
       "        text-align: right;\n",
       "    }\n",
       "</style>\n",
       "<table border=\"1\" class=\"dataframe\">\n",
       "  <thead>\n",
       "    <tr style=\"text-align: right;\">\n",
       "      <th></th>\n",
       "      <th>pro_ID</th>\n",
       "      <th>trade_Date</th>\n",
       "      <th>trade_ID</th>\n",
       "      <th>trade_Price</th>\n",
       "    </tr>\n",
       "  </thead>\n",
       "  <tbody>\n",
       "    <tr>\n",
       "      <th>0</th>\n",
       "      <td>1620627</td>\n",
       "      <td>11.08.2020 09:50:58</td>\n",
       "      <td>4837585</td>\n",
       "      <td>23,8</td>\n",
       "    </tr>\n",
       "    <tr>\n",
       "      <th>1</th>\n",
       "      <td>1053282</td>\n",
       "      <td>11.08.2020 10:06:17</td>\n",
       "      <td>4837586</td>\n",
       "      <td>23,8</td>\n",
       "    </tr>\n",
       "    <tr>\n",
       "      <th>2</th>\n",
       "      <td>2023205</td>\n",
       "      <td>12.08.2020 09:37:34</td>\n",
       "      <td>4837982</td>\n",
       "      <td>-1</td>\n",
       "    </tr>\n",
       "    <tr>\n",
       "      <th>3</th>\n",
       "      <td>2301718</td>\n",
       "      <td>12.08.2020 09:41:10</td>\n",
       "      <td>4837983</td>\n",
       "      <td>-2,3</td>\n",
       "    </tr>\n",
       "    <tr>\n",
       "      <th>4</th>\n",
       "      <td>2301718</td>\n",
       "      <td>12.08.2020 09:47:02</td>\n",
       "      <td>4837984</td>\n",
       "      <td>-2,3</td>\n",
       "    </tr>\n",
       "  </tbody>\n",
       "</table>\n",
       "</div>"
      ],
      "text/plain": [
       "    pro_ID           trade_Date  trade_ID trade_Price\n",
       "0  1620627  11.08.2020 09:50:58   4837585        23,8\n",
       "1  1053282  11.08.2020 10:06:17   4837586        23,8\n",
       "2  2023205  12.08.2020 09:37:34   4837982          -1\n",
       "3  2301718  12.08.2020 09:41:10   4837983        -2,3\n",
       "4  2301718  12.08.2020 09:47:02   4837984        -2,3"
      ]
     },
     "execution_count": 213,
     "metadata": {},
     "output_type": "execute_result"
    }
   ],
   "source": [
    "rocky_merge.head()"
   ]
  },
  {
   "cell_type": "code",
   "execution_count": null,
   "metadata": {
    "id": "gDbzyx0MpFMj"
   },
   "outputs": [],
   "source": [
    "rocky_merge['pro_ID'].value_counts()"
   ]
  },
  {
   "cell_type": "code",
   "execution_count": 214,
   "metadata": {
    "id": "JQgrqJ0hornK"
   },
   "outputs": [
    {
     "data": {
      "text/html": [
       "<div>\n",
       "<style scoped>\n",
       "    .dataframe tbody tr th:only-of-type {\n",
       "        vertical-align: middle;\n",
       "    }\n",
       "\n",
       "    .dataframe tbody tr th {\n",
       "        vertical-align: top;\n",
       "    }\n",
       "\n",
       "    .dataframe thead th {\n",
       "        text-align: right;\n",
       "    }\n",
       "</style>\n",
       "<table border=\"1\" class=\"dataframe\">\n",
       "  <thead>\n",
       "    <tr style=\"text-align: right;\">\n",
       "      <th></th>\n",
       "      <th>wind_park</th>\n",
       "      <th>production</th>\n",
       "      <th>wind_speed</th>\n",
       "      <th>temperature</th>\n",
       "      <th>date</th>\n",
       "    </tr>\n",
       "  </thead>\n",
       "  <tbody>\n",
       "    <tr>\n",
       "      <th>0</th>\n",
       "      <td>Bleikevare</td>\n",
       "      <td>0.000</td>\n",
       "      <td>1.607143</td>\n",
       "      <td>17.142857</td>\n",
       "      <td>2020-08-01 01:45:52.437</td>\n",
       "    </tr>\n",
       "    <tr>\n",
       "      <th>1</th>\n",
       "      <td>Brahehus</td>\n",
       "      <td>0.000</td>\n",
       "      <td>3.395121</td>\n",
       "      <td>18.056423</td>\n",
       "      <td>2020-08-01 01:45:52.437</td>\n",
       "    </tr>\n",
       "    <tr>\n",
       "      <th>2</th>\n",
       "      <td>Granberg</td>\n",
       "      <td>0.000</td>\n",
       "      <td>2.360000</td>\n",
       "      <td>17.600000</td>\n",
       "      <td>2020-08-01 01:45:52.437</td>\n",
       "    </tr>\n",
       "    <tr>\n",
       "      <th>3</th>\n",
       "      <td>Hedboberget</td>\n",
       "      <td>0.321</td>\n",
       "      <td>3.740000</td>\n",
       "      <td>18.800000</td>\n",
       "      <td>2020-08-01 01:45:52.437</td>\n",
       "    </tr>\n",
       "    <tr>\n",
       "      <th>4</th>\n",
       "      <td>Roebergsfjaellet</td>\n",
       "      <td>0.000</td>\n",
       "      <td>2.125000</td>\n",
       "      <td>18.375000</td>\n",
       "      <td>2020-08-01 01:45:52.437</td>\n",
       "    </tr>\n",
       "  </tbody>\n",
       "</table>\n",
       "</div>"
      ],
      "text/plain": [
       "          wind_park  production  wind_speed  temperature  \\\n",
       "0        Bleikevare       0.000    1.607143    17.142857   \n",
       "1          Brahehus       0.000    3.395121    18.056423   \n",
       "2          Granberg       0.000    2.360000    17.600000   \n",
       "3       Hedboberget       0.321    3.740000    18.800000   \n",
       "4  Roebergsfjaellet       0.000    2.125000    18.375000   \n",
       "\n",
       "                      date  \n",
       "0  2020-08-01 01:45:52.437  \n",
       "1  2020-08-01 01:45:52.437  \n",
       "2  2020-08-01 01:45:52.437  \n",
       "3  2020-08-01 01:45:52.437  \n",
       "4  2020-08-01 01:45:52.437  "
      ]
     },
     "execution_count": 214,
     "metadata": {},
     "output_type": "execute_result"
    }
   ],
   "source": [
    "wind_park_data.head()"
   ]
  },
  {
   "cell_type": "code",
   "execution_count": 215,
   "metadata": {
    "id": "EBRKqkwGlzFF"
   },
   "outputs": [
    {
     "data": {
      "text/html": [
       "<div>\n",
       "<style scoped>\n",
       "    .dataframe tbody tr th:only-of-type {\n",
       "        vertical-align: middle;\n",
       "    }\n",
       "\n",
       "    .dataframe tbody tr th {\n",
       "        vertical-align: top;\n",
       "    }\n",
       "\n",
       "    .dataframe thead th {\n",
       "        text-align: right;\n",
       "    }\n",
       "</style>\n",
       "<table border=\"1\" class=\"dataframe\">\n",
       "  <thead>\n",
       "    <tr style=\"text-align: right;\">\n",
       "      <th></th>\n",
       "      <th>trade_ID</th>\n",
       "      <th>price</th>\n",
       "      <th>product</th>\n",
       "      <th>volume</th>\n",
       "    </tr>\n",
       "  </thead>\n",
       "  <tbody>\n",
       "    <tr>\n",
       "      <th>0</th>\n",
       "      <td>4842452</td>\n",
       "      <td>22.25</td>\n",
       "      <td>ENOYR-21</td>\n",
       "      <td>0.07937</td>\n",
       "    </tr>\n",
       "    <tr>\n",
       "      <th>1</th>\n",
       "      <td>4842453</td>\n",
       "      <td>24.45</td>\n",
       "      <td>ENOYR-22</td>\n",
       "      <td>0.19374</td>\n",
       "    </tr>\n",
       "    <tr>\n",
       "      <th>2</th>\n",
       "      <td>4842454</td>\n",
       "      <td>25.65</td>\n",
       "      <td>ENOYR-23</td>\n",
       "      <td>0.19605</td>\n",
       "    </tr>\n",
       "    <tr>\n",
       "      <th>3</th>\n",
       "      <td>4842455</td>\n",
       "      <td>25.65</td>\n",
       "      <td>ENOYR-23</td>\n",
       "      <td>0.13253</td>\n",
       "    </tr>\n",
       "    <tr>\n",
       "      <th>4</th>\n",
       "      <td>4842456</td>\n",
       "      <td>27.63</td>\n",
       "      <td>ENOYR-24</td>\n",
       "      <td>0.00264</td>\n",
       "    </tr>\n",
       "  </tbody>\n",
       "</table>\n",
       "</div>"
      ],
      "text/plain": [
       "   trade_ID  price   product   volume\n",
       "0   4842452  22.25  ENOYR-21  0.07937\n",
       "1   4842453  24.45  ENOYR-22  0.19374\n",
       "2   4842454  25.65  ENOYR-23  0.19605\n",
       "3   4842455  25.65  ENOYR-23  0.13253\n",
       "4   4842456  27.63  ENOYR-24  0.00264"
      ]
     },
     "execution_count": 215,
     "metadata": {},
     "output_type": "execute_result"
    }
   ],
   "source": [
    "index_mgmt_trades.head()"
   ]
  },
  {
   "cell_type": "code",
   "execution_count": null,
   "metadata": {
    "id": "v-ev9KXAl_-I"
   },
   "outputs": [],
   "source": [
    "rocky_merge['trade_ID']"
   ]
  },
  {
   "cell_type": "markdown",
   "metadata": {
    "id": "uLCmSp9mjCa_"
   },
   "source": [
    "## Merge RockyII and IndexMgmt on Trade_ID"
   ]
  },
  {
   "cell_type": "code",
   "execution_count": 217,
   "metadata": {
    "id": "9jitA66bjFYi"
   },
   "outputs": [],
   "source": [
    "df2 = pd.merge(index_mgmt_trades, rocky_merge, on='trade_ID')"
   ]
  },
  {
   "cell_type": "code",
   "execution_count": 218,
   "metadata": {
    "id": "yVzfp-ATjFWQ"
   },
   "outputs": [
    {
     "data": {
      "text/html": [
       "<div>\n",
       "<style scoped>\n",
       "    .dataframe tbody tr th:only-of-type {\n",
       "        vertical-align: middle;\n",
       "    }\n",
       "\n",
       "    .dataframe tbody tr th {\n",
       "        vertical-align: top;\n",
       "    }\n",
       "\n",
       "    .dataframe thead th {\n",
       "        text-align: right;\n",
       "    }\n",
       "</style>\n",
       "<table border=\"1\" class=\"dataframe\">\n",
       "  <thead>\n",
       "    <tr style=\"text-align: right;\">\n",
       "      <th></th>\n",
       "      <th>trade_ID</th>\n",
       "      <th>price</th>\n",
       "      <th>product</th>\n",
       "      <th>volume</th>\n",
       "      <th>pro_ID</th>\n",
       "      <th>trade_Date</th>\n",
       "      <th>trade_Price</th>\n",
       "    </tr>\n",
       "  </thead>\n",
       "  <tbody>\n",
       "  </tbody>\n",
       "</table>\n",
       "</div>"
      ],
      "text/plain": [
       "Empty DataFrame\n",
       "Columns: [trade_ID, price, product, volume, pro_ID, trade_Date, trade_Price]\n",
       "Index: []"
      ]
     },
     "execution_count": 218,
     "metadata": {},
     "output_type": "execute_result"
    }
   ],
   "source": [
    "df2"
   ]
  },
  {
   "cell_type": "markdown",
   "metadata": {
    "id": "HHj4jS0M9HN4"
   },
   "source": []
  },
  {
   "cell_type": "markdown",
   "metadata": {},
   "source": [
    "# Run anomaly models"
   ]
  },
  {
   "cell_type": "code",
   "execution_count": 235,
   "metadata": {},
   "outputs": [
    {
     "name": "stdout",
     "output_type": "stream",
     "text": [
      "Collecting category_encoders\n",
      "  Downloading https://files.pythonhosted.org/packages/44/57/fcef41c248701ee62e8325026b90c432adea35555cbc870aff9cfba23727/category_encoders-2.2.2-py2.py3-none-any.whl (80kB)\n",
      "Requirement already satisfied: statsmodels>=0.9.0 in c:\\programdata\\anaconda3\\lib\\site-packages (from category_encoders) (0.9.0)\n",
      "Requirement already satisfied: pandas>=0.21.1 in c:\\programdata\\anaconda3\\lib\\site-packages (from category_encoders) (0.24.2)\n",
      "Requirement already satisfied: numpy>=1.14.0 in c:\\programdata\\anaconda3\\lib\\site-packages (from category_encoders) (1.16.2)\n",
      "Requirement already satisfied: scipy>=1.0.0 in c:\\programdata\\anaconda3\\lib\\site-packages (from category_encoders) (1.2.1)\n",
      "Requirement already satisfied: scikit-learn>=0.20.0 in c:\\programdata\\anaconda3\\lib\\site-packages (from category_encoders) (0.20.3)\n",
      "Requirement already satisfied: patsy>=0.5.1 in c:\\programdata\\anaconda3\\lib\\site-packages (from category_encoders) (0.5.1)\n",
      "Requirement already satisfied: pytz>=2011k in c:\\programdata\\anaconda3\\lib\\site-packages (from pandas>=0.21.1->category_encoders) (2018.9)\n",
      "Requirement already satisfied: python-dateutil>=2.5.0 in c:\\programdata\\anaconda3\\lib\\site-packages (from pandas>=0.21.1->category_encoders) (2.8.0)\n",
      "Requirement already satisfied: six in c:\\programdata\\anaconda3\\lib\\site-packages (from patsy>=0.5.1->category_encoders) (1.12.0)\n",
      "Installing collected packages: category-encoders\n",
      "Successfully installed category-encoders-2.2.2\n",
      "Note: you may need to restart the kernel to use updated packages.\n"
     ]
    }
   ],
   "source": [
    "pip install category_encoders"
   ]
  },
  {
   "cell_type": "code",
   "execution_count": 236,
   "metadata": {},
   "outputs": [],
   "source": [
    "import category_encoders as ce\n",
    "from sklearn.impute import SimpleImputer\n",
    "from sklearn.linear_model import LogisticRegression\n",
    "from sklearn.pipeline import make_pipeline\n",
    "from sklearn.preprocessing import StandardScaler"
   ]
  },
  {
   "cell_type": "markdown",
   "metadata": {},
   "source": [
    "## Wind Park Import "
   ]
  },
  {
   "cell_type": "code",
   "execution_count": 231,
   "metadata": {},
   "outputs": [
    {
     "data": {
      "text/html": [
       "<div>\n",
       "<style scoped>\n",
       "    .dataframe tbody tr th:only-of-type {\n",
       "        vertical-align: middle;\n",
       "    }\n",
       "\n",
       "    .dataframe tbody tr th {\n",
       "        vertical-align: top;\n",
       "    }\n",
       "\n",
       "    .dataframe thead th {\n",
       "        text-align: right;\n",
       "    }\n",
       "</style>\n",
       "<table border=\"1\" class=\"dataframe\">\n",
       "  <thead>\n",
       "    <tr style=\"text-align: right;\">\n",
       "      <th></th>\n",
       "      <th>wind_park</th>\n",
       "      <th>production</th>\n",
       "      <th>wind_speed</th>\n",
       "      <th>temperature</th>\n",
       "      <th>date</th>\n",
       "    </tr>\n",
       "  </thead>\n",
       "  <tbody>\n",
       "    <tr>\n",
       "      <th>0</th>\n",
       "      <td>Bleikevare</td>\n",
       "      <td>0.000</td>\n",
       "      <td>1.607143</td>\n",
       "      <td>17.142857</td>\n",
       "      <td>2020-08-01 01:45:52.437</td>\n",
       "    </tr>\n",
       "    <tr>\n",
       "      <th>1</th>\n",
       "      <td>Brahehus</td>\n",
       "      <td>0.000</td>\n",
       "      <td>3.395121</td>\n",
       "      <td>18.056423</td>\n",
       "      <td>2020-08-01 01:45:52.437</td>\n",
       "    </tr>\n",
       "    <tr>\n",
       "      <th>2</th>\n",
       "      <td>Granberg</td>\n",
       "      <td>0.000</td>\n",
       "      <td>2.360000</td>\n",
       "      <td>17.600000</td>\n",
       "      <td>2020-08-01 01:45:52.437</td>\n",
       "    </tr>\n",
       "    <tr>\n",
       "      <th>3</th>\n",
       "      <td>Hedboberget</td>\n",
       "      <td>0.321</td>\n",
       "      <td>3.740000</td>\n",
       "      <td>18.800000</td>\n",
       "      <td>2020-08-01 01:45:52.437</td>\n",
       "    </tr>\n",
       "    <tr>\n",
       "      <th>4</th>\n",
       "      <td>Roebergsfjaellet</td>\n",
       "      <td>0.000</td>\n",
       "      <td>2.125000</td>\n",
       "      <td>18.375000</td>\n",
       "      <td>2020-08-01 01:45:52.437</td>\n",
       "    </tr>\n",
       "  </tbody>\n",
       "</table>\n",
       "</div>"
      ],
      "text/plain": [
       "          wind_park  production  wind_speed  temperature  \\\n",
       "0        Bleikevare       0.000    1.607143    17.142857   \n",
       "1          Brahehus       0.000    3.395121    18.056423   \n",
       "2          Granberg       0.000    2.360000    17.600000   \n",
       "3       Hedboberget       0.321    3.740000    18.800000   \n",
       "4  Roebergsfjaellet       0.000    2.125000    18.375000   \n",
       "\n",
       "                      date  \n",
       "0  2020-08-01 01:45:52.437  \n",
       "1  2020-08-01 01:45:52.437  \n",
       "2  2020-08-01 01:45:52.437  \n",
       "3  2020-08-01 01:45:52.437  \n",
       "4  2020-08-01 01:45:52.437  "
      ]
     },
     "execution_count": 231,
     "metadata": {},
     "output_type": "execute_result"
    }
   ],
   "source": [
    "wind_park_data.head()"
   ]
  },
  {
   "cell_type": "code",
   "execution_count": 233,
   "metadata": {},
   "outputs": [
    {
     "data": {
      "text/plain": [
       "Granberg            0.090909\n",
       "Bleikevare          0.090909\n",
       "Håkantorp 2         0.090909\n",
       "Hedboberget 2       0.090909\n",
       "Hedboberget         0.090909\n",
       "Saelitraedberget    0.090909\n",
       "Kvantenburg 2       0.090909\n",
       "Brahehus            0.090909\n",
       "Hällevadsholm       0.090909\n",
       "Roebergsfjaellet    0.090909\n",
       "Kulltorp            0.090909\n",
       "Name: wind_park, dtype: float64"
      ]
     },
     "execution_count": 233,
     "metadata": {},
     "output_type": "execute_result"
    }
   ],
   "source": [
    "# Checking if the data is balanced\n",
    "wind_park_data['wind_park'].value_counts(normalize=True)"
   ]
  },
  {
   "cell_type": "code",
   "execution_count": 243,
   "metadata": {},
   "outputs": [
    {
     "data": {
      "text/plain": [
       "2020-10-11 13:05:46.087    11\n",
       "2020-10-17 23:20:44.947    11\n",
       "2020-10-14 14:30:56.887    11\n",
       "2020-10-17 20:50:44.490    11\n",
       "2020-10-11 09:05:46.477    11\n",
       "2020-10-11 08:30:47.627    11\n",
       "2020-10-11 08:20:47.230    11\n",
       "2020-09-15 10:45:59.997    11\n",
       "2020-10-17 19:15:48.233    11\n",
       "2020-10-11 15:20:49.257    11\n",
       "2020-09-15 13:35:49.707    11\n",
       "2020-10-18 02:20:52.767    11\n",
       "2020-08-19 01:45:59.267    11\n",
       "2020-10-21 20:40:44.850    11\n",
       "2020-10-17 23:40:47.093    11\n",
       "2020-10-21 18:50:50.850    11\n",
       "2020-08-01 01:45:52.437    11\n",
       "2020-10-11 15:15:54.033    11\n",
       "2020-09-15 13:20:47.170    11\n",
       "2020-10-11 14:30:45.803    11\n",
       "2020-10-11 10:55:49.910    11\n",
       "2020-10-11 13:25:46.440    11\n",
       "2020-09-19 16:20:46.150    11\n",
       "2020-10-21 16:30:53.133    11\n",
       "2020-10-11 08:50:46.287    11\n",
       "2020-10-22 11:40:45.197    11\n",
       "2020-10-17 16:10:43.933    11\n",
       "2020-09-15 11:26:02.650    11\n",
       "2020-10-17 21:25:52.490    11\n",
       "2020-10-21 21:00:55.603    11\n",
       "                           ..\n",
       "2020-10-11 13:30:44.713    11\n",
       "2020-10-17 23:50:44.727    11\n",
       "2020-10-21 21:35:44.313    11\n",
       "2020-09-19 15:21:07.553    11\n",
       "2020-10-21 16:26:08.777    11\n",
       "2020-10-11 15:50:44.333    11\n",
       "2020-10-21 17:50:43.650    11\n",
       "2020-09-15 12:35:56.207    11\n",
       "2020-10-11 12:30:44.563    11\n",
       "2020-10-11 11:05:46.400    11\n",
       "2020-10-21 22:05:46.913    11\n",
       "2020-10-17 22:00:44.317    11\n",
       "2020-10-17 20:15:49.360    11\n",
       "2020-10-11 07:20:51.603    11\n",
       "2020-10-21 19:05:49.490    11\n",
       "2020-10-11 11:25:46.837    11\n",
       "2020-09-25 17:05:49.970    11\n",
       "2020-10-17 20:20:50.717    11\n",
       "2020-10-22 09:00:52.607    11\n",
       "2020-10-22 04:31:06.913    11\n",
       "2020-10-11 08:10:46.510    11\n",
       "2020-10-11 13:50:48.483    11\n",
       "2020-10-11 14:40:46.087    11\n",
       "2020-10-17 23:15:44.493    11\n",
       "2020-10-11 11:00:44.203    11\n",
       "2020-10-11 10:05:52.817    11\n",
       "2020-10-21 15:55:55.420    11\n",
       "2020-10-21 17:45:43.830    11\n",
       "2020-10-11 14:15:46.973    11\n",
       "2020-10-22 04:35:48.300    11\n",
       "Name: date, Length: 221, dtype: int64"
      ]
     },
     "execution_count": 243,
     "metadata": {},
     "output_type": "execute_result"
    }
   ],
   "source": [
    "wind_park_data['date'].value_counts()"
   ]
  },
  {
   "cell_type": "markdown",
   "metadata": {},
   "source": [
    "### Import larger wind power import dataframe"
   ]
  },
  {
   "cell_type": "code",
   "execution_count": 279,
   "metadata": {},
   "outputs": [],
   "source": [
    "wind_power_import_100 = df_100[df_100['log_application'] == 'Wind Power Import']\n",
    "wind_power_import_date_text = wind_power_import[['log_date', 'text_data']]"
   ]
  },
  {
   "cell_type": "code",
   "execution_count": 280,
   "metadata": {},
   "outputs": [],
   "source": [
    "series = wind_power_import_100[['log_date', 'text_data']].apply(wind_power_str_to_df, axis=1)\n",
    "wind_park_data_100 = pd.concat(series.values.tolist(), ignore_index=True)"
   ]
  },
  {
   "cell_type": "code",
   "execution_count": 281,
   "metadata": {},
   "outputs": [],
   "source": [
    "wind_park_data_100['date'] = wind_park_data_100['date'].astype(str)"
   ]
  },
  {
   "cell_type": "code",
   "execution_count": 282,
   "metadata": {},
   "outputs": [],
   "source": [
    "# Preprocessing data\n",
    "wind_park_data_100['date'] = wind_park_data_100['date'].astype(str)\n",
    "\n",
    "wind_park_day = pd.DataFrame(columns=['day'])\n",
    "for row in wind_park_data['date']:\n",
    "    wind_park_day = wind_park_day.append({'day': row[0:10]}, ignore_index=True)\n",
    "wind_park_merged = pd.concat([wind_park_data, wind_park_day], axis=1)"
   ]
  },
  {
   "cell_type": "code",
   "execution_count": 268,
   "metadata": {},
   "outputs": [],
   "source": [
    "wind_park_data_day = wind_park_merged"
   ]
  },
  {
   "cell_type": "code",
   "execution_count": 269,
   "metadata": {},
   "outputs": [
    {
     "data": {
      "image/png": "[encoded data removed]",
      "text/plain": [
       "<Figure size 432x288 with 1 Axes>"
      ]
     },
     "metadata": {
      "needs_background": "light"
     },
     "output_type": "display_data"
    }
   ],
   "source": [
    "sns.scatterplot(x='wind_speed', y='production', hue='wind_park', data=wind_park_data_100);"
   ]
  },
  {
   "cell_type": "code",
   "execution_count": null,
   "metadata": {},
   "outputs": [],
   "source": [
    "from sklearn.ensemble import IsolationForest\n",
    "from sklearn.model_selection import train_test_split\n",
    "rng = np.random.RandomState(42)\n",
    "\n",
    "# Splitting wind_park_data into train and test sets\n",
    "# X_train, X_test, = train_test_split(wind_park_data_100, test_size=0.33, random_state=42)"
   ]
  },
  {
   "cell_type": "code",
   "execution_count": 278,
   "metadata": {},
   "outputs": [
    {
     "data": {
      "text/plain": [
       "Index(['wind_park', 'production', 'wind_speed', 'temperature', 'date',\n",
       "       'scores'],\n",
       "      dtype='object')"
      ]
     },
     "execution_count": 278,
     "metadata": {},
     "output_type": "execute_result"
    }
   ],
   "source": [
    "wind_park_data_100.columns"
   ]
  },
  {
   "cell_type": "code",
   "execution_count": 271,
   "metadata": {},
   "outputs": [
    {
     "name": "stderr",
     "output_type": "stream",
     "text": [
      "C:\\ProgramData\\Anaconda3\\lib\\site-packages\\sklearn\\ensemble\\iforest.py:213: FutureWarning: default contamination parameter 0.1 will change in version 0.22 to \"auto\". This will change the predict method behavior.\n",
      "  FutureWarning)\n",
      "C:\\ProgramData\\Anaconda3\\lib\\site-packages\\sklearn\\ensemble\\iforest.py:223: FutureWarning: behaviour=\"old\" is deprecated and will be removed in version 0.22. Please use behaviour=\"new\", which makes the decision_function change to match other anomaly detection algorithm API.\n",
      "  FutureWarning)\n"
     ]
    },
    {
     "data": {
      "text/plain": [
       "Pipeline(memory=None,\n",
       "     steps=[('onehotencoder', OneHotEncoder(cols=['wind_park', 'date'], drop_invariant=False,\n",
       "       handle_missing='value', handle_unknown='value', return_df=True,\n",
       "       use_cat_names=True, verbose=0)), ('simpleimputer', SimpleImputer(copy=True, fill_value=None, missing_values=nan, strategy='mean',\n",
       "   ...s=None,\n",
       "        random_state=<mtrand.RandomState object at 0x000001C40AF70B88>,\n",
       "        verbose=0))])"
      ]
     },
     "execution_count": 271,
     "metadata": {},
     "output_type": "execute_result"
    }
   ],
   "source": [
    "from sklearn.tree import DecisionTreeClassifier\n",
    "clf = IsolationForest(random_state=rng, behaviour=\"new\")\n",
    "\n",
    "pipeline = make_pipeline(\n",
    "    ce.OneHotEncoder(use_cat_names=True),\n",
    "    SimpleImputer(),\n",
    "    clf\n",
    ")\n",
    "\n",
    "# Fit on train\n",
    "pipeline.fit(wind_park_data_100)\n",
    "\n",
    "# Score on val\n",
    "# pipeline.predict(X_test)\n",
    "y_pred_train = pipeline.predict(wind_park_data_100)\n",
    "y_pred_train\n",
    "\n",
    "# # Predict on test (submit kaggle)\n",
    "# y_pred = pipeline.predict(X_test)"
   ]
  },
  {
   "cell_type": "code",
   "execution_count": 284,
   "metadata": {},
   "outputs": [
    {
     "name": "stderr",
     "output_type": "stream",
     "text": [
      "C:\\ProgramData\\Anaconda3\\lib\\site-packages\\sklearn\\ensemble\\iforest.py:417: DeprecationWarning: threshold_ attribute is deprecated in 0.20 and will be removed in 0.22.\n",
      "  \" be removed in 0.22.\", DeprecationWarning)\n"
     ]
    },
    {
     "data": {
      "text/plain": [
       "array([1, 1, 1, ..., 1, 1, 1])"
      ]
     },
     "execution_count": 284,
     "metadata": {},
     "output_type": "execute_result"
    }
   ],
   "source": [
    "y_pred_train = pipeline.predict(wind_park_data_100)\n",
    "y_pred_train"
   ]
  },
  {
   "cell_type": "code",
   "execution_count": 286,
   "metadata": {},
   "outputs": [
    {
     "data": {
      "text/plain": [
       "(23892,)"
      ]
     },
     "execution_count": 286,
     "metadata": {},
     "output_type": "execute_result"
    }
   ],
   "source": [
    "y_pred_train.shape"
   ]
  },
  {
   "cell_type": "code",
   "execution_count": 313,
   "metadata": {},
   "outputs": [
    {
     "data": {
      "text/plain": [
       "(23892, 5)"
      ]
     },
     "execution_count": 313,
     "metadata": {},
     "output_type": "execute_result"
    }
   ],
   "source": [
    "wind_park_data_100.shape"
   ]
  },
  {
   "cell_type": "code",
   "execution_count": null,
   "metadata": {},
   "outputs": [],
   "source": [
    "# Isolation Forest on Production\n",
    "pipeline = make_pipeline(\n",
    "    ce.OneHotEncoder(use_cat_names=True),\n",
    "    SimpleImputer(),\n",
    "    clf\n",
    ")\n",
    "\n",
    "# Fit on train\n",
    "pipeline.fit(wind_park_data_100[['production', 'wind_speed']])\n",
    "\n",
    "# Score on val\n",
    "# pipeline.predict(X_test)\n",
    "y_pred_train_prod = pipeline.predict(wind_park_data_100[['production', 'wind_speed']])\n",
    "y_pred_train_prod"
   ]
  },
  {
   "cell_type": "code",
   "execution_count": 325,
   "metadata": {},
   "outputs": [],
   "source": [
    "wind_park_anomalies_prod = pd.concat([wind_park_data_100_test, pd.Series(y_pred_train_prod)], axis=1)"
   ]
  },
  {
   "cell_type": "code",
   "execution_count": null,
   "metadata": {},
   "outputs": [],
   "source": [
    "wind_park_anomalies_prod.columns = ['wind_park', 'production', 'wind_speed', 'temperature', 'date',\n",
    "       'scores', 'anomaly']\n",
    "anomaly_prod=wind_park_anomalies_prod.loc[wind_park_anomalies_prod['anomaly']==-1]\n",
    "anomaly_index=list(anomaly_prod.index)\n",
    "print(anomaly_prod)"
   ]
  },
  {
   "cell_type": "code",
   "execution_count": null,
   "metadata": {},
   "outputs": [],
   "source": [
    "import matplotlib.pyplot as plt\n",
    "'''\n",
    "# plot the line, the samples, and the nearest vectors to the plane\n",
    "xx, yy = np.meshgrid(np.linspace(-5, 5, 50), np.linspace(-5, 5, 50))\n",
    "Z = pipeline.decision_function(np.c_[xx.ravel(), yy.ravel()])\n",
    "Z = Z.reshape(xx.shape)\n",
    "\n",
    "plt.title(\"IsolationForest\")\n",
    "plt.contourf(xx, yy, Z, cmap=plt.cm.Blues_r)\n",
    "\n",
    "b1 = plt.scatter(wind_park_anomalies_prod[:, 0], wind_park_anomalies_prod[:, 1], c='white',\n",
    "                 s=20, edgecolor='k')\n",
    "b2 = plt.scatter(wind_park_anomalies_prod[:, 0], X_test[:, 1], c='green',\n",
    "                 s=20, edgecolor='k')\n",
    "c = plt.scatter(X_outliers[:, 0], X_outliers[:, 1], c='red',\n",
    "                s=20, edgecolor='k')\n",
    "plt.axis('tight')\n",
    "plt.xlim((-5, 5))\n",
    "plt.ylim((-5, 5))\n",
    "plt.legend([b1, b2, c],\n",
    "           [\"training observations\",\n",
    "            \"new regular observations\", \"new abnormal observations\"],\n",
    "           loc=\"upper left\")\n",
    "plt.show()\n",
    "'''"
   ]
  },
  {
   "cell_type": "code",
   "execution_count": 276,
   "metadata": {},
   "outputs": [],
   "source": [
    "wind_park_data_100_test = wind_park_data_100"
   ]
  },
  {
   "cell_type": "code",
   "execution_count": null,
   "metadata": {},
   "outputs": [],
   "source": [
    "y_pred_train = clf.predict(X_train)"
   ]
  },
  {
   "cell_type": "code",
   "execution_count": 295,
   "metadata": {},
   "outputs": [],
   "source": [
    "# Add Anomalies onto DF\n",
    "wind_park_anomalies = pd.concat([wind_park_data_100_test, pd.Series(y_pred_train)], axis=1)"
   ]
  },
  {
   "cell_type": "code",
   "execution_count": 301,
   "metadata": {},
   "outputs": [
    {
     "data": {
      "text/plain": [
       "Index(['wind_park', 'production', 'wind_speed', 'temperature', 'date',\n",
       "       'scores', 0],\n",
       "      dtype='object')"
      ]
     },
     "execution_count": 301,
     "metadata": {},
     "output_type": "execute_result"
    }
   ],
   "source": [
    "wind_park_anomalies.columns"
   ]
  },
  {
   "cell_type": "code",
   "execution_count": 302,
   "metadata": {},
   "outputs": [],
   "source": [
    "wind_park_anomalies.columns = ['wind_park', 'production', 'wind_speed', 'temperature', 'date',\n",
    "       'scores', 'anomaly']"
   ]
  },
  {
   "cell_type": "code",
   "execution_count": null,
   "metadata": {},
   "outputs": [],
   "source": [
    "anomaly=wind_park_anomalies.loc[wind_park_anomalies['anomaly']==-1]\n",
    "anomaly_index=list(anomaly.index)\n",
    "print(anomaly)"
   ]
  },
  {
   "cell_type": "code",
   "execution_count": 305,
   "metadata": {},
   "outputs": [
    {
     "data": {
      "image/png": "[encoded data removed]",
      "text/plain": [
       "<Figure size 432x288 with 1 Axes>"
      ]
     },
     "metadata": {
      "needs_background": "light"
     },
     "output_type": "display_data"
    }
   ],
   "source": [
    "sns.scatterplot(x='wind_speed', y='production', hue='anomaly', data=wind_park_anomalies);"
   ]
  },
  {
   "cell_type": "code",
   "execution_count": null,
   "metadata": {},
   "outputs": [],
   "source": [
    "# wind_park_data_100_test['scores']=pipeline.decision_function(wind_park_data_100)\n",
    "# wind_park_data_100_test['anomaly']=pipeline.predict(wind_park_data_100)\n",
    "# wind_park_data_100_test.head(20)"
   ]
  },
  {
   "cell_type": "code",
   "execution_count": null,
   "metadata": {},
   "outputs": [],
   "source": [
    "wind_park_anomalies['scores'].value_counts()"
   ]
  },
  {
   "cell_type": "markdown",
   "metadata": {},
   "source": [
    "# Using wind mill data to predict production"
   ]
  },
  {
   "cell_type": "markdown",
   "metadata": {},
   "source": [
    "## Decision Tree Regressor, preprocessing"
   ]
  },
  {
   "cell_type": "code",
   "execution_count": 350,
   "metadata": {},
   "outputs": [],
   "source": [
    "# Kulltorp always NaN\n",
    "Kulltorp = wind_park_data[wind_park_data['wind_park'] == 'Kulltorp']"
   ]
  },
  {
   "cell_type": "code",
   "execution_count": 333,
   "metadata": {},
   "outputs": [
    {
     "data": {
      "text/plain": [
       "(2431, 5)"
      ]
     },
     "execution_count": 333,
     "metadata": {},
     "output_type": "execute_result"
    }
   ],
   "source": [
    "wind_park_data.shape"
   ]
  },
  {
   "cell_type": "code",
   "execution_count": 339,
   "metadata": {},
   "outputs": [
    {
     "data": {
      "text/plain": [
       "wind_park       object\n",
       "production     float64\n",
       "wind_speed     float64\n",
       "temperature    float64\n",
       "date            object\n",
       "dtype: object"
      ]
     },
     "execution_count": 339,
     "metadata": {},
     "output_type": "execute_result"
    }
   ],
   "source": [
    "wind_park_data.dtypes"
   ]
  },
  {
   "cell_type": "code",
   "execution_count": 361,
   "metadata": {},
   "outputs": [],
   "source": [
    "# Reduce float columns to 2 significant figures\n",
    "wind_park_data_day = wind_park_data_day.round(2)"
   ]
  },
  {
   "cell_type": "code",
   "execution_count": null,
   "metadata": {},
   "outputs": [],
   "source": [
    "# Production data is highly stratified. Model must account for this.\n",
    "wind_park_data_day['production'].value_counts(normalize=True)"
   ]
  },
  {
   "cell_type": "code",
   "execution_count": 346,
   "metadata": {},
   "outputs": [
    {
     "data": {
      "text/plain": [
       "wind_park        0\n",
       "production     305\n",
       "wind_speed     305\n",
       "temperature    746\n",
       "date             0\n",
       "dtype: int64"
      ]
     },
     "execution_count": 346,
     "metadata": {},
     "output_type": "execute_result"
    }
   ],
   "source": [
    "# Håkantorp 2 & Kvantenburg 2 do not have temperature measurements\n",
    "# Kulltorp seems to only return NaN values\n",
    "\n",
    "wind_park_data_day.isnull().sum()"
   ]
  },
  {
   "cell_type": "code",
   "execution_count": 362,
   "metadata": {},
   "outputs": [],
   "source": [
    "# Removing NaN values for train_test_split\n",
    "wind_park_data_day = wind_park_data_day.dropna()"
   ]
  },
  {
   "cell_type": "code",
   "execution_count": 363,
   "metadata": {},
   "outputs": [
    {
     "data": {
      "text/plain": [
       "wind_park      0\n",
       "production     0\n",
       "wind_speed     0\n",
       "temperature    0\n",
       "date           0\n",
       "day            0\n",
       "dtype: int64"
      ]
     },
     "execution_count": 363,
     "metadata": {},
     "output_type": "execute_result"
    }
   ],
   "source": [
    "wind_park_data_day.isnull().sum()"
   ]
  },
  {
   "cell_type": "code",
   "execution_count": 364,
   "metadata": {},
   "outputs": [
    {
     "data": {
      "text/plain": [
       "(1685, 6)"
      ]
     },
     "execution_count": 364,
     "metadata": {},
     "output_type": "execute_result"
    }
   ],
   "source": [
    "wind_park_data_day.shape"
   ]
  },
  {
   "cell_type": "code",
   "execution_count": 365,
   "metadata": {},
   "outputs": [],
   "source": [
    "# stratify=wind_park_data['production'] Error: The least populated class in y has only 1 member, which is too few.\n",
    "# Se etter annen måte å balansere target.\n",
    "\n",
    "train, val = train_test_split(wind_park_data_day, train_size=.8, test_size = .2, random_state = 42)"
   ]
  },
  {
   "cell_type": "code",
   "execution_count": 411,
   "metadata": {},
   "outputs": [
    {
     "name": "stdout",
     "output_type": "stream",
     "text": [
      "['temperature', 'wind_park', 'day']\n"
     ]
    }
   ],
   "source": [
    "# Set target\n",
    "target = 'production'\n",
    "\n",
    "# get a dataframe with all train columns - target & wind_speed\n",
    "# wind_speed accounts for almost all predictive power\n",
    "train_features = train.drop(columns=[target, 'wind_speed'])\n",
    "\n",
    "# Get a list of numeric features\n",
    "numeric_features = train_features.select_dtypes(include='number').columns.tolist()\n",
    "\n",
    "# Get a series with the cardinality of the nonnumeric features\n",
    "cardinality = train_features.select_dtypes(exclude='number').nunique()\n",
    "\n",
    "# Get a list of all categorical features with cardinality <= 50\n",
    "categorical_features = cardinality[cardinality <= 50].index.tolist()\n",
    "\n",
    "# Combine the lists\n",
    "features = numeric_features + categorical_features\n",
    "print(features)"
   ]
  },
  {
   "cell_type": "code",
   "execution_count": 412,
   "metadata": {},
   "outputs": [],
   "source": [
    "# Arrange the data into X features matrix and y target vector\n",
    "\n",
    "X_train = train[features]\n",
    "y_train = train[target]\n",
    "X_val = val[features]\n",
    "y_val = val[target]\n",
    "# X_test = test[features]"
   ]
  },
  {
   "cell_type": "code",
   "execution_count": 387,
   "metadata": {},
   "outputs": [
    {
     "data": {
      "text/plain": [
       "1.15"
      ]
     },
     "execution_count": 387,
     "metadata": {},
     "output_type": "execute_result"
    }
   ],
   "source": [
    "# Get baseline\n",
    "wind_park_data_day['production'].median()"
   ]
  },
  {
   "cell_type": "code",
   "execution_count": 388,
   "metadata": {},
   "outputs": [
    {
     "data": {
      "text/plain": [
       "2.980124629080118"
      ]
     },
     "execution_count": 388,
     "metadata": {},
     "output_type": "execute_result"
    }
   ],
   "source": [
    "wind_park_data_day['production'].mean()"
   ]
  },
  {
   "cell_type": "code",
   "execution_count": 389,
   "metadata": {},
   "outputs": [
    {
     "ename": "ValueError",
     "evalue": "Unknown label type: 'continuous'",
     "output_type": "error",
     "traceback": [
      "\u001b[1;31m---------------------------------------------------------------------------\u001b[0m",
      "\u001b[1;31mValueError\u001b[0m                                Traceback (most recent call last)",
      "\u001b[1;32m<ipython-input-389-ae8b168f13b7>\u001b[0m in \u001b[0;36m<module>\u001b[1;34m\u001b[0m\n\u001b[0;32m      9\u001b[0m \u001b[1;33m\u001b[0m\u001b[0m\n\u001b[0;32m     10\u001b[0m \u001b[1;31m# Fit on train\u001b[0m\u001b[1;33m\u001b[0m\u001b[1;33m\u001b[0m\u001b[1;33m\u001b[0m\u001b[0m\n\u001b[1;32m---> 11\u001b[1;33m \u001b[0mpipeline\u001b[0m\u001b[1;33m.\u001b[0m\u001b[0mfit\u001b[0m\u001b[1;33m(\u001b[0m\u001b[0mX_train\u001b[0m\u001b[1;33m,\u001b[0m \u001b[0my_train\u001b[0m\u001b[1;33m)\u001b[0m\u001b[1;33m\u001b[0m\u001b[1;33m\u001b[0m\u001b[0m\n\u001b[0m\u001b[0;32m     12\u001b[0m \u001b[1;33m\u001b[0m\u001b[0m\n\u001b[0;32m     13\u001b[0m \u001b[1;31m# Score on val\u001b[0m\u001b[1;33m\u001b[0m\u001b[1;33m\u001b[0m\u001b[1;33m\u001b[0m\u001b[0m\n",
      "\u001b[1;32mC:\\ProgramData\\Anaconda3\\lib\\site-packages\\sklearn\\pipeline.py\u001b[0m in \u001b[0;36mfit\u001b[1;34m(self, X, y, **fit_params)\u001b[0m\n\u001b[0;32m    265\u001b[0m         \u001b[0mXt\u001b[0m\u001b[1;33m,\u001b[0m \u001b[0mfit_params\u001b[0m \u001b[1;33m=\u001b[0m \u001b[0mself\u001b[0m\u001b[1;33m.\u001b[0m\u001b[0m_fit\u001b[0m\u001b[1;33m(\u001b[0m\u001b[0mX\u001b[0m\u001b[1;33m,\u001b[0m \u001b[0my\u001b[0m\u001b[1;33m,\u001b[0m \u001b[1;33m**\u001b[0m\u001b[0mfit_params\u001b[0m\u001b[1;33m)\u001b[0m\u001b[1;33m\u001b[0m\u001b[1;33m\u001b[0m\u001b[0m\n\u001b[0;32m    266\u001b[0m         \u001b[1;32mif\u001b[0m \u001b[0mself\u001b[0m\u001b[1;33m.\u001b[0m\u001b[0m_final_estimator\u001b[0m \u001b[1;32mis\u001b[0m \u001b[1;32mnot\u001b[0m \u001b[1;32mNone\u001b[0m\u001b[1;33m:\u001b[0m\u001b[1;33m\u001b[0m\u001b[1;33m\u001b[0m\u001b[0m\n\u001b[1;32m--> 267\u001b[1;33m             \u001b[0mself\u001b[0m\u001b[1;33m.\u001b[0m\u001b[0m_final_estimator\u001b[0m\u001b[1;33m.\u001b[0m\u001b[0mfit\u001b[0m\u001b[1;33m(\u001b[0m\u001b[0mXt\u001b[0m\u001b[1;33m,\u001b[0m \u001b[0my\u001b[0m\u001b[1;33m,\u001b[0m \u001b[1;33m**\u001b[0m\u001b[0mfit_params\u001b[0m\u001b[1;33m)\u001b[0m\u001b[1;33m\u001b[0m\u001b[1;33m\u001b[0m\u001b[0m\n\u001b[0m\u001b[0;32m    268\u001b[0m         \u001b[1;32mreturn\u001b[0m \u001b[0mself\u001b[0m\u001b[1;33m\u001b[0m\u001b[1;33m\u001b[0m\u001b[0m\n\u001b[0;32m    269\u001b[0m \u001b[1;33m\u001b[0m\u001b[0m\n",
      "\u001b[1;32mC:\\ProgramData\\Anaconda3\\lib\\site-packages\\sklearn\\linear_model\\logistic.py\u001b[0m in \u001b[0;36mfit\u001b[1;34m(self, X, y, sample_weight)\u001b[0m\n\u001b[0;32m   1287\u001b[0m         X, y = check_X_y(X, y, accept_sparse='csr', dtype=_dtype, order=\"C\",\n\u001b[0;32m   1288\u001b[0m                          accept_large_sparse=solver != 'liblinear')\n\u001b[1;32m-> 1289\u001b[1;33m         \u001b[0mcheck_classification_targets\u001b[0m\u001b[1;33m(\u001b[0m\u001b[0my\u001b[0m\u001b[1;33m)\u001b[0m\u001b[1;33m\u001b[0m\u001b[1;33m\u001b[0m\u001b[0m\n\u001b[0m\u001b[0;32m   1290\u001b[0m         \u001b[0mself\u001b[0m\u001b[1;33m.\u001b[0m\u001b[0mclasses_\u001b[0m \u001b[1;33m=\u001b[0m \u001b[0mnp\u001b[0m\u001b[1;33m.\u001b[0m\u001b[0munique\u001b[0m\u001b[1;33m(\u001b[0m\u001b[0my\u001b[0m\u001b[1;33m)\u001b[0m\u001b[1;33m\u001b[0m\u001b[1;33m\u001b[0m\u001b[0m\n\u001b[0;32m   1291\u001b[0m         \u001b[0mn_samples\u001b[0m\u001b[1;33m,\u001b[0m \u001b[0mn_features\u001b[0m \u001b[1;33m=\u001b[0m \u001b[0mX\u001b[0m\u001b[1;33m.\u001b[0m\u001b[0mshape\u001b[0m\u001b[1;33m\u001b[0m\u001b[1;33m\u001b[0m\u001b[0m\n",
      "\u001b[1;32mC:\\ProgramData\\Anaconda3\\lib\\site-packages\\sklearn\\utils\\multiclass.py\u001b[0m in \u001b[0;36mcheck_classification_targets\u001b[1;34m(y)\u001b[0m\n\u001b[0;32m    169\u001b[0m     if y_type not in ['binary', 'multiclass', 'multiclass-multioutput',\n\u001b[0;32m    170\u001b[0m                       'multilabel-indicator', 'multilabel-sequences']:\n\u001b[1;32m--> 171\u001b[1;33m         \u001b[1;32mraise\u001b[0m \u001b[0mValueError\u001b[0m\u001b[1;33m(\u001b[0m\u001b[1;34m\"Unknown label type: %r\"\u001b[0m \u001b[1;33m%\u001b[0m \u001b[0my_type\u001b[0m\u001b[1;33m)\u001b[0m\u001b[1;33m\u001b[0m\u001b[1;33m\u001b[0m\u001b[0m\n\u001b[0m\u001b[0;32m    172\u001b[0m \u001b[1;33m\u001b[0m\u001b[0m\n\u001b[0;32m    173\u001b[0m \u001b[1;33m\u001b[0m\u001b[0m\n",
      "\u001b[1;31mValueError\u001b[0m: Unknown label type: 'continuous'"
     ]
    }
   ],
   "source": [
    "# Get baseline validation accuracy score\n",
    "\n",
    "pipeline = make_pipeline(\n",
    "    ce.OneHotEncoder(use_cat_names=True),\n",
    "    SimpleImputer(),\n",
    "    # StandardScaler(),\n",
    "    LogisticRegression(multi_class='auto', solver='lbfgs', n_jobs =-1)\n",
    ")\n",
    "\n",
    "# Fit on train\n",
    "pipeline.fit(X_train, y_train)\n",
    "\n",
    "# Score on val\n",
    "print('Logistic Regression Validation Accuracy', pipeline.score(X_val, y_val))\n",
    "\n",
    "# Predict on test\n",
    "# y_pred = pipeline.predict(X_test)"
   ]
  },
  {
   "cell_type": "code",
   "execution_count": 413,
   "metadata": {},
   "outputs": [
    {
     "name": "stdout",
     "output_type": "stream",
     "text": [
      "Validation Accuracy 0.8354382989536496\n"
     ]
    }
   ],
   "source": [
    "# 98% Validation accuracy. We've got leakage.\n",
    "\n",
    "from sklearn.tree import DecisionTreeRegressor\n",
    "\n",
    "pipeline = make_pipeline(\n",
    "    ce.OneHotEncoder(use_cat_names=True),\n",
    "    SimpleImputer(),\n",
    "    # StandardScaler(),\n",
    "    DecisionTreeRegressor(random_state = 42, max_depth=20, min_samples_leaf=6, min_samples_split=15)\n",
    ")\n",
    "\n",
    "# Fit on train\n",
    "pipeline.fit(X_train, y_train)\n",
    "\n",
    "# Score on val\n",
    "print('Validation Accuracy', pipeline.score(X_val, y_val))\n",
    "\n",
    "# Predict on test (submit kaggle)\n",
    "# y_pred = pipeline.predict(X_test)"
   ]
  },
  {
   "cell_type": "code",
   "execution_count": 414,
   "metadata": {},
   "outputs": [
    {
     "data": {
      "image/png": "[encoded data removed]",
      "text/plain": [
       "<Figure size 720x720 with 1 Axes>"
      ]
     },
     "metadata": {
      "needs_background": "light"
     },
     "output_type": "display_data"
    }
   ],
   "source": [
    "model = pipeline.named_steps['decisiontreeregressor']\n",
    "# Linear models have coefficients, \n",
    "# Trees have feature importances\n",
    "\n",
    "encoder = pipeline.named_steps['onehotencoder']\n",
    "encoded_columns = encoder.transform(X_val).columns\n",
    "importances = pd.Series(model.feature_importances_, encoded_columns)\n",
    "plt.figure(figsize=(10,10))\n",
    "importances.sort_values() .plot.barh(color='grey');\n",
    "\n",
    "# Temp & Bleikevare highly predictive.\n",
    "# Days are fairly leaky?"
   ]
  },
  {
   "cell_type": "code",
   "execution_count": 416,
   "metadata": {},
   "outputs": [
    {
     "name": "stdout",
     "output_type": "stream",
     "text": [
      "Collecting graphviz\n",
      "  Downloading https://files.pythonhosted.org/packages/64/72/f4f4205db2a58e7a49e8190c0b49e9669d7ecadf6385b5bcdcf910354a6d/graphviz-0.15-py2.py3-none-any.whl\n",
      "Installing collected packages: graphviz\n",
      "Successfully installed graphviz-0.15\n",
      "Note: you may need to restart the kernel to use updated packages.\n"
     ]
    }
   ],
   "source": [
    "pip install graphviz"
   ]
  },
  {
   "cell_type": "code",
   "execution_count": 417,
   "metadata": {},
   "outputs": [],
   "source": [
    "train_location_temp = X_train[['wind_park', 'temperature']].copy()\n",
    "val_location_temp = X_val[['wind_park', 'temperature']].copy()"
   ]
  },
  {
   "cell_type": "code",
   "execution_count": 419,
   "metadata": {},
   "outputs": [
    {
     "data": {
      "text/plain": [
       "wind_park       object\n",
       "temperature    float64\n",
       "dtype: object"
      ]
     },
     "execution_count": 419,
     "metadata": {},
     "output_type": "execute_result"
    }
   ],
   "source": [
    "train_location_temp.dtypes"
   ]
  },
  {
   "cell_type": "code",
   "execution_count": 421,
   "metadata": {},
   "outputs": [
    {
     "data": {
      "text/plain": [
       "Index(['temperature', 'wind_park_Brahehus', 'wind_park_Hedboberget',\n",
       "       'wind_park_Roebergsfjaellet', 'wind_park_Hedboberget 2',\n",
       "       'wind_park_Saelitraedberget', 'wind_park_Hällevadsholm',\n",
       "       'wind_park_Bleikevare', 'wind_park_Granberg', 'day_2020-10-22',\n",
       "       'day_2020-10-11', 'day_2020-09-15', 'day_2020-10-17', 'day_2020-09-19',\n",
       "       'day_2020-10-21', 'day_2020-08-18', 'day_2020-10-18', 'day_2020-08-17',\n",
       "       'day_2020-09-25', 'day_2020-08-19', 'day_2020-08-14', 'day_2020-08-09',\n",
       "       'day_2020-08-16', 'day_2020-08-01', 'day_2020-08-15', 'day_2020-10-14'],\n",
       "      dtype='object')"
      ]
     },
     "execution_count": 421,
     "metadata": {},
     "output_type": "execute_result"
    }
   ],
   "source": [
    "encoded_columns"
   ]
  },
  {
   "cell_type": "code",
   "execution_count": 420,
   "metadata": {},
   "outputs": [
    {
     "ename": "ValueError",
     "evalue": "Cannot use mean strategy with non-numeric data. Received datatype :O.",
     "output_type": "error",
     "traceback": [
      "\u001b[1;31m---------------------------------------------------------------------------\u001b[0m",
      "\u001b[1;31mValueError\u001b[0m                                Traceback (most recent call last)",
      "\u001b[1;32mC:\\ProgramData\\Anaconda3\\lib\\site-packages\\sklearn\\impute.py\u001b[0m in \u001b[0;36m_validate_input\u001b[1;34m(self, X)\u001b[0m\n\u001b[0;32m    189\u001b[0m             X = check_array(X, accept_sparse='csc', dtype=dtype,\n\u001b[1;32m--> 190\u001b[1;33m                             force_all_finite=force_all_finite, copy=self.copy)\n\u001b[0m\u001b[0;32m    191\u001b[0m         \u001b[1;32mexcept\u001b[0m \u001b[0mValueError\u001b[0m \u001b[1;32mas\u001b[0m \u001b[0mve\u001b[0m\u001b[1;33m:\u001b[0m\u001b[1;33m\u001b[0m\u001b[1;33m\u001b[0m\u001b[0m\n",
      "\u001b[1;32mC:\\ProgramData\\Anaconda3\\lib\\site-packages\\sklearn\\utils\\validation.py\u001b[0m in \u001b[0;36mcheck_array\u001b[1;34m(array, accept_sparse, accept_large_sparse, dtype, order, copy, force_all_finite, ensure_2d, allow_nd, ensure_min_samples, ensure_min_features, warn_on_dtype, estimator)\u001b[0m\n\u001b[0;32m    526\u001b[0m                 \u001b[0mwarnings\u001b[0m\u001b[1;33m.\u001b[0m\u001b[0msimplefilter\u001b[0m\u001b[1;33m(\u001b[0m\u001b[1;34m'error'\u001b[0m\u001b[1;33m,\u001b[0m \u001b[0mComplexWarning\u001b[0m\u001b[1;33m)\u001b[0m\u001b[1;33m\u001b[0m\u001b[1;33m\u001b[0m\u001b[0m\n\u001b[1;32m--> 527\u001b[1;33m                 \u001b[0marray\u001b[0m \u001b[1;33m=\u001b[0m \u001b[0mnp\u001b[0m\u001b[1;33m.\u001b[0m\u001b[0masarray\u001b[0m\u001b[1;33m(\u001b[0m\u001b[0marray\u001b[0m\u001b[1;33m,\u001b[0m \u001b[0mdtype\u001b[0m\u001b[1;33m=\u001b[0m\u001b[0mdtype\u001b[0m\u001b[1;33m,\u001b[0m \u001b[0morder\u001b[0m\u001b[1;33m=\u001b[0m\u001b[0morder\u001b[0m\u001b[1;33m)\u001b[0m\u001b[1;33m\u001b[0m\u001b[1;33m\u001b[0m\u001b[0m\n\u001b[0m\u001b[0;32m    528\u001b[0m             \u001b[1;32mexcept\u001b[0m \u001b[0mComplexWarning\u001b[0m\u001b[1;33m:\u001b[0m\u001b[1;33m\u001b[0m\u001b[1;33m\u001b[0m\u001b[0m\n",
      "\u001b[1;32mC:\\ProgramData\\Anaconda3\\lib\\site-packages\\numpy\\core\\numeric.py\u001b[0m in \u001b[0;36masarray\u001b[1;34m(a, dtype, order)\u001b[0m\n\u001b[0;32m    537\u001b[0m     \"\"\"\n\u001b[1;32m--> 538\u001b[1;33m     \u001b[1;32mreturn\u001b[0m \u001b[0marray\u001b[0m\u001b[1;33m(\u001b[0m\u001b[0ma\u001b[0m\u001b[1;33m,\u001b[0m \u001b[0mdtype\u001b[0m\u001b[1;33m,\u001b[0m \u001b[0mcopy\u001b[0m\u001b[1;33m=\u001b[0m\u001b[1;32mFalse\u001b[0m\u001b[1;33m,\u001b[0m \u001b[0morder\u001b[0m\u001b[1;33m=\u001b[0m\u001b[0morder\u001b[0m\u001b[1;33m)\u001b[0m\u001b[1;33m\u001b[0m\u001b[1;33m\u001b[0m\u001b[0m\n\u001b[0m\u001b[0;32m    539\u001b[0m \u001b[1;33m\u001b[0m\u001b[0m\n",
      "\u001b[1;32mC:\\ProgramData\\Anaconda3\\lib\\site-packages\\pandas\\core\\indexes\\base.py\u001b[0m in \u001b[0;36m__array__\u001b[1;34m(self, dtype)\u001b[0m\n\u001b[0;32m    661\u001b[0m         \"\"\"\n\u001b[1;32m--> 662\u001b[1;33m         \u001b[1;32mreturn\u001b[0m \u001b[0mnp\u001b[0m\u001b[1;33m.\u001b[0m\u001b[0masarray\u001b[0m\u001b[1;33m(\u001b[0m\u001b[0mself\u001b[0m\u001b[1;33m.\u001b[0m\u001b[0m_data\u001b[0m\u001b[1;33m,\u001b[0m \u001b[0mdtype\u001b[0m\u001b[1;33m=\u001b[0m\u001b[0mdtype\u001b[0m\u001b[1;33m)\u001b[0m\u001b[1;33m\u001b[0m\u001b[1;33m\u001b[0m\u001b[0m\n\u001b[0m\u001b[0;32m    663\u001b[0m \u001b[1;33m\u001b[0m\u001b[0m\n",
      "\u001b[1;32mC:\\ProgramData\\Anaconda3\\lib\\site-packages\\numpy\\core\\numeric.py\u001b[0m in \u001b[0;36masarray\u001b[1;34m(a, dtype, order)\u001b[0m\n\u001b[0;32m    537\u001b[0m     \"\"\"\n\u001b[1;32m--> 538\u001b[1;33m     \u001b[1;32mreturn\u001b[0m \u001b[0marray\u001b[0m\u001b[1;33m(\u001b[0m\u001b[0ma\u001b[0m\u001b[1;33m,\u001b[0m \u001b[0mdtype\u001b[0m\u001b[1;33m,\u001b[0m \u001b[0mcopy\u001b[0m\u001b[1;33m=\u001b[0m\u001b[1;32mFalse\u001b[0m\u001b[1;33m,\u001b[0m \u001b[0morder\u001b[0m\u001b[1;33m=\u001b[0m\u001b[0morder\u001b[0m\u001b[1;33m)\u001b[0m\u001b[1;33m\u001b[0m\u001b[1;33m\u001b[0m\u001b[0m\n\u001b[0m\u001b[0;32m    539\u001b[0m \u001b[1;33m\u001b[0m\u001b[0m\n",
      "\u001b[1;31mValueError\u001b[0m: could not convert string to float: 'temperature'",
      "\nDuring handling of the above exception, another exception occurred:\n",
      "\u001b[1;31mValueError\u001b[0m                                Traceback (most recent call last)",
      "\u001b[1;32m<ipython-input-420-f12e31bf73c5>\u001b[0m in \u001b[0;36m<module>\u001b[1;34m\u001b[0m\n\u001b[0;32m      9\u001b[0m       \u001b[0mDecisionTreeRegressor\u001b[0m\u001b[1;33m(\u001b[0m\u001b[0mmax_depth\u001b[0m\u001b[1;33m=\u001b[0m\u001b[0mmax_depth\u001b[0m\u001b[1;33m,\u001b[0m \u001b[0mrandom_state\u001b[0m\u001b[1;33m=\u001b[0m\u001b[1;36m42\u001b[0m\u001b[1;33m)\u001b[0m\u001b[1;33m\u001b[0m\u001b[1;33m\u001b[0m\u001b[0m\n\u001b[0;32m     10\u001b[0m   )\n\u001b[1;32m---> 11\u001b[1;33m   \u001b[0mdt\u001b[0m\u001b[1;33m.\u001b[0m\u001b[0mfit\u001b[0m\u001b[1;33m(\u001b[0m\u001b[0mencoded_columns\u001b[0m\u001b[1;33m,\u001b[0m \u001b[0mtrain_location_temp\u001b[0m\u001b[1;33m)\u001b[0m \u001b[1;31m# train_location instead of X_train originally (2 features)\u001b[0m\u001b[1;33m\u001b[0m\u001b[1;33m\u001b[0m\u001b[0m\n\u001b[0m\u001b[0;32m     12\u001b[0m \u001b[1;33m\u001b[0m\u001b[0m\n\u001b[0;32m     13\u001b[0m  \u001b[1;31m# Display depth & scores\u001b[0m\u001b[1;33m\u001b[0m\u001b[1;33m\u001b[0m\u001b[1;33m\u001b[0m\u001b[0m\n",
      "\u001b[1;32mC:\\ProgramData\\Anaconda3\\lib\\site-packages\\sklearn\\pipeline.py\u001b[0m in \u001b[0;36mfit\u001b[1;34m(self, X, y, **fit_params)\u001b[0m\n\u001b[0;32m    263\u001b[0m             \u001b[0mThis\u001b[0m \u001b[0mestimator\u001b[0m\u001b[1;33m\u001b[0m\u001b[1;33m\u001b[0m\u001b[0m\n\u001b[0;32m    264\u001b[0m         \"\"\"\n\u001b[1;32m--> 265\u001b[1;33m         \u001b[0mXt\u001b[0m\u001b[1;33m,\u001b[0m \u001b[0mfit_params\u001b[0m \u001b[1;33m=\u001b[0m \u001b[0mself\u001b[0m\u001b[1;33m.\u001b[0m\u001b[0m_fit\u001b[0m\u001b[1;33m(\u001b[0m\u001b[0mX\u001b[0m\u001b[1;33m,\u001b[0m \u001b[0my\u001b[0m\u001b[1;33m,\u001b[0m \u001b[1;33m**\u001b[0m\u001b[0mfit_params\u001b[0m\u001b[1;33m)\u001b[0m\u001b[1;33m\u001b[0m\u001b[1;33m\u001b[0m\u001b[0m\n\u001b[0m\u001b[0;32m    266\u001b[0m         \u001b[1;32mif\u001b[0m \u001b[0mself\u001b[0m\u001b[1;33m.\u001b[0m\u001b[0m_final_estimator\u001b[0m \u001b[1;32mis\u001b[0m \u001b[1;32mnot\u001b[0m \u001b[1;32mNone\u001b[0m\u001b[1;33m:\u001b[0m\u001b[1;33m\u001b[0m\u001b[1;33m\u001b[0m\u001b[0m\n\u001b[0;32m    267\u001b[0m             \u001b[0mself\u001b[0m\u001b[1;33m.\u001b[0m\u001b[0m_final_estimator\u001b[0m\u001b[1;33m.\u001b[0m\u001b[0mfit\u001b[0m\u001b[1;33m(\u001b[0m\u001b[0mXt\u001b[0m\u001b[1;33m,\u001b[0m \u001b[0my\u001b[0m\u001b[1;33m,\u001b[0m \u001b[1;33m**\u001b[0m\u001b[0mfit_params\u001b[0m\u001b[1;33m)\u001b[0m\u001b[1;33m\u001b[0m\u001b[1;33m\u001b[0m\u001b[0m\n",
      "\u001b[1;32mC:\\ProgramData\\Anaconda3\\lib\\site-packages\\sklearn\\pipeline.py\u001b[0m in \u001b[0;36m_fit\u001b[1;34m(self, X, y, **fit_params)\u001b[0m\n\u001b[0;32m    228\u001b[0m                 Xt, fitted_transformer = fit_transform_one_cached(\n\u001b[0;32m    229\u001b[0m                     \u001b[0mcloned_transformer\u001b[0m\u001b[1;33m,\u001b[0m \u001b[0mXt\u001b[0m\u001b[1;33m,\u001b[0m \u001b[0my\u001b[0m\u001b[1;33m,\u001b[0m \u001b[1;32mNone\u001b[0m\u001b[1;33m,\u001b[0m\u001b[1;33m\u001b[0m\u001b[1;33m\u001b[0m\u001b[0m\n\u001b[1;32m--> 230\u001b[1;33m                     **fit_params_steps[name])\n\u001b[0m\u001b[0;32m    231\u001b[0m                 \u001b[1;31m# Replace the transformer of the step with the fitted\u001b[0m\u001b[1;33m\u001b[0m\u001b[1;33m\u001b[0m\u001b[1;33m\u001b[0m\u001b[0m\n\u001b[0;32m    232\u001b[0m                 \u001b[1;31m# transformer. This is necessary when loading the transformer\u001b[0m\u001b[1;33m\u001b[0m\u001b[1;33m\u001b[0m\u001b[1;33m\u001b[0m\u001b[0m\n",
      "\u001b[1;32mC:\\ProgramData\\Anaconda3\\lib\\site-packages\\sklearn\\externals\\joblib\\memory.py\u001b[0m in \u001b[0;36m__call__\u001b[1;34m(self, *args, **kwargs)\u001b[0m\n\u001b[0;32m    340\u001b[0m \u001b[1;33m\u001b[0m\u001b[0m\n\u001b[0;32m    341\u001b[0m     \u001b[1;32mdef\u001b[0m \u001b[0m__call__\u001b[0m\u001b[1;33m(\u001b[0m\u001b[0mself\u001b[0m\u001b[1;33m,\u001b[0m \u001b[1;33m*\u001b[0m\u001b[0margs\u001b[0m\u001b[1;33m,\u001b[0m \u001b[1;33m**\u001b[0m\u001b[0mkwargs\u001b[0m\u001b[1;33m)\u001b[0m\u001b[1;33m:\u001b[0m\u001b[1;33m\u001b[0m\u001b[1;33m\u001b[0m\u001b[0m\n\u001b[1;32m--> 342\u001b[1;33m         \u001b[1;32mreturn\u001b[0m \u001b[0mself\u001b[0m\u001b[1;33m.\u001b[0m\u001b[0mfunc\u001b[0m\u001b[1;33m(\u001b[0m\u001b[1;33m*\u001b[0m\u001b[0margs\u001b[0m\u001b[1;33m,\u001b[0m \u001b[1;33m**\u001b[0m\u001b[0mkwargs\u001b[0m\u001b[1;33m)\u001b[0m\u001b[1;33m\u001b[0m\u001b[1;33m\u001b[0m\u001b[0m\n\u001b[0m\u001b[0;32m    343\u001b[0m \u001b[1;33m\u001b[0m\u001b[0m\n\u001b[0;32m    344\u001b[0m     \u001b[1;32mdef\u001b[0m \u001b[0mcall_and_shelve\u001b[0m\u001b[1;33m(\u001b[0m\u001b[0mself\u001b[0m\u001b[1;33m,\u001b[0m \u001b[1;33m*\u001b[0m\u001b[0margs\u001b[0m\u001b[1;33m,\u001b[0m \u001b[1;33m**\u001b[0m\u001b[0mkwargs\u001b[0m\u001b[1;33m)\u001b[0m\u001b[1;33m:\u001b[0m\u001b[1;33m\u001b[0m\u001b[1;33m\u001b[0m\u001b[0m\n",
      "\u001b[1;32mC:\\ProgramData\\Anaconda3\\lib\\site-packages\\sklearn\\pipeline.py\u001b[0m in \u001b[0;36m_fit_transform_one\u001b[1;34m(transformer, X, y, weight, **fit_params)\u001b[0m\n\u001b[0;32m    612\u001b[0m \u001b[1;32mdef\u001b[0m \u001b[0m_fit_transform_one\u001b[0m\u001b[1;33m(\u001b[0m\u001b[0mtransformer\u001b[0m\u001b[1;33m,\u001b[0m \u001b[0mX\u001b[0m\u001b[1;33m,\u001b[0m \u001b[0my\u001b[0m\u001b[1;33m,\u001b[0m \u001b[0mweight\u001b[0m\u001b[1;33m,\u001b[0m \u001b[1;33m**\u001b[0m\u001b[0mfit_params\u001b[0m\u001b[1;33m)\u001b[0m\u001b[1;33m:\u001b[0m\u001b[1;33m\u001b[0m\u001b[1;33m\u001b[0m\u001b[0m\n\u001b[0;32m    613\u001b[0m     \u001b[1;32mif\u001b[0m \u001b[0mhasattr\u001b[0m\u001b[1;33m(\u001b[0m\u001b[0mtransformer\u001b[0m\u001b[1;33m,\u001b[0m \u001b[1;34m'fit_transform'\u001b[0m\u001b[1;33m)\u001b[0m\u001b[1;33m:\u001b[0m\u001b[1;33m\u001b[0m\u001b[1;33m\u001b[0m\u001b[0m\n\u001b[1;32m--> 614\u001b[1;33m         \u001b[0mres\u001b[0m \u001b[1;33m=\u001b[0m \u001b[0mtransformer\u001b[0m\u001b[1;33m.\u001b[0m\u001b[0mfit_transform\u001b[0m\u001b[1;33m(\u001b[0m\u001b[0mX\u001b[0m\u001b[1;33m,\u001b[0m \u001b[0my\u001b[0m\u001b[1;33m,\u001b[0m \u001b[1;33m**\u001b[0m\u001b[0mfit_params\u001b[0m\u001b[1;33m)\u001b[0m\u001b[1;33m\u001b[0m\u001b[1;33m\u001b[0m\u001b[0m\n\u001b[0m\u001b[0;32m    615\u001b[0m     \u001b[1;32melse\u001b[0m\u001b[1;33m:\u001b[0m\u001b[1;33m\u001b[0m\u001b[1;33m\u001b[0m\u001b[0m\n\u001b[0;32m    616\u001b[0m         \u001b[0mres\u001b[0m \u001b[1;33m=\u001b[0m \u001b[0mtransformer\u001b[0m\u001b[1;33m.\u001b[0m\u001b[0mfit\u001b[0m\u001b[1;33m(\u001b[0m\u001b[0mX\u001b[0m\u001b[1;33m,\u001b[0m \u001b[0my\u001b[0m\u001b[1;33m,\u001b[0m \u001b[1;33m**\u001b[0m\u001b[0mfit_params\u001b[0m\u001b[1;33m)\u001b[0m\u001b[1;33m.\u001b[0m\u001b[0mtransform\u001b[0m\u001b[1;33m(\u001b[0m\u001b[0mX\u001b[0m\u001b[1;33m)\u001b[0m\u001b[1;33m\u001b[0m\u001b[1;33m\u001b[0m\u001b[0m\n",
      "\u001b[1;32mC:\\ProgramData\\Anaconda3\\lib\\site-packages\\sklearn\\base.py\u001b[0m in \u001b[0;36mfit_transform\u001b[1;34m(self, X, y, **fit_params)\u001b[0m\n\u001b[0;32m    465\u001b[0m         \u001b[1;32melse\u001b[0m\u001b[1;33m:\u001b[0m\u001b[1;33m\u001b[0m\u001b[1;33m\u001b[0m\u001b[0m\n\u001b[0;32m    466\u001b[0m             \u001b[1;31m# fit method of arity 2 (supervised transformation)\u001b[0m\u001b[1;33m\u001b[0m\u001b[1;33m\u001b[0m\u001b[1;33m\u001b[0m\u001b[0m\n\u001b[1;32m--> 467\u001b[1;33m             \u001b[1;32mreturn\u001b[0m \u001b[0mself\u001b[0m\u001b[1;33m.\u001b[0m\u001b[0mfit\u001b[0m\u001b[1;33m(\u001b[0m\u001b[0mX\u001b[0m\u001b[1;33m,\u001b[0m \u001b[0my\u001b[0m\u001b[1;33m,\u001b[0m \u001b[1;33m**\u001b[0m\u001b[0mfit_params\u001b[0m\u001b[1;33m)\u001b[0m\u001b[1;33m.\u001b[0m\u001b[0mtransform\u001b[0m\u001b[1;33m(\u001b[0m\u001b[0mX\u001b[0m\u001b[1;33m)\u001b[0m\u001b[1;33m\u001b[0m\u001b[1;33m\u001b[0m\u001b[0m\n\u001b[0m\u001b[0;32m    468\u001b[0m \u001b[1;33m\u001b[0m\u001b[0m\n\u001b[0;32m    469\u001b[0m \u001b[1;33m\u001b[0m\u001b[0m\n",
      "\u001b[1;32mC:\\ProgramData\\Anaconda3\\lib\\site-packages\\sklearn\\impute.py\u001b[0m in \u001b[0;36mfit\u001b[1;34m(self, X, y)\u001b[0m\n\u001b[0;32m    221\u001b[0m         \u001b[0mself\u001b[0m \u001b[1;33m:\u001b[0m \u001b[0mSimpleImputer\u001b[0m\u001b[1;33m\u001b[0m\u001b[1;33m\u001b[0m\u001b[0m\n\u001b[0;32m    222\u001b[0m         \"\"\"\n\u001b[1;32m--> 223\u001b[1;33m         \u001b[0mX\u001b[0m \u001b[1;33m=\u001b[0m \u001b[0mself\u001b[0m\u001b[1;33m.\u001b[0m\u001b[0m_validate_input\u001b[0m\u001b[1;33m(\u001b[0m\u001b[0mX\u001b[0m\u001b[1;33m)\u001b[0m\u001b[1;33m\u001b[0m\u001b[1;33m\u001b[0m\u001b[0m\n\u001b[0m\u001b[0;32m    224\u001b[0m \u001b[1;33m\u001b[0m\u001b[0m\n\u001b[0;32m    225\u001b[0m         \u001b[1;31m# default fill_value is 0 for numerical input and \"missing_value\"\u001b[0m\u001b[1;33m\u001b[0m\u001b[1;33m\u001b[0m\u001b[1;33m\u001b[0m\u001b[0m\n",
      "\u001b[1;32mC:\\ProgramData\\Anaconda3\\lib\\site-packages\\sklearn\\impute.py\u001b[0m in \u001b[0;36m_validate_input\u001b[1;34m(self, X)\u001b[0m\n\u001b[0;32m    193\u001b[0m                 raise ValueError(\"Cannot use {0} strategy with non-numeric \"\n\u001b[0;32m    194\u001b[0m                                  \u001b[1;34m\"data. Received datatype :{1}.\"\u001b[0m\u001b[1;33m\u001b[0m\u001b[1;33m\u001b[0m\u001b[0m\n\u001b[1;32m--> 195\u001b[1;33m                                  \"\".format(self.strategy, X.dtype.kind))\n\u001b[0m\u001b[0;32m    196\u001b[0m             \u001b[1;32melse\u001b[0m\u001b[1;33m:\u001b[0m\u001b[1;33m\u001b[0m\u001b[1;33m\u001b[0m\u001b[0m\n\u001b[0;32m    197\u001b[0m                 \u001b[1;32mraise\u001b[0m \u001b[0mve\u001b[0m\u001b[1;33m\u001b[0m\u001b[1;33m\u001b[0m\u001b[0m\n",
      "\u001b[1;31mValueError\u001b[0m: Cannot use mean strategy with non-numeric data. Received datatype :O."
     ]
    }
   ],
   "source": [
    "from IPython.display import display, HTML\n",
    "import graphviz\n",
    "from sklearn.tree import export_graphviz\n",
    "\n",
    "for max_depth in range(4, 20):\n",
    "  # Fit decision tree\n",
    "  dt = make_pipeline(\n",
    "      SimpleImputer(),\n",
    "      DecisionTreeRegressor(max_depth=max_depth, random_state=42)\n",
    "  )\n",
    "  dt.fit(encoded_columns, train_location_temp) # train_location instead of X_train originally (2 features)\n",
    "\n",
    " # Display depth & scores\n",
    "  display(HTML(f'Max Depth {max_depth}'))\n",
    "  display(HTML(f'Train Accuracy {dt.score(train_location_temp, y_train):.2f}'))\n",
    "  display(HTML(f'Validation Accuracy {dt.score(val_location_temp, y_val):.2f}'))\n",
    "\n",
    "  # # Plot heatmap of predicted probabilities\n",
    "  # pred_heatmap(dt, X_train, features, class_index=0, title='Predicted probability')"
   ]
  },
  {
   "cell_type": "markdown",
   "metadata": {
    "id": "OfzF7nP8cE4n"
   },
   "source": [
    "# Planlegging"
   ]
  },
  {
   "cell_type": "code",
   "execution_count": null,
   "metadata": {
    "id": "fUU26k1qcGaR"
   },
   "outputs": [],
   "source": [
    "1. Gå gjennom alt av data og finner ut hva det betyr\n",
    "2. Clean data\n",
    "3. Sett data i rekkefølge (tid) - Se sammenheng mellom datapunktene.\n",
    "4. Planlegg: Hvilke muligheter for modellering har vi?\n",
    "5. Velg appropriate mulighet\n",
    "6. Wrangle data\n",
    "7. kjør modell"
   ]
  },
  {
   "cell_type": "code",
   "execution_count": null,
   "metadata": {
    "id": "ScpZocXu1Ezc"
   },
   "outputs": [],
   "source": [
    "Er det noe poeng i å lage graphs?\n",
    "- Tror ikke det er noe vits i før jeg har laget dataframes av EF+/Rocky, Wind Power Export\n",
    "-- Så kan vi graphe de.\n",
    "\n",
    "- Er det interessant å graphe tidsdata?\n",
    "- Fra initial analyse ser det ut som columns som:\n",
    "-- log_application, log_text, log_id, lvl_id, log_attlen, log_text\n",
    "--- Er ikke interessant å graphe."
   ]
  },
  {
   "cell_type": "code",
   "execution_count": null,
   "metadata": {
    "id": "YBZ11S9vzmkF"
   },
   "outputs": [],
   "source": [
    "Tanker:\n",
    "Ser ut som alle RockyII trades er logget i IndexMgmt og executed i EF+.\n",
    "Derfor: sjekk med et større dataset om å scrape data fra EF+ gir nok info fra RockyII trades\n",
    "\n",
    "Vi kan dermed bruke:\n",
    "+ Wind Power Import tallene fra Sverige\n",
    "+ EF+ tallene\n",
    "+ Nord Pool tall fra eksternt dataset\n",
    "= til en neural network modell som predikerer pris for neste dag.\n",
    "\n",
    "Hva trenger jeg for å få det til?\n",
    "- Sjekk om nødvendig info er i EF+\n",
    "-- Gjør analyse av 100k row dataset.\n",
    "--- Sjekk om alle RockyII trades er i EF+\n",
    "-- Hvis ikke: scrape data fra RockyII\n",
    "--- Put i dataframe, concat RockyII_DF med DF\n",
    "- Scrape Wind Power Import tall\n",
    "-- Split på \"Sender til Powel\", så ha 3 columns, for Production, temp, wind speed.\n",
    "- Import Nord Pool pris dataset\n",
    "-- Merge på date\n",
    "-- Klar til modell?"
   ]
  }
 ],
 "metadata": {
  "colab": {
   "collapsed_sections": [],
   "name": "MKraft_Exploratory.ipynb",
   "provenance": []
  },
  "kernelspec": {
   "display_name": "Python 3",
   "language": "python",
   "name": "python3"
  },
  "language_info": {
   "codemirror_mode": {
    "name": "ipython",
    "version": 3
   },
   "file_extension": ".py",
   "mimetype": "text/x-python",
   "name": "python",
   "nbconvert_exporter": "python",
   "pygments_lexer": "ipython3",
   "version": "3.7.3"
  }
 },
 "nbformat": 4,
 "nbformat_minor": 2
}
